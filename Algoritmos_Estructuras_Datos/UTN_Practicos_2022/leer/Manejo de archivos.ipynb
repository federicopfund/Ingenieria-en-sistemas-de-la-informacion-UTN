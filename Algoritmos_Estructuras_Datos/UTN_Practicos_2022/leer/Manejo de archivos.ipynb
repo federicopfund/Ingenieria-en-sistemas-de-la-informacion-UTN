{
 "cells": [
  {
   "cell_type": "markdown",
   "id": "4a091693",
   "metadata": {},
   "source": [
    "# Manejo de ficheros\n",
    "\n",
    "\n",
    "## ¿Qué es fichero o archivo?\n",
    "\n",
    "Un fichero es un conjunto de bits almacenados en un dispositivo de memoria persistente, normalmente un disco duro. Este conjunto de información se identifica con un **nombre** (el nombre del fichero) y la dirección de la carpeta o directorio que lo contiene. Todos los ficheros se localizan en un directorio determinado que se conoce como la **ruta del fichero**.\n",
    "\n",
    "Además, normalmente los ficheros tienen una extensión, que es un código que se escribe después del nombre, con un punto y varios caracteres. La extensión nos permite identificar varios ficheros de un mismo tipo.\n",
    "\n",
    "\n",
    "## Operaciones básicas\n",
    "\n",
    "* **Creación**: Proceso por el cual creamos un fichero en el disco.\n",
    "* **Apertura**: Proceso por el cual abrimos un fichero del disco para comenzar a trabajar.\n",
    "* **Cierre**: Proceso por el cual cerramos un fichero para dejar de trabajar con él.\n",
    "* **Extensión**: Proceso por el cual añadimos información al fichero.\n",
    "\n",
    "\n",
    "## Puntero\n",
    "\n",
    "Apunta a una ubicación del fichero para leer y/o escribir.\n",
    "\n",
    "\n",
    "## Ficheros de textos y binarios\n",
    "\n",
    "Los ficheros pueden ser tratados como archivos de texto (contienen texto plano y pueden leerse facilmente con cualquier editor) o binarios, como archivos de música, videos o imágenes.\n",
    "\n",
    "## Modos de apertura\n",
    "\n",
    "- **r**: lectura. Pone el puntero al comienzo del fichero. Modo por default.\n",
    "- **r+**: lectura y escritura. El puntero es colocado al comienzo del archivo.\n",
    "- **w**: Apertura para escritura solamente. Si el archivo existe, su contenido será sobreesrito, si no lo crea.\n",
    "- **w+**: Apertura para escritura y lectura. Si el archivo existe, su contenido será sobreesrito, si no lo crea.\n",
    "- **rb**: Apertura para lectura en modo binario. Pone el puntero al comienzo del fichero.\n",
    "- **rb+**: Apertura para lectura y escritura en modo binario.\n",
    "- **wb+**: Como rb+ pero sobreescribiendo el contenido si el archivo existe.\n",
    "- **a**: Apertura del fichero para extensión (append), ubicando el puntero al final del fichero. Si el fichero no existe, lo crea para escritura.\n",
    "- **ab**: como en **a** pero en modo binario.\n",
    "- **a+**: apertura del fichero para extensión (append) y lectura. Si el fichero existe, ubica el puntero al final. Si no existe, lo crea para lectura y escritura.\n",
    "- **ab+**: igual a **a+** pero en modo binario.\n",
    "- **x**: abre un fichero exclusivamente para escritura, fallando si existe. (Python3)"
   ]
  },
  {
   "cell_type": "code",
   "execution_count": 1,
   "id": "2c80f30d",
   "metadata": {},
   "outputs": [
    {
     "name": "stdout",
     "output_type": "stream",
     "text": [
      " clase_1.ipynb               martinfierro.txt       \u001b[0m\u001b[01;35mqr_telegram.png\u001b[0m\r\n",
      " clase_2.ipynb               mi_coleccion.pkl       \u001b[01;34mrepositorio\u001b[0m/\r\n",
      " Funciones.ipynb             Notebook_clase_1.pdf   \u001b[01;34mTPs\u001b[0m/\r\n",
      " Funciones.pdf               Notebook_clase_2.pdf   Untitled.ipynb\r\n",
      "'Manejo de archivos.ipynb'  \u001b[01;34m'Para revisar'\u001b[0m/\r\n"
     ]
    }
   ],
   "source": [
    "!ls"
   ]
  },
  {
   "cell_type": "markdown",
   "id": "703c80e0",
   "metadata": {},
   "source": [
    "# Función open\n",
    "\n",
    "Exploremos el manejo de ficheros antes descripto usando el lenguaje"
   ]
  },
  {
   "cell_type": "code",
   "execution_count": 2,
   "id": "4ee14e73",
   "metadata": {},
   "outputs": [],
   "source": [
    "texto = \"Aquí me pongo a cantar\\nal compás de la vigüela,\\nque el hombre que lo desvela\\nuna pena estrordinaria,\\ncomo la ave solitaria\\ncon el cantar se consuela.\"\n",
    "\n",
    "# Usando open, indicamos ruta/nombre, y el modo de apertura\n",
    "mf = open('martinfierro.txt','w')\n",
    "\n",
    "mf.write(texto)\n",
    "\n",
    "mf.close()"
   ]
  },
  {
   "cell_type": "code",
   "execution_count": 3,
   "id": "3073ae4a",
   "metadata": {},
   "outputs": [
    {
     "name": "stdout",
     "output_type": "stream",
     "text": [
      " clase_1.ipynb               martinfierro.txt       \u001b[0m\u001b[01;35mqr_telegram.png\u001b[0m\r\n",
      " clase_2.ipynb               mi_coleccion.pkl       \u001b[01;34mrepositorio\u001b[0m/\r\n",
      " Funciones.ipynb             Notebook_clase_1.pdf   \u001b[01;34mTPs\u001b[0m/\r\n",
      " Funciones.pdf               Notebook_clase_2.pdf   Untitled.ipynb\r\n",
      "'Manejo de archivos.ipynb'  \u001b[01;34m'Para revisar'\u001b[0m/\r\n"
     ]
    }
   ],
   "source": [
    "!ls"
   ]
  },
  {
   "cell_type": "code",
   "execution_count": 4,
   "id": "d5ed5e1f",
   "metadata": {},
   "outputs": [
    {
     "name": "stdout",
     "output_type": "stream",
     "text": [
      "Aquí me pongo a cantar\n",
      "al compás de la vigüela,\n",
      "que el hombre que lo desvela\n",
      "una pena estrordinaria,\n",
      "como la ave solitaria\n",
      "con el cantar se consuela.\n"
     ]
    }
   ],
   "source": [
    "mfr = open(\"martinfierro.txt\", \"r\")\n",
    "texto2 = mfr.read()\n",
    "mfr.close()\n",
    "\n",
    "print(texto2)"
   ]
  },
  {
   "cell_type": "code",
   "execution_count": 5,
   "id": "07784bc7",
   "metadata": {},
   "outputs": [
    {
     "name": "stdout",
     "output_type": "stream",
     "text": [
      "['Aquí me pongo a cantar\\n', 'al compás de la vigüela,\\n', 'que el hombre que lo desvela\\n', 'una pena estrordinaria,\\n', 'como la ave solitaria\\n', 'con el cantar se consuela.']\n"
     ]
    }
   ],
   "source": [
    "# usando readlines, obtenemos una lista con cada lines de texto del archivo\n",
    "mfr = open(\"martinfierro.txt\", \"r\")\n",
    "texto2 = mfr.readlines()\n",
    "mfr.close()\n",
    "\n",
    "print(texto2)"
   ]
  },
  {
   "cell_type": "code",
   "execution_count": 6,
   "id": "cf23be9a",
   "metadata": {},
   "outputs": [
    {
     "name": "stdout",
     "output_type": "stream",
     "text": [
      "Aquí me pongo a cantar\n",
      "\n"
     ]
    }
   ],
   "source": [
    "# con readline, leemos una sola linea\n",
    "mfr = open(\"martinfierro.txt\", \"r\")\n",
    "texto3 = mfr.readline()\n",
    "mfr.close()\n",
    "\n",
    "print(texto3)"
   ]
  },
  {
   "cell_type": "code",
   "execution_count": 7,
   "id": "4854c0e1",
   "metadata": {},
   "outputs": [],
   "source": [
    "f = open(\"martinfierro.txt\", \"a\")\n",
    "f.write(\"\\nJosé Hernandez\")\n",
    "f.close()"
   ]
  },
  {
   "cell_type": "code",
   "execution_count": 8,
   "id": "ed096330",
   "metadata": {},
   "outputs": [
    {
     "name": "stdout",
     "output_type": "stream",
     "text": [
      "Aquí me pongo a cantar\n",
      "al compás de la vigüela,\n",
      "que el hombre que lo desvela\n",
      "una pena estrordinaria,\n",
      "como la ave solitaria\n",
      "con el cantar se consuela.\n",
      "José Hernandez\n"
     ]
    }
   ],
   "source": [
    "f = open(\"martinfierro.txt\", \"r\")\n",
    "print(f.read())"
   ]
  },
  {
   "cell_type": "code",
   "execution_count": 9,
   "id": "2d559971",
   "metadata": {},
   "outputs": [
    {
     "name": "stdout",
     "output_type": "stream",
     "text": [
      "\n"
     ]
    }
   ],
   "source": [
    "print(f.read())"
   ]
  },
  {
   "cell_type": "code",
   "execution_count": 10,
   "id": "2d2c90bd",
   "metadata": {},
   "outputs": [
    {
     "name": "stdout",
     "output_type": "stream",
     "text": [
      "Aquí me pongo a cantar\n",
      "\n",
      "ongo a cantar\n",
      "\n"
     ]
    }
   ],
   "source": [
    "f.seek(0)\n",
    "print(f.readline())\n",
    "f.seek(10)\n",
    "print(f.readline())"
   ]
  },
  {
   "cell_type": "markdown",
   "id": "d8ed8fda",
   "metadata": {},
   "source": [
    "## Archivos binarios (bytes)"
   ]
  },
  {
   "cell_type": "code",
   "execution_count": 11,
   "id": "a3bf39c4",
   "metadata": {},
   "outputs": [],
   "source": [
    "import pickle"
   ]
  },
  {
   "cell_type": "code",
   "execution_count": 12,
   "id": "079bf195",
   "metadata": {},
   "outputs": [],
   "source": [
    "mi_coleccion = [1837426, \"Hola Mundo\", False, 0.665421]"
   ]
  },
  {
   "cell_type": "code",
   "execution_count": 13,
   "id": "6701d1de",
   "metadata": {},
   "outputs": [
    {
     "name": "stdout",
     "output_type": "stream",
     "text": [
      "[1837426, 'Hola Mundo', False, 0.665421] <class 'list'>\n"
     ]
    }
   ],
   "source": [
    "print(mi_coleccion, type(mi_coleccion))"
   ]
  },
  {
   "cell_type": "code",
   "execution_count": 14,
   "id": "d373d17f",
   "metadata": {},
   "outputs": [],
   "source": [
    "fb = open(\"mi_coleccion.pkl\", \"wb\")"
   ]
  },
  {
   "cell_type": "code",
   "execution_count": 15,
   "id": "f0258c92",
   "metadata": {},
   "outputs": [],
   "source": [
    "pickle.dump(mi_coleccion, fb)"
   ]
  },
  {
   "cell_type": "code",
   "execution_count": 16,
   "id": "9ad9ff5d",
   "metadata": {},
   "outputs": [],
   "source": [
    "fb.close()"
   ]
  },
  {
   "cell_type": "code",
   "execution_count": 17,
   "id": "866fc46f",
   "metadata": {},
   "outputs": [
    {
     "ename": "UnicodeDecodeError",
     "evalue": "'utf-8' codec can't decode byte 0x80 in position 0: invalid start byte",
     "output_type": "error",
     "traceback": [
      "\u001b[0;31m---------------------------------------------------------------------------\u001b[0m",
      "\u001b[0;31mUnicodeDecodeError\u001b[0m                        Traceback (most recent call last)",
      "Input \u001b[0;32mIn [17]\u001b[0m, in \u001b[0;36m<cell line: 2>\u001b[0;34m()\u001b[0m\n\u001b[1;32m      1\u001b[0m f \u001b[38;5;241m=\u001b[39m \u001b[38;5;28mopen\u001b[39m(\u001b[38;5;124m\"\u001b[39m\u001b[38;5;124mmi_coleccion.pkl\u001b[39m\u001b[38;5;124m\"\u001b[39m, \u001b[38;5;124m\"\u001b[39m\u001b[38;5;124mr\u001b[39m\u001b[38;5;124m\"\u001b[39m)\n\u001b[0;32m----> 2\u001b[0m \u001b[38;5;28mprint\u001b[39m(\u001b[43mf\u001b[49m\u001b[38;5;241;43m.\u001b[39;49m\u001b[43mread\u001b[49m\u001b[43m(\u001b[49m\u001b[43m)\u001b[49m)\n\u001b[1;32m      3\u001b[0m f\u001b[38;5;241m.\u001b[39mclose()\n",
      "File \u001b[0;32m/usr/lib/python3.10/codecs.py:322\u001b[0m, in \u001b[0;36mBufferedIncrementalDecoder.decode\u001b[0;34m(self, input, final)\u001b[0m\n\u001b[1;32m    319\u001b[0m \u001b[38;5;28;01mdef\u001b[39;00m \u001b[38;5;21mdecode\u001b[39m(\u001b[38;5;28mself\u001b[39m, \u001b[38;5;28minput\u001b[39m, final\u001b[38;5;241m=\u001b[39m\u001b[38;5;28;01mFalse\u001b[39;00m):\n\u001b[1;32m    320\u001b[0m     \u001b[38;5;66;03m# decode input (taking the buffer into account)\u001b[39;00m\n\u001b[1;32m    321\u001b[0m     data \u001b[38;5;241m=\u001b[39m \u001b[38;5;28mself\u001b[39m\u001b[38;5;241m.\u001b[39mbuffer \u001b[38;5;241m+\u001b[39m \u001b[38;5;28minput\u001b[39m\n\u001b[0;32m--> 322\u001b[0m     (result, consumed) \u001b[38;5;241m=\u001b[39m \u001b[38;5;28;43mself\u001b[39;49m\u001b[38;5;241;43m.\u001b[39;49m\u001b[43m_buffer_decode\u001b[49m\u001b[43m(\u001b[49m\u001b[43mdata\u001b[49m\u001b[43m,\u001b[49m\u001b[43m \u001b[49m\u001b[38;5;28;43mself\u001b[39;49m\u001b[38;5;241;43m.\u001b[39;49m\u001b[43merrors\u001b[49m\u001b[43m,\u001b[49m\u001b[43m \u001b[49m\u001b[43mfinal\u001b[49m\u001b[43m)\u001b[49m\n\u001b[1;32m    323\u001b[0m     \u001b[38;5;66;03m# keep undecoded input until the next call\u001b[39;00m\n\u001b[1;32m    324\u001b[0m     \u001b[38;5;28mself\u001b[39m\u001b[38;5;241m.\u001b[39mbuffer \u001b[38;5;241m=\u001b[39m data[consumed:]\n",
      "\u001b[0;31mUnicodeDecodeError\u001b[0m: 'utf-8' codec can't decode byte 0x80 in position 0: invalid start byte"
     ]
    }
   ],
   "source": [
    "f = open(\"mi_coleccion.pkl\", \"r\")\n",
    "print(f.read())\n",
    "f.close()"
   ]
  },
  {
   "cell_type": "code",
   "execution_count": null,
   "id": "84fb6ed8",
   "metadata": {},
   "outputs": [],
   "source": [
    "f = open(\"mi_coleccion.pkl\", \"rb\")\n",
    "print(f.read())\n",
    "f.close()"
   ]
  },
  {
   "cell_type": "code",
   "execution_count": null,
   "id": "1087a52c",
   "metadata": {},
   "outputs": [],
   "source": [
    "f = open(\"mi_coleccion.pkl\", \"rb\")\n",
    "print(pickle.load(f))\n",
    "f.close()"
   ]
  },
  {
   "cell_type": "code",
   "execution_count": null,
   "id": "72ed3e77",
   "metadata": {},
   "outputs": [],
   "source": [
    "# podemos usar with para abrir un archivo, con la ventaja de que no tenemos que cerrarlo, ya que lo hará al finalizar el with\n",
    "with open(\"martinfierro.txt\", \"r\") as fichero:\n",
    "    for linea in fichero:\n",
    "        print(linea)"
   ]
  }
 ],
 "metadata": {
  "kernelspec": {
   "display_name": "Python 3 (ipykernel)",
   "language": "python",
   "name": "python3"
  },
  "language_info": {
   "codemirror_mode": {
    "name": "ipython",
    "version": 3
   },
   "file_extension": ".py",
   "mimetype": "text/x-python",
   "name": "python",
   "nbconvert_exporter": "python",
   "pygments_lexer": "ipython3",
   "version": "3.10.4"
  }
 },
 "nbformat": 4,
 "nbformat_minor": 5
}
