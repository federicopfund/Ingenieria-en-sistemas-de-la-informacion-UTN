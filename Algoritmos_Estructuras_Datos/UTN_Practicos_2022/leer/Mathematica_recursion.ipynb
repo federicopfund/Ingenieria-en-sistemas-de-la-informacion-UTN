{
 "cells": [
  {
   "cell_type": "markdown",
   "metadata": {},
   "source": [
    "                                                          Mathematica Wolfram Language"
   ]
  },
  {
   "cell_type": "code",
   "execution_count": 1,
   "metadata": {
    "vscode": {
     "languageId": "plaintext"
    }
   },
   "outputs": [
    {
     "data": {
      "text/html": [
       "<div><pre style=\"&#102;&#111;&#110;&#116;&#45;&#102;&#97;&#109;&#105;&#108;&#121;&#58;&#32;&#34;&#67;&#111;&#117;&#114;&#105;&#101;&#114;&#32;&#78;&#101;&#119;&#34;&#44;&#67;&#111;&#117;&#114;&#105;&#101;&#114;&#44;&#109;&#111;&#110;&#111;&#115;&#112;&#97;&#99;&#101;&#59;\">&#51;&#54;&#50;&#56;&#56;&#48;&#48;</pre></div>"
      ],
      "text/plain": [
       "3628800"
      ]
     },
     "execution_count": 1,
     "metadata": {
      "text/html": [],
      "text/plain": []
     },
     "output_type": "execute_result"
    }
   ],
   "source": [
    " Function[If[#1 == 1, 1, #1*#0[#1 - 1]]][10]"
   ]
  },
  {
   "cell_type": "code",
   "execution_count": 2,
   "metadata": {
    "vscode": {
     "languageId": "plaintext"
    }
   },
   "outputs": [
    {
     "data": {
      "text/html": [
       "<div><pre style=\"&#102;&#111;&#110;&#116;&#45;&#102;&#97;&#109;&#105;&#108;&#121;&#58;&#32;&#34;&#67;&#111;&#117;&#114;&#105;&#101;&#114;&#32;&#78;&#101;&#119;&#34;&#44;&#67;&#111;&#117;&#114;&#105;&#101;&#114;&#44;&#109;&#111;&#110;&#111;&#115;&#112;&#97;&#99;&#101;&#59;\">&#123;&#49;&#44;&#32;&#50;&#44;&#32;&#54;&#44;&#32;&#50;&#52;&#44;&#32;&#49;&#50;&#48;&#44;&#32;&#55;&#50;&#48;&#44;&#32;&#53;&#48;&#52;&#48;&#44;&#32;&#52;&#48;&#51;&#50;&#48;&#44;&#32;&#51;&#54;&#50;&#56;&#56;&#48;&#44;&#32;&#51;&#54;&#50;&#56;&#56;&#48;&#48;&#125;</pre></div>"
      ],
      "text/plain": [
       "{1, 2, 6, 24, 120, 720, 5040, 40320, 362880, 3628800}"
      ]
     },
     "execution_count": 2,
     "metadata": {
      "text/html": [],
      "text/plain": []
     },
     "output_type": "execute_result"
    }
   ],
   "source": [
    "RecurrenceTable[\n",
    " f[k] == k f[k - 1] && f[1] == 1, f, {k, 1, 10}]"
   ]
  },
  {
   "cell_type": "code",
   "execution_count": 3,
   "metadata": {
    "vscode": {
     "languageId": "plaintext"
    }
   },
   "outputs": [
    {
     "data": {
      "text/html": [
       "<div><pre style=\"&#102;&#111;&#110;&#116;&#45;&#102;&#97;&#109;&#105;&#108;&#121;&#58;&#32;&#34;&#67;&#111;&#117;&#114;&#105;&#101;&#114;&#32;&#78;&#101;&#119;&#34;&#44;&#67;&#111;&#117;&#114;&#105;&#101;&#114;&#44;&#109;&#111;&#110;&#111;&#115;&#112;&#97;&#99;&#101;&#59;\">&#123;&#49;&#44;&#32;&#50;&#44;&#32;&#54;&#44;&#32;&#50;&#52;&#44;&#32;&#49;&#50;&#48;&#44;&#32;&#55;&#50;&#48;&#44;&#32;&#53;&#48;&#52;&#48;&#44;&#32;&#52;&#48;&#51;&#50;&#48;&#44;&#32;&#51;&#54;&#50;&#56;&#56;&#48;&#44;&#32;&#51;&#54;&#50;&#56;&#56;&#48;&#48;&#125;</pre></div>"
      ],
      "text/plain": [
       "{1, 2, 6, 24, 120, 720, 5040, 40320, 362880, 3628800}"
      ]
     },
     "execution_count": 3,
     "metadata": {
      "text/html": [],
      "text/plain": []
     },
     "output_type": "execute_result"
    }
   ],
   "source": [
    "Rest@NestList[{1, 0} + First@# {1, Last@#} &, {1, 1}, 10][[All, -1]]"
   ]
  },
  {
   "cell_type": "code",
   "execution_count": 39,
   "metadata": {
    "vscode": {
     "languageId": "plaintext"
    }
   },
   "outputs": [],
   "source": [
    "expr2 := (((3x+1/2x-1)/3r**2x)/e**Randon[10])"
   ]
  },
  {
   "cell_type": "code",
   "execution_count": 40,
   "metadata": {
    "vscode": {
     "languageId": "plaintext"
    }
   },
   "outputs": [
    {
     "data": {
      "text/html": [
       "<div><img alt=\"Output\" src=\"data:image/png;base64,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\"></div>"
      ],
      "text/plain": [
       "FunctionRepository`$d087e7992e5c42bcbcc1d1d788eb4549`FromRecursiveRewrite[\n",
       " \n",
       ">   |\n",
       "          1\n",
       "    Times[-, x, |                    , |                                               , \n",
       "          3     Plus[-1, |          ]  Power[|                                    , -1]\n",
       "                               7             NonCommutativeMultiply[e, |         ]\n",
       "                         Times[-, x]                                   Randon[10]\n",
       "                               2\n",
       "     \n",
       "    >   |                           ]\n",
       "        NonCommutativeMultiply[r, 2]\n",
       " \n",
       ">    ]"
      ]
     },
     "execution_count": 40,
     "metadata": {
      "text/html": [],
      "text/plain": []
     },
     "output_type": "execute_result"
    }
   ],
   "source": [
    "TreeForm[ResourceFunction[\"FromRecursiveRewrite\"][expr2]]"
   ]
  },
  {
   "cell_type": "code",
   "execution_count": 41,
   "metadata": {
    "vscode": {
     "languageId": "plaintext"
    }
   },
   "outputs": [
    {
     "data": {
      "text/html": [
       "<div><img alt=\"Output\" src=\"data:image/png;base64,iVBORw0KGgoAAAANSUhEUgAAAWgAAABuCAIAAACFqR4rAAAA0XpUWHRSYXcgcHJvZmlsZSB0eXBlIGV4aWYAAHjadU9BDsMwCLvnFXsCAWKS56RrKu0He/6gSaV10iwFG8sQkcb7daRHgDMlLVbRAHJo08bdRaWJyZnaWU+gLpXvfsKYIne3ytfA5W933zCZ688i4ikkfnAtugbWIuHp5z77beW513pbdOzHiXUM6XVW/tOLMQqyqVdlMkNzXZNLJxSmYjjwBDyYsTPp03nAzMdgkZAegwEedk+PBHFjjxMkHkt3hlf2r6cbWr0WUd69lzMT53wAvAtceShLAYQAAAAJcEhZcwAACxMAAAsTAQCanBgAAAA8dEVYdFNvZnR3YXJlAENyZWF0ZWQgd2l0aCB0aGUgV29sZnJhbSBMYW5ndWFnZSA6IHd3dy53b2xmcmFtLmNvbVyipoUAAAAhdEVYdENyZWF0aW9uIFRpbWUAMjAyMjowNjoyNyAyMDoyNDo1NDV3gZUAABqfSURBVHic7Z15XBNn+sDfnCQkhASQgAYhgGK1iuUQFBHUurTi1p5atdrfbrs91trt4Wq7u73Wdnusbdd229ra1lpbW7VVW6VC1bYUPBCJcgnhCkoQEggTAiHH5Ng/XpfNDwVyTGZyvN+/SD5h5nnfZ+b7vjOTPC/NbrcDBAKBcAU61QEgEAj/A4kDgUC4DBIHAoFwGSQOBALhMkgcCATCZZA4EAiEyzCpDgDhi5SWlu764ivcjK9bu2rJzTdTHQ7C50DiQIxEJpN98MmerPxlDAZz994jOI4vvfVWqoNC+BboUgUxkq/3fXtjxoIJ4okRUdEZ8wu++vobqiNC+BxoxoG4ilKlbWpXNV9Sn2/szJkwBb5ptVrar2DvfvlLSoJ4SvwEqSSK2iARPgINfeU8mBmWhbxdFRnOm5ognhIfTTP3v/7mtunpeQwGs+bsz48+eF/UxCR5u6r5Uo+yG5sSH40kgkDiCDquK4uUBDGXwxr+jFwu/2Tn5yaT6f61q9PS0obfxy1W+I9IIkEOEkdQ4IwsXAVJJJhB4ghYvCGL0UASCTaQOAIKMmUxGkgiwQASh9/jC7IYDSSRQAWJwy/xZVmMBpJIIIHE4Tf4oyxGA0nE30Hi8GkCSRajgSTijyBx+BzBIIvRQBLxF5A4fIJglsVoIIn4MkgclIFk4TxIIr4GEgepIFl4DpKIL4DE4XWQLLwHkghVIHF4BSQL8kESIRMkDsJAsvAdkES8DRKHRyBZ+D5IIt4AicNlkCz8FyQRokDiuIparVapVBKJRCQSDb+p6dd/UyLLmiWNEvGRLAKM0STC5bD3l8juuHm2RCwc/rBer29raxOJRBKJhMKYfQckDgAAKCk5tmPnblZIqBU3bHpqQ0ZGhsGIF5+s/7miyWjGbTabdFIUkkUA4yiRlktqi9UWwmbmpicvy7tRwOcqFIpn//YSjckxGgZX3HnbqntXUB0v9SBxAKVS+dTm55eueIjJZJmMhqKv339w/abjZ1sMRhx+YEp89IY1+Swmg9o4EeSwp6iyrKoF/s1iMgpypn/58ZvZN6+IiIoGABz9dueGh+7Lzs6mNEbqQVXOgVwuF4iimUwWACCEww0JFcRFMt7adDfVcSGoYXVh5urCzOGXGIa9rxuA1gAAiCVJF6prkDiCfV0V3GJV6UDXlQ740mLBu7q6u7QWaqNC+A6XVHrtwJB+UAdf9vV0XdHadIMGaqOinOC9VMEt1rKqlp8q5KkpEkxZ8+PxXyImTOpTd6xceY+BEd3UrirMu3FuaiLVYSIo40Kjsqi0NkrET4pmfPTRh8IoSX+fetaMKXMXLYeHTUHODQI+l+owqSEYxeGojOHcKxQKuVyelpYWHR0NAND064tK65A+gpNhZRTmzYTPVjAMq6iokEqlKSkpYJRDKKgILnG4mm+kj2DjWmWMQTDrI1jE4UmOkT6CAZeU4Uhw6iPwxUFUXpE+AhW3leFIsOkjkMXhjVwifQQShCjDkeDRR2CKw9v5Q/rwdwhXhiPBoI9AEweZOUP68Ee8qgxHAlsfgSMOqvKE9OEvkKYMRwJVH4EgDl/IDdKHL0OJMhzxhUOUWPxbHL6WD6QPX4NyZTjia4erJ/irOHw5B0gfvoBPKcMRXz50ncf/xOEv/Y70QRU+qwxH/OUwHg1/Eoc/9jXSB5n4hTIc8cdDGuIf4vDf/oUgfXgbv1OGI/54ePuuOHCLlcVk+GOfjgbSB4HAwwP4uTIc8a9D3UfF8fn3Fb/JueFiS5e/9KPzOOojMpzX3tn3m5wbqA7Kzzhd3QYA4IawA0MZjozQx67vKh68K8cHy9z6nDhwi3X73rK6lishbGZuWnIgKcMRqI+q+ktm3JqbnuxYqw4xNkWldUdKa9ks5vSkmEBShiNQH0fLL/YPDMXHRmxYk+9rZwHjxRdfpHD3er3+8OHD1dXVIpFIIBAYjPjWncdaO3ppNFoIm3nH4tSYqHAKw/MeoRy23Q7ON3TYbPbLXX2dKm1qioRBp8vl8mPHjikUCqlUymCg8siguLi4srJSq9XGx8cDAPYUVR4/3QgAsNpsuenJqSmBuVgBg04XhHEra9uNJotObzzf0DE9KZYfGoJh2KFDh+rq6uD5QmGEVM44MAx74unNoSIJncHs6WzZ8Ngjv9ZouBx2SoJ4kliYKIn0NcsSjlKl7ejuU3ZrO7oxi9U2O47xya6voiZKrbgJmLB3/rWVzWZTHSOVPPfCSyrMzOLwhgb65s+ZCQTJmv4h6aRISYxQOikqJorKM4cENP36ji6sU6VtU/b29esL5yVt/edrkZOmAgD6ey5tef4ZqVRKVWxUimPbO+92asGs9HkAgB7VlZqTR3Z+8iFVwfgCNxcU3vfH52C99fLj3y9dmH7bbbdRHRRlyGSyt9779JY7fwdf7v34jU8+fBcWdgxOXnjpFRtXnDLjJgBAR3tLd0vltre3UhUMlVXOezV9obww+LcgXKTuUVMYDOXo9XoGkwmtAQAIDRNe6eqmNiRqwTCMw+UPvwzlCTAMozAeytFqseHzhccX9PVR2RtUimNBbk6rvMZiwQEAtbLTeXl5FAZDOTweTyqVtjTWAgBMRoNCXrMwP6g7JC0tTd11Ga5L0NertuAmCmfmvsDixflN9VXw7+aG8zk5cykMhsoFmbqGwm6cPm3PBy+bcXPO/DyacJbBiPvgkydy0PTrE2Yt6Wos/fiHPTweb8GS21u68ZQUqsOijsbLWHb+suL92zEMmzhxUur85WpsSCIO0ps+uMXaNRSeFB/78VvPAgDmzsujCVOGv8xCPpTd4/j8+4op8RMcvwelVGn3FVc9unJBELpD06/fdejM/bdnR4bzht8sKq0DABTm3UhdXJRxurqt+VLPutuyht8xGPEP9v664pb0gHz+Oja4xfrpgVO56cnTk2KH37zY2lVW1fL7O+dR4g5qLlWutQYAQCIWrrgl/YO9vw4v2hokXNca4L/KgPoIKq61BgCAy2E9unLBvuIqpUpLVWCUcF1rAACmJ8Xmpid/euAUbrGSHxUF4riuNSBB6I7RrAEJQndc1xqQIHTHaNaAUOgOssUxhjUgQeWOsa0BCSp3jGENSFC5Y2xrQKhyB6niGNcakCBxhzPWgASJO8a1BiRI3OGMNSCUuIM8cThpDUjAu8N5a0AC3h1OWgMS8O5w3hoQ8t1BkjhcsgYkgN3hqjUgAewOl6wBCWB3uGoNCMnuIEMcblgDEpDucM8akIB0hxvWgASkO9yzBoRMd3hdHG5bAxJg7vDEGpAAc4fb1oAEmDs8sQaENHd4VxweWgMSMO7w3BqQgHGHh9aABIw7PLcGhBx3eFEchFgDEgDuIMoakABwByHWgASAO4iyBoQEd3hLHARaA+LX7iDWGhC/dgeB1oD4tTuItQbE2+4gWBzwrCbcGhBHd/iFPnCLFbdYvWENiKM7/KJDYJCEWwMywh1+0SG6QYM3rAFxdAfhvUHkj9yUKu2uQ6fjYiO8YQ3HvewrrpoaL44Uhfp4rfD9JTI2m9F6udcb1hgGikPernrwrnm+XDMNt1hfer9o4ZwpnWod4dYYBv4Wbu5sqTfcRCwKZe/R8noGne4NawwDfwsXymVnzUyYmiAmarNEzjiKSmvbOzUKZS+B8V1LZDhvgijswPHzh07UUPLzHifRDRrKqloOnahOmhwl4HG8t6PUaZJyWYu8XVVyssF7e/GcsqoWjVZ/8ERN9qwE7+2Fy2FlzZLuPHj69IU2H79s2VNUea7ustFsEXuzBqJELKQB2s8VTftLZARuljBxXGztutCoZDIZMVECFsOL91xxi4XBoIWwmbpBw6ET1d7bkYfsL5HhFqtIEMpls736w2cct4jCeXQa7acKuc+eKrpBw5HSWgDABBHfYrV5dV8mM84PDQEA7Dp02qs78oTT1W1KlTaEzeRz2V49XwAA8HxRqrQ/VciJ2iZhlyqvfHjUYrXdU5DmvUmXI/CCpb1T88L6Qu9dBbiNUqV95cOjGTMm31OQRs7lw+nqtkMnaiRi4YY1+STszlX2l8hOV7fdkjODnEVkDEb84IkLZVUtD9yVkzFjMgl7dAncYv3bO4cFvJDVhZlSSRQJe1Qoe/cUVer0phf/WEhIvRv3xaFWq7e+te1sZeWczMz8gtuZbP7CrKkk1xS50KhsaO0c7K7fv/+AWCzetPGJmTNnkhmAI6Wlpe9t/1ivH7x9+W9DJszInkXkJaUzGIx48cl6Icd26Js91TU1ixctfOqJx3k8aqxqNpvf+2D70aM/isXi+3/3gFrPWpZ3I8m3YJQqbUl5/UT+4Ec7PgUArF2z6s47biczAEcUCsUbW99uaGxcvGhhanaBSCjITU8mOYayqhZMq2utK//u+yM3TJu2aeOTbldjdFMcZrP5/x54eHrmzQlJ09pbG5svlO7Y/m9Kavm/+fa2tiu6zPlLdFrs1IkDL/11YwoV9fZkMtkb//pwQcHdIRxu1anjWanJ96+7j/ww9Hr9Aw+vT517a1xCcn312QFV81v/fI2SvPx9yz8wEzs1c75Oi5WX7HvrjS0SCQVroJSWlu74fH/ub+4CAFSWlSxdnE2JOzAMe3j9E5l5y2Ml8fXVZwfVLe/+603ywwAAbNz0F8CNnj0nt0t5SVZetO3NV90rHO/mxZVMJmNxhQlJ0wAACUnTAJMnkxF568VJzGbz8RM/Z85fwmSyIqKiJyfPKi75kfwwAAAHvzs8LXWuQBgRwuGmz7t53zffUhLGmTNn+MKYuIRkAMCM1Dk9mgGFQkF+GHq9/uSZivS5C2FeJMmzjhT9QH4YAIADhw7PSMvl8QU8vmBWZt7BQ4cpCaOsrCxCnBAriQcAzEid06XSUJIXtVrd1NI2e04uACBWEi+Mji8rK3NvU26Kg8fjmU2G4Zdmk4GSKTGbzabTaVaLBb60WCwhISHkhwEACAsLM/23Q0xGA4/HH/vzXoLH4+Fm0/BLqxWnZLrBYrHoNBqsXw8AwE3GsDBqOkQgCDMZr+bFarWw2NSUs+XxeBb8f3kxm4yUnC88Hs/kcNrabVYWy80OcXMJSLFYXHHmVFubAtDo9edPT4rirbp3pXsReIhIGP7Nvq85ofzLiqYuRe2mp5/gcin4LkP85Livv/zCYgc6bV9leckT6/8QFxdHfhgSieR4ydGubpXNbq8sP5Y+a+rSW28hPwwGg8Gg04uPHmGxOZcVTb2djRufeoIShUkT4nd/9gmdxdH0dMtOH3/m6cfFYlJvPEEkEskPRYd7NZjVaq0sP7Zg3k2UrH3BZrONRsPxH4s5XH7zxQsmXdefNqx3b6VR99eOFcUkyqrrjJo2C527as3aSWKRe9vxEHGspFR2CejaTSbT/MXL56ZRs/K7QCBoVdsG1G02g8bGm/zQursYdGoKQbMEcc1N8sGeVhMt/PH1Dwn4XvwKyRjEJySWlF9kDClNJlPOotvmpE6lJAyRSKToBT2X60NoBlr4lLX33EJJXhgMBpM/sbGhfkijMNHC//jw76nKy5Sp00rKL5r7mjkcblZe4U0z3F2qxu4uL2//oaMbs9vtHd3Yy9t/cHs7HrKvuOrEmUa73W7GLX/d9l3/wBAlYTh2wnBI5OPYCecbOrbv/ZWSMOwoL/+fwMuLm/a90KiMEvHhChcSsTBKxL/QqHRTXR6gGzRUy5XwsRaLyViUlULVtyeLSmsL864+CS7IueGnCjkl32otq2pJTZHAp56zp0l6sUFKvhKG8jKCwMuLm+JwzAcAoDBvZlFprXub8oSSkw2LslKGvzySm55cLVfqBg1j/xfhKFXaXmxw9rSrjxsFfG5qiqSsqoXkMHCL9acKeYHDN6xQXlBeHCEwL+6Iw3G6AaFk0uGoTwhVg9sIjQKKBjfHYQ1CyeCG8jKCgMyLO+K4Nh+AComO0CeE/MFtxLAGIX9wu3ZYg6C8OL6J8kJUXlwWx7XTDQjJk45r9Qkhf3C7rkYB6YPbtcMahOTBDeVlBIGaF5fFMVo+ALkSva4+IWQObtcd1iBkDm6jDWsQlBdHUF5G4F5eXBPHaNMNCGmTjtH0CSFzcBtDo4DEwW20YQ1C2uCG8jKCAM6La+IYOx+ALImOoU8IOYPbGMMahJzBbexhDYLy4gjKywjcyIsL4hh7ugEhYdIxtj4h5Axu42oUkDK4jT2sQUgY3FBeRhDYeXFBHM7kA3hfouPqE+LtwW3cYQ3i7cHNmWENgvLiCMrLCFzNi1O/VSmraunBBvsHDIuyxi91IeBzGtq6rVZ7R3dfXAyRP2Bpalf1YIPHTjWsW5497i8O4Adqm6+oNDrCiyyVVbWcOt+6MCslxolqkXExwi+OnI0S8e12AEvaERhGy+UeYVho2vTxi1zFRAlKyi9GR4a1X+mbGB1OYBhN7Sqsf6jk5EVq84JbrKWVzWeqFS7lJZQbIuCFhBD6q1k38iIS8rrU/c6E7Tzn6i+bLZajZfXeyItTM45fzzV/tK9MGBbqzJyqqV3FD+XsPHjqXN1lZzbuPO2dfW/vOhEh5NW3dI37YYMRH9Sbfqls2l8iI7Y2fHev7osjZxsV3WrNgDNz3frWrhA28/2vSgmfkf5UIT94opoGgKZfP+6Hm9pV4kjBtt0/V9VfIjaM+tauf+485mpeCK8Xq+zG9hZXNV/u6XOiNwAA5+ovh7CZnx081abUEBvJkdI6V/Pyzu5fLraO33su0dSuem3Hj7ETBM7kRdOvh3k54tz0Z3xx4BarSjPAYNAHh4xj3+CASCVRKo2ORqMpOnudicB5FJ29dDq9T6uPix1/IsPlsEThoTabHQDQ0d1HYBhKlZZOoxlNlujIMGdKJcbFRGC6IRqNplAS2SEGI97dq7Pb7UMm3Jmqq1JJlE5vBAB0dGMEhgEAUHZrYV5SnCiVyOWwGAy6zWbHLVZiTaro1NBpNLPZ4uS4PTVB3NM3SKPROgkNQzdo0A0a7Ha7HQBn8hIXE6HS6JgMgg8PAIBC2UujgV7MqbxEhvOsdpvNZofH1bifH18cKs0AbrFOiY9etzzbmXBZTMajKxdIxEInI3CeNqWGy2E9tjrfyerEuenJsDQuwQeoshcAcE9B2rgX0hCJWPjIilwWk6HoJHJk6+7tBwBMT4pdtTTDmc/DvMRECTRaPbFTMEVnL5fDevL+xU5WwS3MuxHeqyP2VIEH26rCDCfLZUvEwkdW5gIAlCoiTQrnL7OnSe4pSHPm81wOa8Oa/EghT6nSEnuzVqUZEPC5j63JdzIvdyyePXd2IgDAmSF/fHE0tatiogSPrlzgfCFiLof1yL0LYF84+S/johs0GIzmR1bkunQdeMfi2RkzJjdfUhMVBgCgoxtblJXizO2eYaYmiNctz1YSOtQrOjUSsfDBu3Jcystja/IFfK68XUVUGJp+vcVi2+C0zSGrCzOnJ8USO/dRKHuX5c10aY2u6UmxqwszCewNAECnSiuVRP3+znnO/4uAz31sdT6XwyLwCIGn3oY1ruVl1dKM6Umxyu7xT9uxihXL5XKz2Xy5j5Y9W+rGEgTdvbqKC62JYiafz3e7mDIAQK1Wq1QqzEAP5YW5Ueoet1j3l8jSkwVms9mTGuhms1kul/P5/LJatXtLhP14siFayGTYjBKJRCRy/7axh3lRqrQ1De1xkQyRSORJAeHhvAgE4U5OvhzBLdavfjiXlSL0MC96vb6trS0sTHCqXr26MNONLRSV1k2OZgOLKTEx0ZOKfjAvjVfwZXkz3ViCoKlddUmpjgkHHuZFqVRiGKY1sSJF4W6sVeJkXpjXfddsNv99yz+aFZ10BiMslJmf8bqruwcA0G3GA3s+MFvpuNk4d85NTz/5Jzc2UlJybMfO3ayQUIt5aPPTjwPgsjjsNmvNycPffdVFZzCEfPbWN1514+BQq9Wbnn3OZKGZzYbsjJsAcEcc9kHllnc+Z3N4Vtyw6akNGRlOXWI4Qkhe8CHss4/eZrC4RsPgijtvW3XvCjc28r+8mIY2b3wcAJcPdLvN2nD2h6J9VzzJi0KhePZvL9GYHMPQ4N13LAPAHXHoui4+9+/vuaF8u8X46ssvuDHIjcjL0vmvA+CyOFj2oY/f30r3LC9ffb1v34HvOVy+FTe8/sqLbmzBybxcf8axd9/+8nPyrLxbAQDy+vNA37nlpRdcjeBPT26MSc6EFbd/Obp/1R1LFi9e7NIWlErlU5ufX7riISaTZTIair5+f/dnO1w9vFBbRrD2/gcyF90dERUNADj67c4ND92Xne3U3athCGnL7i++PFffkTl/CQCgoeacgDGwedNGl7YAiGiLXC5/fsvW3656BACg0/b99P1ne3bvdLU8KiFtWbFqbf6ydQJhBACgaN+Ov2xc7+pEjMy2XP8eR5Xsglhy1bsJSdNk5y+4tG9IdU0NPNMAABMmxledd/nxm1wuF4iimUwWACCEww0JFbS1tbm6EdQWRzAM69P2wzMNACCWJF2ornF1I4S05VzV+Zj/tmXS5EQ3upSQttTV1UWIr5aVFggjAJ3V2dnp6kY8b4tarTaacGgNAECEeHJdXZ2rGyGzLdcXR8rUZI366rNfdXdnclKSq7sHACQmJvaorsC/+zWqqVNc3khiYqJW0w3/tlhwg77fjWs/1BZHRCIRm8XQD1592qXrU01JpqYt01KmOLYlZarLy5oR0hapVDqgvXrv3GQ02CxmNxYo8rwtQqHQsS2D2h43rpjIbMv1L1XMZvOTT/150EynMxgWY/+br7/iRgQKhWLzX18URMTqB7RJk2Oef+4vbhTI37lrd1HxiYgJk/rUHX/43dqCgiWubgG1ZQS1tbVbXt0qjJL096lnz5z67OY/u7oFQERb9Hr9kxufMVmZdAbDbh5449UtVLXlvQ+2//zrGdiWZzY+7sa9J0Lacu7cude2vhMRHdfX0+n2PUHS2jLWU5UzZ87gOJ6Wlub2rWYMw2QyWXR0tCe3zRUKhVwuT0tLc2+tOghqiyMYhlVUVEilUk+Wy/S8LWazWSaT4TielZXl9qorgdQWtVotk8lSUlI8eQpJTlsIW60egUAED9QsGoRAIPwaJA4EAuEySBwIBMJlkDgQCITLIHEgEAiX+Q/7OQ6BJvWSFQAAAABJRU5ErkJggg==\"></div>"
      ],
      "text/plain": [
       "Graph[<31>, <30>]"
      ]
     },
     "execution_count": 41,
     "metadata": {
      "text/html": [],
      "text/plain": []
     },
     "output_type": "execute_result"
    }
   ],
   "source": [
    "ResourceFunction[\"NestWhileGraph\"][{f[#], g[#]} &, 0, Function[{g1, g2},\n",
    "     VertexCount@VertexDelete[g2, VertexList[g1]]\n",
    "     ] @@ # <= 8 &, 2]"
   ]
  },
  {
   "cell_type": "code",
   "execution_count": 42,
   "metadata": {
    "vscode": {
     "languageId": "plaintext"
    }
   },
   "outputs": [
    {
     "data": {
      "text/html": [
       "<div><img alt=\"Output\" src=\"data:image/png;base64,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\"></div>"
      ],
      "text/plain": [
       "CompiledCodeFunction[<|Signature -> TypeSpecifier[{Integer64} -> Integer64], \n",
       " \n",
       ">    Input -> Function[{Typed[arg, MachineInteger]}, \n",
       " \n",
       ">      Module[{factFun}, factFun = \n",
       " \n",
       ">         Function[{arg1}, If[arg1 === 1, 1, arg1 factFun[arg1 - 1]]]; factFun[arg]]], \n",
       " \n",
       ">    ErrorFunction -> Automatic, SystemID -> Windows-x86-64, \n",
       " \n",
       ">    VersionData -> {12.2, 0, 0}, orcInstance -> 515625008, orcModuleId -> 1, \n",
       " \n",
       ">    targetMachineId -> 506103872|>, 791216624, 791216416, 791216528, 791216128, \n",
       " \n",
       ">   {\"Integer64\"} -> \"Integer64\"]"
      ]
     },
     "execution_count": 42,
     "metadata": {
      "text/html": [],
      "text/plain": []
     },
     "output_type": "execute_result"
    }
   ],
   "source": [
    "fun = FunctionCompile[\n",
    "     Function[{Typed[arg, \"MachineInteger\"]},\n",
    "         Module[{factFun},\n",
    "             \n",
    "    factFun = \n",
    "     Function[{arg1}, If[arg1 === 1, 1, arg1*factFun[arg1 - 1]]];\n",
    "             factFun[arg]]]]"
   ]
  },
  {
   "cell_type": "code",
   "execution_count": null,
   "metadata": {
    "vscode": {
     "languageId": "plaintext"
    }
   },
   "outputs": [],
   "source": [
    "fun[10]"
   ]
  },
  {
   "cell_type": "code",
   "execution_count": null,
   "metadata": {
    "vscode": {
     "languageId": "plaintext"
    }
   },
   "outputs": [
    {
     "ename": "",
     "evalue": "",
     "output_type": "error",
     "traceback": [
      "\u001b[1;31mCanceled future for execute_request message before replies were done"
     ]
    },
    {
     "ename": "",
     "evalue": "",
     "output_type": "error",
     "traceback": [
      "\u001b[1;31mThe Kernel crashed while executing code in the the current cell or a previous cell. Please review the code in the cell(s) to identify a possible cause of the failure. Click <a href='https://aka.ms/vscodeJupyterKernelCrash'>here</a> for more info. View Jupyter <a href='command:jupyter.viewOutput'>log</a> for further details."
     ]
    }
   ],
   "source": [
    "First[RepeatedTiming[fun[10]]/RepeatedTiming[10!]]"
   ]
  },
  {
   "cell_type": "code",
   "execution_count": null,
   "metadata": {
    "vscode": {
     "languageId": "plaintext"
    }
   },
   "outputs": [],
   "source": []
  }
 ],
 "metadata": {
  "kernelspec": {
   "display_name": "Wolfram Language 12.2",
   "language": "Wolfram Language",
   "name": "wolframlanguage12.2"
  },
  "language_info": {
   "codemirror_mode": "mathematica",
   "file_extension": ".m",
   "mimetype": "application/vnd.wolfram.m",
   "name": "Wolfram Language",
   "pygments_lexer": "mathematica",
   "version": "12.0"
  },
  "orig_nbformat": 4
 },
 "nbformat": 4,
 "nbformat_minor": 2
}
