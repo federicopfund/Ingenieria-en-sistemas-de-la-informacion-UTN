{
 "cells": [
  {
   "cell_type": "markdown",
   "metadata": {},
   "source": [
    "                                                          Mathematica Wolfram Language"
   ]
  },
  {
   "cell_type": "code",
   "execution_count": 1,
   "metadata": {
    "vscode": {
     "languageId": "plaintext"
    }
   },
   "outputs": [
    {
     "data": {
      "text/html": [
       "<div><pre style=\"&#102;&#111;&#110;&#116;&#45;&#102;&#97;&#109;&#105;&#108;&#121;&#58;&#32;&#34;&#67;&#111;&#117;&#114;&#105;&#101;&#114;&#32;&#78;&#101;&#119;&#34;&#44;&#67;&#111;&#117;&#114;&#105;&#101;&#114;&#44;&#109;&#111;&#110;&#111;&#115;&#112;&#97;&#99;&#101;&#59;\">&#51;&#54;&#50;&#56;&#56;&#48;&#48;</pre></div>"
      ],
      "text/plain": [
       "3628800"
      ]
     },
     "execution_count": 1,
     "metadata": {
      "text/html": [],
      "text/plain": []
     },
     "output_type": "execute_result"
    }
   ],
   "source": [
    " Function[If[#1 == 1, 1, #1*#0[#1 - 1]]][10]"
   ]
  },
  {
   "cell_type": "code",
   "execution_count": 2,
   "metadata": {
    "vscode": {
     "languageId": "plaintext"
    }
   },
   "outputs": [
    {
     "data": {
      "text/html": [
       "<div><pre style=\"&#102;&#111;&#110;&#116;&#45;&#102;&#97;&#109;&#105;&#108;&#121;&#58;&#32;&#34;&#67;&#111;&#117;&#114;&#105;&#101;&#114;&#32;&#78;&#101;&#119;&#34;&#44;&#67;&#111;&#117;&#114;&#105;&#101;&#114;&#44;&#109;&#111;&#110;&#111;&#115;&#112;&#97;&#99;&#101;&#59;\">&#123;&#49;&#44;&#32;&#50;&#44;&#32;&#54;&#44;&#32;&#50;&#52;&#44;&#32;&#49;&#50;&#48;&#44;&#32;&#55;&#50;&#48;&#44;&#32;&#53;&#48;&#52;&#48;&#44;&#32;&#52;&#48;&#51;&#50;&#48;&#44;&#32;&#51;&#54;&#50;&#56;&#56;&#48;&#44;&#32;&#51;&#54;&#50;&#56;&#56;&#48;&#48;&#125;</pre></div>"
      ],
      "text/plain": [
       "{1, 2, 6, 24, 120, 720, 5040, 40320, 362880, 3628800}"
      ]
     },
     "execution_count": 2,
     "metadata": {
      "text/html": [],
      "text/plain": []
     },
     "output_type": "execute_result"
    }
   ],
   "source": [
    "RecurrenceTable[\n",
    " f[k] == k f[k - 1] && f[1] == 1, f, {k, 1, 10}]"
   ]
  },
  {
   "cell_type": "code",
   "execution_count": 3,
   "metadata": {
    "vscode": {
     "languageId": "plaintext"
    }
   },
   "outputs": [
    {
     "data": {
      "text/html": [
       "<div><pre style=\"&#102;&#111;&#110;&#116;&#45;&#102;&#97;&#109;&#105;&#108;&#121;&#58;&#32;&#34;&#67;&#111;&#117;&#114;&#105;&#101;&#114;&#32;&#78;&#101;&#119;&#34;&#44;&#67;&#111;&#117;&#114;&#105;&#101;&#114;&#44;&#109;&#111;&#110;&#111;&#115;&#112;&#97;&#99;&#101;&#59;\">&#123;&#49;&#44;&#32;&#50;&#44;&#32;&#54;&#44;&#32;&#50;&#52;&#44;&#32;&#49;&#50;&#48;&#44;&#32;&#55;&#50;&#48;&#44;&#32;&#53;&#48;&#52;&#48;&#44;&#32;&#52;&#48;&#51;&#50;&#48;&#44;&#32;&#51;&#54;&#50;&#56;&#56;&#48;&#44;&#32;&#51;&#54;&#50;&#56;&#56;&#48;&#48;&#125;</pre></div>"
      ],
      "text/plain": [
       "{1, 2, 6, 24, 120, 720, 5040, 40320, 362880, 3628800}"
      ]
     },
     "execution_count": 3,
     "metadata": {
      "text/html": [],
      "text/plain": []
     },
     "output_type": "execute_result"
    }
   ],
   "source": [
    "Rest@NestList[{1, 0} + First@# {1, Last@#} &, {1, 1}, 10][[All, -1]]"
   ]
  },
  {
   "cell_type": "code",
   "execution_count": 3,
   "metadata": {
    "vscode": {
     "languageId": "plaintext"
    }
   },
   "outputs": [],
   "source": [
    "expr2 := (((3x+1/2x-1)/3r**2x)/e)"
   ]
  },
  {
   "cell_type": "code",
   "execution_count": 2,
   "metadata": {
    "vscode": {
     "languageId": "plaintext"
    }
   },
   "outputs": [
    {
     "data": {
      "text/html": [
       "<div><img alt=\"Output\" src=\"data:image/png;base64,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\"></div>"
      ],
      "text/plain": [
       "FunctionRepository`$d087e7992e5c42bcbcc1d1d788eb4549`FromRecursiveRewrite[\n",
       " \n",
       ">   |\n",
       "          1\n",
       "    Times[-, x, |                    , |                                               , \n",
       "          3     Plus[-1, |          ]  Power[|                                    , -1]\n",
       "                               7             NonCommutativeMultiply[e, |         ]\n",
       "                         Times[-, x]                                   Ramdon[10]\n",
       "                               2\n",
       "     \n",
       "    >   |                           ]\n",
       "        NonCommutativeMultiply[r, 2]\n",
       " \n",
       ">    ]"
      ]
     },
     "execution_count": 2,
     "metadata": {
      "text/html": [],
      "text/plain": []
     },
     "output_type": "execute_result"
    }
   ],
   "source": [
    "TreeForm[ResourceFunction[\"FromRecursiveRewrite\"][expr2]]"
   ]
  },
  {
   "cell_type": "code",
   "execution_count": 4,
   "metadata": {
    "vscode": {
     "languageId": "plaintext"
    }
   },
   "outputs": [
    {
     "data": {
      "text/html": [
       "<div><img alt=\"Output\" src=\"data:image/png;base64,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\"></div>"
      ],
      "text/plain": [
       "Graph[<31>, <30>]"
      ]
     },
     "execution_count": 4,
     "metadata": {
      "text/html": [],
      "text/plain": []
     },
     "output_type": "execute_result"
    }
   ],
   "source": [
    "ResourceFunction[\"NestWhileGraph\"][{f[#], g[#]} &, 0, Function[{g1, g2},\n",
    "     VertexCount@VertexDelete[g2, VertexList[g1]]\n",
    "     ] @@ # <= 8 &, 2]"
   ]
  },
  {
   "cell_type": "code",
   "execution_count": 42,
   "metadata": {
    "vscode": {
     "languageId": "plaintext"
    }
   },
   "outputs": [
    {
     "data": {
      "text/html": [
       "<div><img alt=\"Output\" src=\"data:image/png;base64,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\"></div>"
      ],
      "text/plain": [
       "CompiledCodeFunction[<|Signature -> TypeSpecifier[{Integer64} -> Integer64], \n",
       " \n",
       ">    Input -> Function[{Typed[arg, MachineInteger]}, \n",
       " \n",
       ">      Module[{factFun}, factFun = \n",
       " \n",
       ">         Function[{arg1}, If[arg1 === 1, 1, arg1 factFun[arg1 - 1]]]; factFun[arg]]], \n",
       " \n",
       ">    ErrorFunction -> Automatic, SystemID -> Windows-x86-64, \n",
       " \n",
       ">    VersionData -> {12.2, 0, 0}, orcInstance -> 515625008, orcModuleId -> 1, \n",
       " \n",
       ">    targetMachineId -> 506103872|>, 791216624, 791216416, 791216528, 791216128, \n",
       " \n",
       ">   {\"Integer64\"} -> \"Integer64\"]"
      ]
     },
     "execution_count": 42,
     "metadata": {
      "text/html": [],
      "text/plain": []
     },
     "output_type": "execute_result"
    }
   ],
   "source": [
    "fun = FunctionCompile[\n",
    "     Function[{Typed[arg, \"MachineInteger\"]},\n",
    "         Module[{factFun},\n",
    "             \n",
    "    factFun = \n",
    "     Function[{arg1}, If[arg1 === 1, 1, arg1*factFun[arg1 - 1]]];\n",
    "             factFun[arg]]]]"
   ]
  },
  {
   "cell_type": "code",
   "execution_count": null,
   "metadata": {
    "vscode": {
     "languageId": "plaintext"
    }
   },
   "outputs": [],
   "source": [
    "fun[10]"
   ]
  },
  {
   "cell_type": "code",
   "execution_count": null,
   "metadata": {
    "vscode": {
     "languageId": "plaintext"
    }
   },
   "outputs": [
    {
     "ename": "",
     "evalue": "",
     "output_type": "error",
     "traceback": [
      "\u001b[1;31mCanceled future for execute_request message before replies were done"
     ]
    },
    {
     "ename": "",
     "evalue": "",
     "output_type": "error",
     "traceback": [
      "\u001b[1;31mThe Kernel crashed while executing code in the the current cell or a previous cell. Please review the code in the cell(s) to identify a possible cause of the failure. Click <a href='https://aka.ms/vscodeJupyterKernelCrash'>here</a> for more info. View Jupyter <a href='command:jupyter.viewOutput'>log</a> for further details."
     ]
    }
   ],
   "source": [
    "First[RepeatedTiming[fun[10]]/RepeatedTiming[10!]]"
   ]
  },
  {
   "cell_type": "code",
   "execution_count": null,
   "metadata": {
    "vscode": {
     "languageId": "plaintext"
    }
   },
   "outputs": [],
   "source": []
  }
 ],
 "metadata": {
  "kernelspec": {
   "display_name": "Wolfram Language 12.2",
   "language": "Wolfram Language",
   "name": "wolframlanguage12.2"
  },
  "language_info": {
   "codemirror_mode": "mathematica",
   "file_extension": ".m",
   "mimetype": "application/vnd.wolfram.m",
   "name": "Wolfram Language",
   "pygments_lexer": "mathematica",
   "version": "12.0"
  },
  "orig_nbformat": 4
 },
 "nbformat": 4,
 "nbformat_minor": 2
}
