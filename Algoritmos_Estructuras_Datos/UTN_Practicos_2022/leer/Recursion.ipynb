{
 "cells": [
  {
   "cell_type": "markdown",
   "id": "c25ecc5f",
   "metadata": {},
   "source": [
    "# Funciones recursivas"
   ]
  },
  {
   "cell_type": "markdown",
   "id": "b6d9af2a",
   "metadata": {},
   "source": [
    "### Una función recursiva es aquella que se llama a si misma en su interior, o que llama a otras funciones que llaman a la primera en algún momento. Es otra manera de lograr un funcionamiento iterativo, pero que deben tener una o más secuencias de ejecución que interrumpan la recursividad, porque sino tendremos recursividad infinita."
   ]
  },
  {
   "cell_type": "markdown",
   "id": "88ccebbc",
   "metadata": {},
   "source": [
    "### En otras palabras, Recursión describe la situación donde una función, una vez invocada, es llamada nuevamente antes de que la primera invocación termine y retorne un resultado. "
   ]
  },
  {
   "cell_type": "markdown",
   "id": "af586a3c",
   "metadata": {},
   "source": [
    "## Requisitos para la recursión\n",
    "\n",
    "1. Una o más secuencias de ejecución donde la recursión tendrá lugar.\n",
    "2. Una o más secuencias de ejecución donde la recursión no tiene lugar (caso base).\n",
    "3. Un valor, normalmente un argumento, que cambia de llamada a función a otra. Este cambio de valor es el que, eventualmente, detendrá la recursión."
   ]
  },
  {
   "cell_type": "markdown",
   "id": "44a506e9",
   "metadata": {},
   "source": [
    "## Recursión directa\n",
    "\n",
    "El caso más simple, una función se llama a si misma antes de retornar un resultado."
   ]
  },
  {
   "cell_type": "code",
   "execution_count": null,
   "id": "4dd9fc0a",
   "metadata": {
    "vscode": {
     "languageId": "python"
    }
   },
   "outputs": [
    {
     "ename": "",
     "evalue": "",
     "output_type": "error",
     "traceback": [
      "\u001b[1;31mFailed to start the Kernel. \n",
      "Canceled. \n",
      "View Jupyter <a href='command:jupyter.viewOutput'>log</a> for further details."
     ]
    }
   ],
   "source": [
    "def f(a):\n",
    "    ...\n",
    "    f(b)\n",
    "    ..."
   ]
  },
  {
   "cell_type": "markdown",
   "id": "5dcaae91",
   "metadata": {},
   "source": [
    "## Recursion indirecta\n",
    "Ocurre en una secuencia de llamados a función, donde al menos una función es llamada nuevamente antes de que esta termine y returne un resultado."
   ]
  },
  {
   "cell_type": "code",
   "execution_count": null,
   "id": "4f9865e2",
   "metadata": {
    "vscode": {
     "languageId": "python"
    }
   },
   "outputs": [
    {
     "ename": "",
     "evalue": "",
     "output_type": "error",
     "traceback": [
      "\u001b[1;31mFailed to start the Kernel. \n",
      "Canceled. \n",
      "View Jupyter <a href='command:jupyter.viewOutput'>log</a> for further details."
     ]
    }
   ],
   "source": [
    "def a():\n",
    "    ...\n",
    "    b()\n",
    "    ...\n",
    "\n",
    "def b():\n",
    "    ...\n",
    "    c()\n",
    "    ...\n",
    "\n",
    "def c():\n",
    "    ...\n",
    "    d()\n",
    "    ...\n",
    "    \n",
    "def d():\n",
    "    ...\n",
    "    a()\n",
    "    ..."
   ]
  },
  {
   "cell_type": "markdown",
   "id": "52ba52de",
   "metadata": {},
   "source": [
    "# Ejemplos"
   ]
  },
  {
   "cell_type": "code",
   "execution_count": null,
   "id": "689adfb2",
   "metadata": {
    "vscode": {
     "languageId": "python"
    }
   },
   "outputs": [
    {
     "ename": "",
     "evalue": "",
     "output_type": "error",
     "traceback": [
      "\u001b[1;31mFailed to start the Kernel. \n",
      "Canceled. \n",
      "View Jupyter <a href='command:jupyter.viewOutput'>log</a> for further details."
     ]
    }
   ],
   "source": [
    "def cuenta_regresiva(num):\n",
    "    num -= 1\n",
    "    if num > 0:\n",
    "        print(num)\n",
    "        cuenta_regresiva(num)\n",
    "    else:\n",
    "        print(\"Boooooooom!\")\n",
    "    print(\"Fin de la función\", num)"
   ]
  },
  {
   "cell_type": "code",
   "execution_count": null,
   "id": "5cc746da",
   "metadata": {
    "vscode": {
     "languageId": "python"
    }
   },
   "outputs": [
    {
     "name": "stdout",
     "output_type": "stream",
     "text": [
      "5\n",
      "4\n",
      "3\n",
      "2\n",
      "1\n",
      "Boooooooom!\n",
      "Fin de la función 0\n",
      "Fin de la función 1\n",
      "Fin de la función 2\n",
      "Fin de la función 3\n",
      "Fin de la función 4\n",
      "Fin de la función 5\n"
     ]
    },
    {
     "ename": "",
     "evalue": "",
     "output_type": "error",
     "traceback": [
      "\u001b[1;31mFailed to start the Kernel. \n",
      "Canceled. \n",
      "View Jupyter <a href='command:jupyter.viewOutput'>log</a> for further details."
     ]
    }
   ],
   "source": [
    "cuenta_regresiva(6)"
   ]
  },
  {
   "cell_type": "code",
   "execution_count": null,
   "id": "1afc8395",
   "metadata": {
    "vscode": {
     "languageId": "python"
    }
   },
   "outputs": [
    {
     "ename": "",
     "evalue": "",
     "output_type": "error",
     "traceback": [
      "\u001b[1;31mFailed to start the Kernel. \n",
      "Canceled. \n",
      "View Jupyter <a href='command:jupyter.viewOutput'>log</a> for further details."
     ]
    }
   ],
   "source": [
    "def factorial(num):\n",
    "    print(\"Valor inicial ->\", num)\n",
    "    if num > 1:\n",
    "        num = num * factorial(num -1)\n",
    "    print(\"valor final ->\", num)\n",
    "    return num"
   ]
  },
  {
   "cell_type": "code",
   "execution_count": null,
   "id": "bc14489d",
   "metadata": {
    "vscode": {
     "languageId": "python"
    }
   },
   "outputs": [
    {
     "name": "stdout",
     "output_type": "stream",
     "text": [
      "Valor inicial -> 5\n",
      "Valor inicial -> 4\n",
      "Valor inicial -> 3\n",
      "Valor inicial -> 2\n",
      "Valor inicial -> 1\n",
      "valor final -> 1\n",
      "valor final -> 2\n",
      "valor final -> 6\n",
      "valor final -> 24\n",
      "valor final -> 120\n"
     ]
    },
    {
     "data": {
      "text/plain": [
       "120"
      ]
     },
     "execution_count": 21,
     "metadata": {},
     "output_type": "execute_result"
    },
    {
     "ename": "",
     "evalue": "",
     "output_type": "error",
     "traceback": [
      "\u001b[1;31mFailed to start the Kernel. \n",
      "Canceled. \n",
      "View Jupyter <a href='command:jupyter.viewOutput'>log</a> for further details."
     ]
    }
   ],
   "source": [
    "factorial(5)"
   ]
  },
  {
   "cell_type": "code",
   "execution_count": null,
   "id": "9e1613b2",
   "metadata": {
    "vscode": {
     "languageId": "python"
    }
   },
   "outputs": [
    {
     "ename": "",
     "evalue": "",
     "output_type": "error",
     "traceback": [
      "\u001b[1;31mFailed to start the Kernel. \n",
      "Canceled. \n",
      "View Jupyter <a href='command:jupyter.viewOutput'>log</a> for further details."
     ]
    }
   ],
   "source": [
    "def reverse_string(text):\n",
    "    if len(text) <= 1:\n",
    "        return text\n",
    "    return reverse_string(text[1:]) + text[0]"
   ]
  },
  {
   "cell_type": "code",
   "execution_count": null,
   "id": "6dc47b45",
   "metadata": {
    "vscode": {
     "languageId": "python"
    }
   },
   "outputs": [
    {
     "data": {
      "text/plain": [
       "'!odnum aloH'"
      ]
     },
     "execution_count": 23,
     "metadata": {},
     "output_type": "execute_result"
    },
    {
     "ename": "",
     "evalue": "",
     "output_type": "error",
     "traceback": [
      "\u001b[1;31mFailed to start the Kernel. \n",
      "Canceled. \n",
      "View Jupyter <a href='command:jupyter.viewOutput'>log</a> for further details."
     ]
    }
   ],
   "source": [
    "reverse_string(\"Hola mundo!\")"
   ]
  },
  {
   "cell_type": "markdown",
   "id": "9d982c2f",
   "metadata": {},
   "source": [
    "## Recursion VS iteración\n",
    "\n",
    "- La iteración utiliza una estructura de repetición​\n",
    "- la recursión utiliza una estructura de selección​\n",
    "- La dos implican repetición​\n",
    "    - La recursión consigue la repetición mediante llamadas de función repetidas​\n",
    "    - La iteración y la recursión involucran una prueba de terminación:​\n",
    "    - La iteración termina cuando falla la condición de continuación del ciclo​\n",
    "    - La recursión termina cuando se reconoce un caso base o degenerado.​"
   ]
  },
  {
   "cell_type": "markdown",
   "id": "aafc1f2b",
   "metadata": {},
   "source": [
    "## Desventajas de la recursión\n",
    "\n",
    "- La sobrecarga de llamadas resultar costoso tanto en tiempo de procesador como en espacio de memoria.​\n",
    "\n",
    "- Cada llamada recursiva genera otra copia de la función, esto puede consumir gran cantidad de memoria.​\n",
    "\n",
    "- La iteración ocurre dentro de una función por lo que no ocurre la sobrecarga de llamadas repetidas de función y asignación extra de memoria.​"
   ]
  },
  {
   "cell_type": "markdown",
   "id": "2c8fec76",
   "metadata": {},
   "source": [
    "Mathematica wolfram"
   ]
  },
  {
   "cell_type": "code",
   "execution_count": 4,
   "id": "0c7e05f4",
   "metadata": {
    "vscode": {
     "languageId": "python"
    }
   },
   "outputs": [],
   "source": [
    "fac[k_Integer?Positive] := k*fac[k - 1]"
   ]
  },
  {
   "cell_type": "code",
   "execution_count": 14,
   "id": "24dcb14d",
   "metadata": {
    "vscode": {
     "languageId": "python"
    }
   },
   "outputs": [
    {
     "data": {
      "text/html": [
       "<div><img alt=\"Output\" src=\"data:image/png;base64,iVBORw0KGgoAAAANSUhEUgAAAGQAAAAPCAIAAACds/2aAAAA03pUWHRSYXcgcHJvZmlsZSB0eXBlIGV4aWYAAHjabU/bDQMhDPtnio4QEnBgHNoDqRt0/JoDVb2qPl1sTB4k9NdzhNuERgkpe0EFhEg1VW0URRYWR6lnPIG07+LVDzK232jlr4K+/fvVdyzW8ttIl7A5gdr2RN+NTJcf2zrfd762Ui6NxjFO7AdLKp+n/z+bKzKiJ8ak4o5KXQIlCVklOwYeABMjDpX0IHe4sww+M6zNwgntfs3uAUbjmCvY/NUaGYzK0VzYKnXk1yyb6sFbO3PmOm+uLlxxUuWmCwAAAAlwSFlzAAALEwAACxMBAJqcGAAAADx0RVh0U29mdHdhcmUAQ3JlYXRlZCB3aXRoIHRoZSBXb2xmcmFtIExhbmd1YWdlIDogd3d3LndvbGZyYW0uY29tXKKmhQAAACF0RVh0Q3JlYXRpb24gVGltZQAyMDIyOjA2OjI3IDE5OjExOjUyt33scgAAAglJREFUWIXtVzF2AiEQnc1Z3BQ+T4AnWG1S2abD0m3SpUxng6V2uUGawAn0BL4Uwl0mBbvIwCxqmry8+KvdPzAzfIbhUSEi3HEdHn47gb+Eu1g34M+J5TbTymO6cT904Zy7Zmo27gEAzLKqCgkEczCyCUdeqqXhPcQm1slFKcy6BWUREXG/Gl2x4tyDsQlTCGo/CYMRrBIgulSGGESrhNSpVUvoSEQtyRzWpCVA5MV/smQam6NvgdZ0fjGoVvHiM7HI4GTZeeAQiOpGJnGmaIxVArwXloy9EHRGLTMq5ZP1U7GKQVmxes+JMlYJoXSfZS5bIm7nhdv5xBQmagkglJIglGXJcsQhW1QteSpErAtBqVi+wTdb//f6VSf95tC+wbufN2mfyQE2y7qd6G0Tzv0MNCJqmNGzP2gyy2oGGverR+KVIUsIDbFuDz31sRPqpbnSwQ1BswqIlLVKRH9x77FKkL0jO073lTVpCUDKf5CkKDUK0vuGu0d+DAtBucoKCn/sxGIeLpnRfAHt2lea27ztxLj2n9O6nWjc0r07nnzNuNMRupGDpuZJQh/JrNuDfGoGyDLc6RhyX4fKqsfi0Od9CTcFJa2QbxIdoiuD4Nzhk5GMj6TisqgsWaqsc/ZCqbT02XTS27AYtHAb/gvkYpUGF47hHUX8P7HqGowx5uJ7xzljDDzOo2fCN97jEnXatHjcAAAAAElFTkSuQmCC\"></div>"
      ],
      "text/plain": [
       "3628800 fac[0]"
      ]
     },
     "execution_count": 14,
     "metadata": {
      "text/html": [],
      "text/plain": []
     },
     "output_type": "execute_result"
    }
   ],
   "source": [
    "fac[10]"
   ]
  },
  {
   "cell_type": "code",
   "execution_count": null,
   "id": "424990eb",
   "metadata": {
    "vscode": {
     "languageId": "python"
    }
   },
   "outputs": [],
   "source": [
    " Function[If[#1 == 1, 1, #1*#0[#1 - 1]]][10]"
   ]
  },
  {
   "cell_type": "code",
   "execution_count": 1,
   "id": "70be1e2e",
   "metadata": {
    "vscode": {
     "languageId": "python"
    }
   },
   "outputs": [
    {
     "data": {
      "text/html": [
       "<div><pre style=\"&#102;&#111;&#110;&#116;&#45;&#102;&#97;&#109;&#105;&#108;&#121;&#58;&#32;&#34;&#67;&#111;&#117;&#114;&#105;&#101;&#114;&#32;&#78;&#101;&#119;&#34;&#44;&#67;&#111;&#117;&#114;&#105;&#101;&#114;&#44;&#109;&#111;&#110;&#111;&#115;&#112;&#97;&#99;&#101;&#59;\">&#123;&#49;&#44;&#32;&#50;&#44;&#32;&#54;&#44;&#32;&#50;&#52;&#44;&#32;&#49;&#50;&#48;&#44;&#32;&#55;&#50;&#48;&#44;&#32;&#53;&#48;&#52;&#48;&#44;&#32;&#52;&#48;&#51;&#50;&#48;&#44;&#32;&#51;&#54;&#50;&#56;&#56;&#48;&#44;&#32;&#51;&#54;&#50;&#56;&#56;&#48;&#48;&#125;</pre></div>"
      ],
      "text/plain": [
       "{1, 2, 6, 24, 120, 720, 5040, 40320, 362880, 3628800}"
      ]
     },
     "execution_count": 1,
     "metadata": {
      "text/html": [],
      "text/plain": []
     },
     "output_type": "execute_result"
    }
   ],
   "source": [
    "RecurrenceTable[\n",
    " f[k] == k f[k - 1] && f[1] == 1, f, {k, 1, 10}]"
   ]
  },
  {
   "cell_type": "code",
   "execution_count": 16,
   "id": "2d71ac71",
   "metadata": {
    "vscode": {
     "languageId": "python"
    }
   },
   "outputs": [
    {
     "data": {
      "text/html": [
       "<div><pre style=\"&#102;&#111;&#110;&#116;&#45;&#102;&#97;&#109;&#105;&#108;&#121;&#58;&#32;&#34;&#67;&#111;&#117;&#114;&#105;&#101;&#114;&#32;&#78;&#101;&#119;&#34;&#44;&#67;&#111;&#117;&#114;&#105;&#101;&#114;&#44;&#109;&#111;&#110;&#111;&#115;&#112;&#97;&#99;&#101;&#59;\">&#123;&#49;&#44;&#32;&#50;&#44;&#32;&#54;&#44;&#32;&#50;&#52;&#44;&#32;&#49;&#50;&#48;&#44;&#32;&#55;&#50;&#48;&#44;&#32;&#53;&#48;&#52;&#48;&#44;&#32;&#52;&#48;&#51;&#50;&#48;&#44;&#32;&#51;&#54;&#50;&#56;&#56;&#48;&#44;&#32;&#51;&#54;&#50;&#56;&#56;&#48;&#48;&#125;</pre></div>"
      ],
      "text/plain": [
       "{1, 2, 6, 24, 120, 720, 5040, 40320, 362880, 3628800}"
      ]
     },
     "execution_count": 16,
     "metadata": {
      "text/html": [],
      "text/plain": []
     },
     "output_type": "execute_result"
    }
   ],
   "source": [
    "Rest@NestList[{1, 0} + First@# {1, Last@#} &, {1, 1}, 10][[All, -1]]\n"
   ]
  },
  {
   "cell_type": "markdown",
   "id": "72017905",
   "metadata": {},
   "source": [
    "Construya un gráfico aplicando f mientras VertexCount es menor que 5:"
   ]
  },
  {
   "cell_type": "code",
   "execution_count": 2,
   "id": "17886d36",
   "metadata": {
    "vscode": {
     "languageId": "python"
    }
   },
   "outputs": [
    {
     "data": {
      "text/html": [
       "<div><img alt=\"Output\" src=\"data:image/png;base64,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\"></div>"
      ],
      "text/plain": [
       "Graph[<5>, <4>]"
      ]
     },
     "execution_count": 2,
     "metadata": {
      "text/html": [],
      "text/plain": []
     },
     "output_type": "execute_result"
    }
   ],
   "source": [
    "ResourceFunction[\"NestWhileGraph\"][f, x, VertexCount[#] < 5 &, VertexLabels -> Automatic]"
   ]
  },
  {
   "cell_type": "code",
   "execution_count": 4,
   "id": "2707ddae",
   "metadata": {
    "vscode": {
     "languageId": "python"
    }
   },
   "outputs": [],
   "source": [
    "expr = (#1[[1, 2]] &) /@ Solve[8 x^4 + 42 x^3 + 64 x^2 + 71 x + 27 == 0, x, Quartics -> True];"
   ]
  },
  {
   "cell_type": "code",
   "execution_count": 5,
   "id": "e519cf60",
   "metadata": {
    "vscode": {
     "languageId": "python"
    }
   },
   "outputs": [
    {
     "data": {
      "text/html": [
       "<div><img alt=\"Output\" src=\"data:image/png;base64,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\"></div>"
      ],
      "text/plain": [
       "                            3053           21                     2           1\n",
       "{c58, {c1 :> -9032, c2 :> -(----), c3 :> -(--), c4 :> -1, c5 :> -(-), c6 :> -(-), \n",
       "                             32            16                     3           2\n",
       " \n",
       "             1           1            1           1          1         1         2\n",
       ">    c7 :> -(-), c8 :> -(--), c9 :> -(--), c10 :> --, c11 :> -, c12 :> -, c13 :> -, \n",
       "             3           12           16          16         3         2         3\n",
       " \n",
       "                                299                   1129         3053\n",
       ">    c14 :> 2, c15 :> 3, c16 :> ---, c17 :> 8, c18 :> ----, c19 :> ----, c20 :> 299, \n",
       "                                96                     12           32\n",
       " \n",
       "                                               c13            c5            c12\n",
       ">    c21 :> 46535, c22 :> 560405067, c23 :> c14   , c24 :> c14  , c25 :> c22   , \n",
       " \n",
       "                                                 c11            c7\n",
       ">    c26 :> c15 c25, c27 :> c21 + c26, c28 :> c27   , c29 :> c27  , c30 :> c14 c27, \n",
       " \n",
       "               c11            c7\n",
       ">    c31 :> c30   , c32 :> c30  , c33 :> c1 c23 c29, c34 :> c8 c24 c28, c35 :> c17 c31, \n",
       " \n",
       "                                                       c4\n",
       ">    c36 :> c18 c32, c37 :> c20 + c33 + c35, c38 :> c37  , c39 :> c15 c38, \n",
       " \n",
       "               c12            c6\n",
       ">    c40 :> c39   , c41 :> c39  , c42 :> c10 c41, c43 :> c19 c40, c44 :> c2 c40, \n",
       " \n",
       ">    c45 :> c9 c41, c46 :> c16 + c34 + c36 + c43, c47 :> c16 + c34 + c36 + c44, \n",
       " \n",
       "               c12            c12\n",
       ">    c48 :> c46   , c49 :> c47   , c50 :> c12 c48, c51 :> c12 c49, c52 :> c6 c48, \n",
       " \n",
       ">    c53 :> c6 c49, c54 :> c3 + c42 + c51, c55 :> c3 + c42 + c53, c56 :> c3 + c45 + c50, \n",
       " \n",
       ">    c57 :> c3 + c45 + c52, c58 :> {c55, c54, c57, c56}}}"
      ]
     },
     "execution_count": 5,
     "metadata": {
      "text/html": [],
      "text/plain": []
     },
     "output_type": "execute_result"
    }
   ],
   "source": [
    "optexpr = ResourceFunction[\"RecursiveRewrite\"][expr]"
   ]
  },
  {
   "cell_type": "code",
   "execution_count": 6,
   "id": "a6867f1c",
   "metadata": {
    "vscode": {
     "languageId": "python"
    }
   },
   "outputs": [
    {
     "data": {
      "text/html": [
       "<div><img alt=\"Output\" src=\"data:image/png;base64,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\"></div>"
      ],
      "text/plain": [
       "                                      299\n",
       "                                 Sqrt[--- + c18 c32 + c2 c40 + c24 c28 c8]\n",
       "  21              1                   96\n",
       "-(--) + ---------------------- - -----------------------------------------\n",
       "  16                       c4                        2\n",
       "        16 Sqrt[3] Sqrt[c37  ]"
      ]
     },
     "execution_count": 6,
     "metadata": {
      "text/html": [],
      "text/plain": []
     },
     "output_type": "execute_result"
    }
   ],
   "source": [
    "expr2 = Nest[# /. Last[optexpr] &, \"c58\", 6][[1]]"
   ]
  },
  {
   "cell_type": "code",
   "execution_count": 7,
   "id": "5541531c",
   "metadata": {
    "vscode": {
     "languageId": "python"
    }
   },
   "outputs": [
    {
     "data": {
      "text/html": [
       "<div><img alt=\"Output\" src=\"data:image/png;base64,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\"></div>"
      ],
      "text/plain": [
       "  21\n",
       "-(--) + 1 / (16 Sqrt[3] Sqrt[Power[Mouseover[c37, \n",
       "  16\n",
       " \n",
       ">         Framed[1200, FrameStyle -> RGBColor[1, 0, 0]]], \n",
       " \n",
       ">        Mouseover[c4, Framed[16, FrameStyle -> RGBColor[1, 0, 0]]]]]) - \n",
       " \n",
       "         299\n",
       ">   Sqrt[--- + Mouseover[c18, Framed[56, FrameStyle -> RGBColor[1, 0, 0]]] \n",
       "         96\n",
       " \n",
       ">       Mouseover[c32, Framed[456, FrameStyle -> RGBColor[1, 0, 0]]] + \n",
       " \n",
       ">      Mouseover[c2, Framed[56, FrameStyle -> RGBColor[1, 0, 0]]] \n",
       " \n",
       ">       Mouseover[c40, Framed[1456, FrameStyle -> RGBColor[1, 0, 0]]] + \n",
       " \n",
       ">      Mouseover[c24, Framed[128, FrameStyle -> RGBColor[1, 0, 0]]] \n",
       " \n",
       ">       Mouseover[c28, Framed[384, FrameStyle -> RGBColor[1, 0, 0]]] \n",
       " \n",
       ">       Mouseover[c8, Framed[56, FrameStyle -> RGBColor[1, 0, 0]]]] / 2"
      ]
     },
     "execution_count": 7,
     "metadata": {
      "text/html": [],
      "text/plain": []
     },
     "output_type": "execute_result"
    }
   ],
   "source": [
    "ResourceFunction[\"FromRecursiveRewrite\"][expr2, Last[optexpr], Mouseover[#1, Framed[Style[ByteCount[#2], Red], FrameStyle -> Red]] &]"
   ]
  },
  {
   "cell_type": "code",
   "execution_count": 8,
   "id": "282a443a",
   "metadata": {
    "vscode": {
     "languageId": "python"
    }
   },
   "outputs": [
    {
     "data": {
      "text/html": [
       "<div><img alt=\"Output\" src=\"data:image/png;base64,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\"></div>"
      ],
      "text/plain": [
       "       21\n",
       "Plus[-(--), |                                                     , \n",
       "       16         1\n",
       "            Times[--, |             , |                          ]\n",
       "                  16             1                            1\n",
       "                      Power[3, -(-)]  Power[|             , -(-)]\n",
       "                                 2          Power[c37, c4]    2\n",
       " \n",
       ">   |                                                                              ]\n",
       "            1\n",
       "    Times[-(-), \n",
       "            2\n",
       "     \n",
       "    >    |                                                                        ]\n",
       "                                                                                1\n",
       "         Power[|                                                              , -]\n",
       "                    299                                                         2\n",
       "               Plus[---, |              , |             , |                  ]\n",
       "                    96   Times[c18, c32]  Times[c2, c40]  Times[c24, c28, c8]"
      ]
     },
     "execution_count": 8,
     "metadata": {
      "text/html": [],
      "text/plain": []
     },
     "output_type": "execute_result"
    }
   ],
   "source": [
    "TreeForm[ResourceFunction[\"FromRecursiveRewrite\"][expr2, Last[optexpr], #1 &]]"
   ]
  },
  {
   "cell_type": "code",
   "execution_count": 18,
   "id": "cb868133",
   "metadata": {
    "vscode": {
     "languageId": "python"
    }
   },
   "outputs": [
    {
     "data": {
      "text/html": [
       "<div><img alt=\"Output\" src=\"data:image/png;base64,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\"></div>"
      ],
      "text/plain": [
       "Graph[<31>, <30>]"
      ]
     },
     "execution_count": 18,
     "metadata": {
      "text/html": [],
      "text/plain": []
     },
     "output_type": "execute_result"
    }
   ],
   "source": [
    "ResourceFunction[\"NestWhileGraph\"][{f[#], g[#]} &, 0, Function[{g1, g2},\n",
    "     VertexCount@VertexDelete[g2, VertexList[g1]]\n",
    "     ] @@ # <= 8 &, 2]"
   ]
  },
  {
   "cell_type": "code",
   "execution_count": 21,
   "id": "e87b1a95",
   "metadata": {
    "vscode": {
     "languageId": "python"
    }
   },
   "outputs": [
    {
     "data": {
      "text/html": [
       "<div><img alt=\"Output\" src=\"data:image/png;base64,iVBORw0KGgoAAAANSUhEUgAAAWMAAAAtCAIAAAD0hZ0eAAAA0npUWHRSYXcgcHJvZmlsZSB0eXBlIGV4aWYAAHjadU/RbQUhDPtnio4QkuDAOLwHJ3WDjl9zUKlXqZaIjXGCkubX55U+FjRL8hIVDRDCmzftFFU2Nmdpd70BOyo//aRji9xplV8N8/ivpx/YrPXPINEtbP1AbX4aziDT7ee+76+T117rY9A1rhtnGfGftfI/dwtFQQ5ndZUINOqaKEkoKiVw4Q0wmDFU/E2eiGAbYiWsr8YFnfFMzwSjMdYKto5aJ4NV+TUXtkbtp7oOvtqdWet8A680XH3Ud0HJAAAACXBIWXMAAAsTAAALEwEAmpwYAAAAPHRFWHRTb2Z0d2FyZQBDcmVhdGVkIHdpdGggdGhlIFdvbGZyYW0gTGFuZ3VhZ2UgOiB3d3cud29sZnJhbS5jb21coqaFAAAAIXRFWHRDcmVhdGlvbiBUaW1lADIwMjI6MDY6MjcgMTk6NDk6NDRKUd+ZAAAKFUlEQVR4nO2dPUwbyxbH/2Ocj+UqUqSNy9D4QyaheR2YJyRXyImSECGlvRJY0KxkUqClSHmLrCiwpW2CDNJrkRDEKFiukKIYqJKGD2ttN6TElqIoN3tvEN5X7PoLdm1sLyEm59fgHZ+Zc7yeOXPOzOBlmqaBIAiiIc6rNoDoiNPT02/fvp2cnJRKJeZg0AAwAEBlAmDV1+wKLCSuHv37r+8ItQECY8zpdN65c6enp8eqDUYxRfdyenr69etXp9PpcDgcDsdVm0N0K6VSqVQqnZyc3L1716ojkafoYr5+/Qrgxo0bjFG0QHSEpmknJyeMsTt37pgK0ETUxZz8+OF0OslNEJ3DGLtx48a/P/61EiBP0cVoALkJwi4YY7BOMMhTdDEORl8fYScO64mHulo3Q/EEYS/kKa4ljDHKPgg7IU9BEERTGkw7dPKqq8glY+8UwPc4EvIADb5ZVVWXl5dt0TkxMcFx3PlyJSGtHQKAayT8DG/f4tnEEG+LxlbJy8FwZi4ue5LBBe+WPHp5agZmd4HJddXQkZeDA5k59SWE8Gt/fEtwt9jclVjbSKPRn4xuVu1nIE/RZWThi0RC5aummcfExESHCi3djZJYw3NR9FVVtaeguLOc5iee+ppLWpJPZsbj8qgbeWuRzkdlSggjrqq1ziC1sIrBh4B7VI5nhWQerbkKSy7X2oboXcoTikRCSMZiQKWzUfZBtAXvch1mlMqlkljeKQJQEpIkSZKUSOgFxZ3lxM7OsiRJkqRLVESkhAIlEX9/fLgmSQml3EK1MSWxnEgsSwmlplkFKO4sVyTNyctBQZaDHMdxXFDOIyUMzO4ujXGckAJSAsdxnP4aNZeCEJTzdSUpACkhKAhBTkilNvAwM1BTEXl5wz83foFblZcF2dqJ/WrWWkGegmgLfmgi7PpgDN4yRqAhiqIfh+XCw0M8E0UxPIJDpQjA91QURVEMjxQyiu9peMTV/1wUzYOK44LrmfjUpyQ+uMKiKIphV2anyA9N1Kc5ucz+uZpLq4irqro3j9VkflTemx+cXFdVeTQlvPbvqaqq7vk35DxSwhjWVVVV1SdYAgCcEQB29/1xVfZk95fwRFVVdR1jQgrIywt4KXiqGvczOYtb5RZeIhxs5Cx+vrWtQ9kH0S780IQ4VNxZlhIQ/QBQLBb6/fqQ9/n7Pxjzfv9/h3gAvK8f6SLAV9Y30P+8iQZXv48HisXC8fu49F6vwz9FrZvIy8HXmNs6G/ZPzgluAO7QOBZyQHmM5LP7u7MD3Kwu432J/cknMgBg9Mnk6+w5AdmLwfGQG8gDk09GAcDjHzRGnlyT77iFOQSDsqe8VpESgq9r/dfu7m5YsMwofra17UAxBdERPH8PhWKx/LqckRSLBXP54s4HPewIj7jqG3IZMQeUzOHZWq6RsKhzNvhwC1tz2Gg0YZ9hcH5P1ZFH3d6HSxt6eJ7P7psIVNVUJHMZ+LMLs0uzAxzHDczuLo0F5Tzy8gbmapY0R+WtGuLjg4Pz8XYWHi7H2na4TE+Riw0zNp2sFiSn9RMAdYUXaKQFcZur28u5G9LFVFYb1gojz8rJgG94pLAmSZIkvT032A14/t7hmiRJUvz9MQDwvv7CmiQlFN7Xj/dxSZKkDPrrqww96z+MVxYqzq1TePxNrXWHxvfHOE7ICfHx1YFqZj/6cn5/jOM4jguv6oJnBCqMyusY4ziOe+2PC4JsjM69+cHJdcNB+K2C+7y8kJlrZWPkZ1jbMsb/kian2aNFvSQQzaYjHWU0ZXKxYe/MwKb2JnS29ODVmcLGjVTFW7azmbaaBgFMnTW2TSy0mt+QVkgmk6FQpfaXL19u375tKqjvktqy92G1S9oQJSFl/BarD3aTl4VkSO5w3yElcBtPGu4gXr4NF6dDay35559/7t69a1wkYzFvJFKzS1ruv5odY6QWTyStRexr7rLstMs9NMfmG/LrUdxZNkIF9D8Xf4qbAOD2YjUsIN7GQC0fOgAwua524CbCq/640Gb1FvTYYW2bOJB7t7I9tXl+rORiw6wuWcjFhodjsWnGmPFHL09Os+lYWXY4ZiwAt5BonFNUV+id2TZKLmqneXUrSROS05X3q8mL+ces/aR6q7nYsK518VGdrPkNMTHJUlGbqMXPiqIoivJZtZL4/Cn9yfLdVuCHJkSL9YTLZFTe2mpvPncLW+r5NL/1VuStdoP61vTYYW2bOHLvVrYDD7xninOxYe/Ki6ymaZqWje49Mnrs9szBmLY5tT2z8iCbjQb2FL0fL84cvNIlMfOnLhl6o2laNhpoakBy2qtX1jRtE4ai5LQePdS00YqdJtUtFAGoDOmm47L8MTentmfmk0aj7BE2jVa1NyE9btCy0QCmjGIjRTK5IRY32VRRm6ifP33MFMDxPM/1dtIQ8btjvkuae7eyPfUqraconsirqZn1LB4DmBoLAesIvHjswbuKeHmq9zx+EZg5yFa3eZqTU/awuMgqSwWBKIDk+mIgmr1ARmBqJ7Jm1U0VGdZfMPsof0zvgwAOgFYMvbjxHlNFbVL8fPTd5R/28QB46I7j6DuAXlef33cf+mUvgN7yu+gF/vD/x3c157KJXxaHxzeA7YPsVenPHmwHolmtguUiZad2XljRNcZwHMPD/j+OCwW1fOnv6zXehauvr8+F4yNbchHiOuFAaDYaWHxUn7h7Hr8ILP5lBMO52F+L5+N+M5LzM9tTYy1NsaExkwjb+yCwvfIuByAX+7O80HBxO82rmymyRM+raqqb430QMG3U4xtAOTWzpM2b3Aq9XC+Oi/qwV80Gf69JTsL3+fvutbrXQVx3HIAnkt6cOpOseyLpzYEZr74ouPKiyX5kufKjvWhWj5v1lbrqwt500qow9CYb3TuzUuCJ/C+KGS9jzHvwanPK0HJhO82rmykyJzRbrr7yIjplKaabVNto1Y1VmihrMvvsrd3kduDu+/tcfx99TKfT6Y+fi/z9vt7jTDqdzvzt6rvP8bwLRx/TnzKF7wDA3+/D8VHm6Ojo6LvNdhDdT+e/zZ2cZutjP2uf8Xena85TEF1Jg/MUdJqbIIjmkKcgCKI5nf8vaeiN7Yc7CYL4xaCYgiCI5pCnIAiiOeQpCIJoDv3mVXehrMcUpe43kwnCbvTf5j44wGy1jJ513sU0PU9hixY6T/H7UHeeoh7yFF1MY09hoyLyFL8JDTwFZR9dTIPHfdDYJtqgwRNkaEWzm6GHkhI2Q88lvZ6QpyDshNETjK8lFFIQPw3yFF1MgxmAINqAYorrCQNo64qwEfIU15Mep7NUKl21FcQ1oVQqOZ2Wm6HkKbqYW7duaZp2enp61YYQXU+pVNI03Lx500qATl51N6VS6cePH6XT01JJYw6maWDQAIAxTdMYGACNadBAC6C/L0yr6QR6L9CgMUDTwMA0BtbT03Pz5k2HwzJ0IE9BEERz/g+APnQo7bPi+gAAAABJRU5ErkJggg==\"></div>"
      ],
      "text/plain": [
       "CompiledCodeFunction[<|Signature -> TypeSpecifier[{Integer64} -> Integer64], \n",
       " \n",
       ">    Input -> Function[{Typed[arg, MachineInteger]}, \n",
       " \n",
       ">      Module[{factFun}, factFun = \n",
       " \n",
       ">         Function[{arg1}, If[arg1 === 1, 1, arg1 factFun[arg1 - 1]]]; factFun[arg]]], \n",
       " \n",
       ">    ErrorFunction -> Automatic, SystemID -> Windows-x86-64, \n",
       " \n",
       ">    VersionData -> {12.2, 0, 0}, orcInstance -> 1348231184, orcModuleId -> 1, \n",
       " \n",
       ">    targetMachineId -> 507582992|>, 474546672, 474546464, 474546576, 474546176, \n",
       " \n",
       ">   {\"Integer64\"} -> \"Integer64\"]"
      ]
     },
     "execution_count": 21,
     "metadata": {
      "text/html": [],
      "text/plain": []
     },
     "output_type": "execute_result"
    }
   ],
   "source": [
    "fun = FunctionCompile[\n",
    "     Function[{Typed[arg, \"MachineInteger\"]},\n",
    "         Module[{factFun},\n",
    "             \n",
    "    factFun = \n",
    "     Function[{arg1}, If[arg1 === 1, 1, arg1*factFun[arg1 - 1]]];\n",
    "             factFun[arg]]]]\n"
   ]
  },
  {
   "cell_type": "code",
   "execution_count": 22,
   "id": "3560337e",
   "metadata": {
    "vscode": {
     "languageId": "python"
    }
   },
   "outputs": [
    {
     "data": {
      "text/html": [
       "<div><pre style=\"&#102;&#111;&#110;&#116;&#45;&#102;&#97;&#109;&#105;&#108;&#121;&#58;&#32;&#34;&#67;&#111;&#117;&#114;&#105;&#101;&#114;&#32;&#78;&#101;&#119;&#34;&#44;&#67;&#111;&#117;&#114;&#105;&#101;&#114;&#44;&#109;&#111;&#110;&#111;&#115;&#112;&#97;&#99;&#101;&#59;\">&#51;&#54;&#50;&#56;&#56;&#48;&#48;</pre></div>"
      ],
      "text/plain": [
       "3628800"
      ]
     },
     "execution_count": 22,
     "metadata": {
      "text/html": [],
      "text/plain": []
     },
     "output_type": "execute_result"
    }
   ],
   "source": [
    "fun[10]"
   ]
  },
  {
   "cell_type": "code",
   "execution_count": 25,
   "id": "580f3741",
   "metadata": {
    "vscode": {
     "languageId": "python"
    }
   },
   "outputs": [
    {
     "data": {
      "text/html": [
       "<div><pre style=\"&#102;&#111;&#110;&#116;&#45;&#102;&#97;&#109;&#105;&#108;&#121;&#58;&#32;&#34;&#67;&#111;&#117;&#114;&#105;&#101;&#114;&#32;&#78;&#101;&#119;&#34;&#44;&#67;&#111;&#117;&#114;&#105;&#101;&#114;&#44;&#109;&#111;&#110;&#111;&#115;&#112;&#97;&#99;&#101;&#59;\">&#51;&#46;&#53;&#49;&#56;&#57;&#56;</pre></div>"
      ],
      "text/plain": [
       "3.51898"
      ]
     },
     "execution_count": 25,
     "metadata": {
      "text/html": [],
      "text/plain": []
     },
     "output_type": "execute_result"
    }
   ],
   "source": [
    "First[RepeatedTiming[fun[1000000000000000000]]/RepeatedTiming[100000!]]"
   ]
  },
  {
   "cell_type": "code",
   "execution_count": null,
   "id": "ce68d68e",
   "metadata": {
    "vscode": {
     "languageId": "python"
    }
   },
   "outputs": [],
   "source": []
  }
 ],
 "metadata": {
  "interpreter": {
   "hash": "f56fb68111aa59acb18e045ab5b7ca177ec8a0a62474e877ebf222a9a927e4e2"
  },
  "kernelspec": {
   "display_name": "Wolfram Language 12.2",
   "language": "Wolfram Language",
   "name": "wolframlanguage12.2"
  },
  "language_info": {
   "codemirror_mode": "mathematica",
   "file_extension": ".m",
   "mimetype": "application/vnd.wolfram.m",
   "name": "Wolfram Language",
   "pygments_lexer": "mathematica",
   "version": "12.0"
  }
 },
 "nbformat": 4,
 "nbformat_minor": 5
}
