{
 "cells": [
  {
   "cell_type": "markdown",
   "id": "c25ecc5f",
   "metadata": {},
   "source": [
    "# Funciones recursivas"
   ]
  },
  {
   "cell_type": "markdown",
   "id": "b6d9af2a",
   "metadata": {},
   "source": [
    "### Una función recursiva es aquella que se llama a si misma en su interior, o que llama a otras funciones que llaman a la primera en algún momento. Es otra manera de lograr un funcionamiento iterativo, pero que deben tener una o más secuencias de ejecución que interrumpan la recursividad, porque sino tendremos recursividad infinita."
   ]
  },
  {
   "cell_type": "markdown",
   "id": "88ccebbc",
   "metadata": {},
   "source": [
    "### En otras palabras, Recursión describe la situación donde una función, una vez invocada, es llamada nuevamente antes de que la primera invocación termine y retorne un resultado. "
   ]
  },
  {
   "cell_type": "markdown",
   "id": "af586a3c",
   "metadata": {},
   "source": [
    "## Requisitos para la recursión\n",
    "\n",
    "1. Una o más secuencias de ejecución donde la recursión tendrá lugar.\n",
    "2. Una o más secuencias de ejecución donde la recursión no tiene lugar (caso base).\n",
    "3. Un valor, normalmente un argumento, que cambia de llamada a función a otra. Este cambio de valor es el que, eventualmente, detendrá la recursión."
   ]
  },
  {
   "cell_type": "markdown",
   "id": "44a506e9",
   "metadata": {},
   "source": [
    "## Recursión directa\n",
    "\n",
    "El caso más simple, una función se llama a si misma antes de retornar un resultado."
   ]
  },
  {
   "cell_type": "code",
   "execution_count": 8,
   "id": "4dd9fc0a",
   "metadata": {},
   "outputs": [],
   "source": [
    "def f(a):\n",
    "    ...\n",
    "    f(b)\n",
    "    ..."
   ]
  },
  {
   "cell_type": "markdown",
   "id": "5dcaae91",
   "metadata": {},
   "source": [
    "## Recursion indirecta\n",
    "Ocurre en una secuencia de llamados a función, donde al menos una función es llamada nuevamente antes de que esta termine y returne un resultado."
   ]
  },
  {
   "cell_type": "code",
   "execution_count": 10,
   "id": "4f9865e2",
   "metadata": {},
   "outputs": [],
   "source": [
    "def a():\n",
    "    ...\n",
    "    b()\n",
    "    ...\n",
    "\n",
    "def b():\n",
    "    ...\n",
    "    c()\n",
    "    ...\n",
    "\n",
    "def c():\n",
    "    ...\n",
    "    d()\n",
    "    ...\n",
    "    \n",
    "def d():\n",
    "    ...\n",
    "    a()\n",
    "    ..."
   ]
  },
  {
   "cell_type": "markdown",
   "id": "52ba52de",
   "metadata": {},
   "source": [
    "# Ejemplos"
   ]
  },
  {
   "cell_type": "code",
   "execution_count": 17,
   "id": "689adfb2",
   "metadata": {},
   "outputs": [],
   "source": [
    "def cuenta_regresiva(num):\n",
    "    num -= 1\n",
    "    if num > 0:\n",
    "        print(num)\n",
    "        cuenta_regresiva(num)\n",
    "    else:\n",
    "        print(\"Boooooooom!\")\n",
    "    print(\"Fin de la función\", num)"
   ]
  },
  {
   "cell_type": "code",
   "execution_count": 18,
   "id": "5cc746da",
   "metadata": {},
   "outputs": [
    {
     "name": "stdout",
     "output_type": "stream",
     "text": [
      "5\n",
      "4\n",
      "3\n",
      "2\n",
      "1\n",
      "Boooooooom!\n",
      "Fin de la función 0\n",
      "Fin de la función 1\n",
      "Fin de la función 2\n",
      "Fin de la función 3\n",
      "Fin de la función 4\n",
      "Fin de la función 5\n"
     ]
    }
   ],
   "source": [
    "cuenta_regresiva(6)"
   ]
  },
  {
   "cell_type": "code",
   "execution_count": 19,
   "id": "1afc8395",
   "metadata": {},
   "outputs": [],
   "source": [
    "def factorial(num):\n",
    "    print(\"Valor inicial ->\", num)\n",
    "    if num > 1:\n",
    "        num = num * factorial(num -1)\n",
    "    print(\"valor final ->\", num)\n",
    "    return num"
   ]
  },
  {
   "cell_type": "code",
   "execution_count": 21,
   "id": "bc14489d",
   "metadata": {},
   "outputs": [
    {
     "name": "stdout",
     "output_type": "stream",
     "text": [
      "Valor inicial -> 5\n",
      "Valor inicial -> 4\n",
      "Valor inicial -> 3\n",
      "Valor inicial -> 2\n",
      "Valor inicial -> 1\n",
      "valor final -> 1\n",
      "valor final -> 2\n",
      "valor final -> 6\n",
      "valor final -> 24\n",
      "valor final -> 120\n"
     ]
    },
    {
     "data": {
      "text/plain": [
       "120"
      ]
     },
     "execution_count": 21,
     "metadata": {},
     "output_type": "execute_result"
    }
   ],
   "source": [
    "factorial(5)"
   ]
  },
  {
   "cell_type": "code",
   "execution_count": 22,
   "id": "9e1613b2",
   "metadata": {},
   "outputs": [],
   "source": [
    "def reverse_string(text):\n",
    "    if len(text) <= 1:\n",
    "        return text\n",
    "    return reverse_string(text[1:]) + text[0]"
   ]
  },
  {
   "cell_type": "code",
   "execution_count": 23,
   "id": "6dc47b45",
   "metadata": {},
   "outputs": [
    {
     "data": {
      "text/plain": [
       "'!odnum aloH'"
      ]
     },
     "execution_count": 23,
     "metadata": {},
     "output_type": "execute_result"
    }
   ],
   "source": [
    "reverse_string(\"Hola mundo!\")"
   ]
  },
  {
   "cell_type": "markdown",
   "id": "9d982c2f",
   "metadata": {},
   "source": [
    "## Recursion VS iteración\n",
    "\n",
    "- La iteración utiliza una estructura de repetición​\n",
    "- la recursión utiliza una estructura de selección​\n",
    "- La dos implican repetición​\n",
    "    - La recursión consigue la repetición mediante llamadas de función repetidas​\n",
    "    - La iteración y la recursión involucran una prueba de terminación:​\n",
    "    - La iteración termina cuando falla la condición de continuación del ciclo​\n",
    "    - La recursión termina cuando se reconoce un caso base o degenerado.​"
   ]
  },
  {
   "cell_type": "markdown",
   "id": "aafc1f2b",
   "metadata": {},
   "source": [
    "## Desventajas de la recursión\n",
    "\n",
    "- La sobrecarga de llamadas resultar costoso tanto en tiempo de procesador como en espacio de memoria.​\n",
    "\n",
    "- Cada llamada recursiva genera otra copia de la función, esto puede consumir gran cantidad de memoria.​\n",
    "\n",
    "- La iteración ocurre dentro de una función por lo que no ocurre la sobrecarga de llamadas repetidas de función y asignación extra de memoria.​"
   ]
  }
 ],
 "metadata": {
  "kernelspec": {
   "display_name": "Python 3 (ipykernel)",
   "language": "python",
   "name": "python3"
  },
  "language_info": {
   "codemirror_mode": {
    "name": "ipython",
    "version": 3
   },
   "file_extension": ".py",
   "mimetype": "text/x-python",
   "name": "python",
   "nbconvert_exporter": "python",
   "pygments_lexer": "ipython3",
   "version": "3.10.4"
  }
 },
 "nbformat": 4,
 "nbformat_minor": 5
}

