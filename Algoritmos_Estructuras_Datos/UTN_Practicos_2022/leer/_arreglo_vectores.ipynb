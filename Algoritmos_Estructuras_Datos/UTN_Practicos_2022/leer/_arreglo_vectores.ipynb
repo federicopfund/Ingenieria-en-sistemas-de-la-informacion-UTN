{
  "cells": [
    {
      "cell_type": "markdown",
      "metadata": {
        "id": "jUhnxpADwjvj"
      },
      "source": [
        "# Listas (arrays, arreglos o vectores) en Python.\n",
        "Las listas en Python forman parte de lo que se conoce como **estructuras de datos** que nos ofrece Python (son un tipo de arreglos). En otros lenguajes de programación, se los conoce como vectores.\n",
        "\n",
        "Las listas, son una estructura de datos de vital importancia, pues son útiles para resolver múltiples problemas que nunca podríamos solucionar sin ellas. \n",
        "Las listas en Python son utilizadas para almacenar múltiples valores en una única variable. Esto puede parecer innecesario, pero en realidad resuelve muchos desafíos. Veamos.\n",
        "\n",
        "En múltiples ocasiones es necesario **almacenar gran cantidad de información en una variable** y a menudo sucede que no conocemos con exactitud la cantidad de datos que debemos almacenar en ella. Sin embargo, sabemos que sí sería más de uno, como por ejemplo almacenar los nombres de las personas ingresadas en tu programa. En este caso, las listas nos permiten solucionar este tipo de problemas, pues en una misma lista podremos almacenar todos esos valores, sin importar cuántos sean."
      ]
    },
    {
      "cell_type": "markdown",
      "metadata": {
        "id": "8Tv-Xshrw5wn"
      },
      "source": [
        "# ¿Cómo declarar una lista?\n",
        "Para declarar una lista en Python, se deben seguir las mismas normas básicas que se siguen para declarar una variable cualquiera, con un pequeño cambio en la sintaxis:"
      ]
    },
    {
      "cell_type": "code",
      "execution_count": 1,
      "metadata": {
        "id": "RCO3jIqpw78T"
      },
      "outputs": [],
      "source": [
        "nombre_de_la_lista = []\n",
        "\n",
        "otra_lista = list()"
      ]
    },
    {
      "cell_type": "markdown",
      "metadata": {
        "id": "Aal61wqXxGXc"
      },
      "source": [
        "Una vez la lista es creada, podemos **agregarle** elementos, **quitarlos**, **obtenerlos**, entre otras cosas. \n",
        "Sin embargo, también podemos crear listas con elementos en su interior desde el \n",
        "comienzo."
      ]
    },
    {
      "cell_type": "code",
      "execution_count": null,
      "metadata": {
        "id": "KiGtqGQtxHNR"
      },
      "outputs": [],
      "source": [
        "lista_con_elementos = [1, 2, True, 'Hola', 5.8]\n",
        "\n",
        "otra_lista_con_elementos = list([4, 9, False, 'texto'])"
      ]
    },
    {
      "cell_type": "markdown",
      "metadata": {
        "id": "Y1Ti9MbTxOVu"
      },
      "source": [
        "# Obtener el valor de un elemento de una lista\n",
        "Es muy común el caso en el que tenemos una lista con una enorme cantidad de elementos, sin embargo, de todos esos elementos solo nos interesa **uno en especial** y corremos con la suerte de saber cuál es su valor o mejor aún su posición específica dentro de la lista."
      ]
    },
    {
      "cell_type": "code",
      "execution_count": null,
      "metadata": {
        "id": "USZ1InHhxafu"
      },
      "outputs": [],
      "source": [
        "mi_lista = ['Juan', 'Pedro', 'Laura', 'Carmen', 'Susana']\n",
        "print(mi_lista[0]) #(la primera posición es la 0)\n",
        "print(mi_lista[-1]) # Muestra Susana\n",
        "print(mi_lista[1]) # Muestra Pedro\n",
        "print(mi_lista[2]) # Muestra Laura\n",
        "print(mi_lista[-2]) # Muestra Carmen"
      ]
    },
    {
      "cell_type": "markdown",
      "metadata": {
        "id": "6VPTrdSUxlWW"
      },
      "source": [
        "Hay varias cosas por comprender:\n",
        "\n",
        "1.   Puedes **acceder a una posición** usando el nombre de la variable y corchetes \"[]\" indicando en su interior el índice que quieres obtener.\n",
        "2.   Las **posiciones** de las listas **comienzan desde cero,** así la primera posición se accede como **[0]** y la última sería el tamaño total menos 1\n",
        "3. Se pueden usar **índices negativos**, así accediendo a los elementos de la **lista** contando dese atrás hacia adelante. Un modo sencillo de obtener el último elemento es con [-1]\n",
        "4. Si accedes a un **índice que no existe**, el programa fallará."
      ]
    },
    {
      "cell_type": "markdown",
      "metadata": {
        "id": "pTdmsaF-yW-V"
      },
      "source": [
        "# Recorrer una lista\n",
        "Los ciclos son de gran ayuda. El caso general, sería hacerlo por medio de un ciclo for que vaya accediendo uno por uno a los elementos o incluso aumentando de uno en uno el índice que queremos acceder de la lista."
      ]
    },
    {
      "cell_type": "code",
      "execution_count": 3,
      "metadata": {
        "colab": {
          "base_uri": "https://localhost:8080/",
          "height": 0
        },
        "id": "f1KnXe9Byd8t",
        "outputId": "8181af57-c015-44fc-841d-7ed5721e81ce"
      },
      "outputs": [
        {
          "name": "stdout",
          "output_type": "stream",
          "text": [
            "Recorriendo los elementos\n",
            "20\n",
            "41\n",
            "6\n",
            "18\n",
            "23\n",
            "Recorriendo los índices\n",
            "20\n",
            "41\n",
            "6\n",
            "18\n",
            "23\n",
            "Recorriendo los índices\n",
            "20\n",
            "41\n",
            "6\n",
            "18\n",
            "23\n"
          ]
        }
      ],
      "source": [
        "edades = [20, 41, 6, 18, 23]\n",
        "\n",
        "# Recorriendo los elementos\n",
        "print (\"Recorriendo los elementos\")\n",
        "for edad in edades:\n",
        "    print(edad)\n",
        "\n",
        "# Recorriendo los índices\n",
        "print (\"Recorriendo los índices\")\n",
        "for i in range(len(edades)):\n",
        "    print(edades[i])\n",
        "\n",
        "# Recorriendo los índices\n",
        "print(\"Recorriendo los índices\")\n",
        "indice = 0\n",
        "while indice < len(edades):\n",
        "    print(edades[indice])\n",
        "    indice += 1"
      ]
    },
    {
      "cell_type": "markdown",
      "metadata": {
        "id": "hA4bB81hzK_a"
      },
      "source": [
        "# Cómo agregar y remover elementos a una lista\n",
        "Hay muchas operaciones que se pueden llevar a cabo con las listas en Python. Sin embargo, las más importantes son **agregar** y **remover**, elementos de la misma, así que veamos cómo hacerlo."
      ]
    },
    {
      "cell_type": "markdown",
      "metadata": {
        "id": "syIyfD-xzZY5"
      },
      "source": [
        "# Agregado elementos a una lista con append()\n",
        "Se puede usar la función **append** de las listas para **agregar** un **elemento**."
      ]
    },
    {
      "cell_type": "code",
      "execution_count": 5,
      "metadata": {
        "colab": {
          "base_uri": "https://localhost:8080/",
          "height": 0
        },
        "id": "AxziI13Dzcxw",
        "outputId": "88d0864f-bcff-4d76-84d8-9ebe5ecb1726"
      },
      "outputs": [
        {
          "name": "stdout",
          "output_type": "stream",
          "text": [
            "[10, 5, 12, 3]\n"
          ]
        }
      ],
      "source": [
        "números = []\n",
        "\n",
        "números.append(10)\n",
        "números.append(5)\n",
        "números.append(12)\n",
        "números.append(3)\n",
        "\n",
        "print(números)"
      ]
    },
    {
      "cell_type": "markdown",
      "metadata": {
        "id": "HAlff4Rxzmtj"
      },
      "source": [
        "# Uniendo listas\n",
        "Hay otro modo de agregar elementos a una lista y es básicamente uniendo la lista existente con una nueva."
      ]
    },
    {
      "cell_type": "code",
      "execution_count": 8,
      "metadata": {
        "colab": {
          "base_uri": "https://localhost:8080/",
          "height": 0
        },
        "id": "abBaGucwzyOm",
        "outputId": "fcfc985a-32c2-4d68-e6a9-956a101fe455"
      },
      "outputs": [
        {
          "name": "stdout",
          "output_type": "stream",
          "text": [
            "[10, 5, 12, 3, 12, 1, 7, 12, 1, 7, 10, 5, 12, 3, 12, 1, 7, 12, 1, 7]\n"
          ]
        }
      ],
      "source": [
        "# Unimos la lista anterior con una nueva\n",
        "números = números + [12, 1, 7]\n",
        "\n",
        "print(números)"
      ]
    },
    {
      "cell_type": "markdown",
      "metadata": {
        "id": "EC2lVf9tz16q"
      },
      "source": [
        "# Removiendo un elemento de una lista con pop()\n",
        "La función **pop**, removerá un elemento según el índice que se indique."
      ]
    },
    {
      "cell_type": "code",
      "execution_count": 11,
      "metadata": {
        "colab": {
          "base_uri": "https://localhost:8080/",
          "height": 0
        },
        "id": "X9t4Pjkoz9Jg",
        "outputId": "c94a5334-37d4-40cc-f2e8-3321a75afa95"
      },
      "outputs": [
        {
          "name": "stdout",
          "output_type": "stream",
          "text": [
            "['hola', 'ola']\n"
          ]
        }
      ],
      "source": [
        "palabras = ['hola', 'hello', 'ola']\n",
        "\n",
        "palabras.pop(1)\n",
        "\n",
        "print(palabras)"
      ]
    },
    {
      "cell_type": "markdown",
      "metadata": {
        "id": "T9JGwKoI0FWf"
      },
      "source": [
        "# Removiendo un elemento de una lista con remove()\n",
        "La función **remove**, removerá un elemento según el valor que este tenga al interior de la lista."
      ]
    },
    {
      "cell_type": "code",
      "execution_count": 14,
      "metadata": {
        "colab": {
          "base_uri": "https://localhost:8080/",
          "height": 0
        },
        "id": "2bU25Rn90J61",
        "outputId": "bc6a0776-67ef-448b-d910-280dc7c5738a"
      },
      "outputs": [
        {
          "name": "stdout",
          "output_type": "stream",
          "text": [
            "['hola', 'hello', 'ola']\n"
          ]
        }
      ],
      "source": [
        "palabras = ['hola', 'hello', 'hello', 'ola']\n",
        "\n",
        "palabras.remove('hello')\n",
        "\n",
        "print(palabras)"
      ]
    },
    {
      "cell_type": "markdown",
      "metadata": {
        "id": "WYnWpn680r2N"
      },
      "source": [
        "# Tablas (matrices o listas de listas) en Python\n",
        "Las tablas, son una estructura de datos de vital importancia, pues son útiles para resolver múltiples problemas que no podríamos solucionar sin ellas. \n",
        "Son utilizadas para almacenar múltiples valores en una única variable. De hecho, al final se trata de una **lista que contiene otras listas en su interior**.\n",
        "Las tablas no son más que lo que se conoce como matrices o listas de listas en otros lenguajes de programación. En Python van un poco más allá, pues en esencia te dan múltiples niveles más de \"anidamiento\", teniendo así listas al interior de otras.\n",
        "\n",
        "\n",
        "\n",
        "![descarga.png](data:image/png;base64,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)"
      ]
    },
    {
      "cell_type": "markdown",
      "metadata": {
        "id": "4wTfoji-FdqY"
      },
      "source": [
        "# ¿Cómo crear una tabla?\n",
        "Para declarar una tabla en Python, se deben seguir las mismas normas básicas que se siguen para declarar una lista, teniendo en cuenta que contendrá listas en su interior:\n"
      ]
    },
    {
      "cell_type": "code",
      "execution_count": null,
      "metadata": {
        "id": "xgSHUwhtFjke"
      },
      "outputs": [],
      "source": [
        "nombre_de_la_tabla = []\n",
        "\n",
        "# También puedes iniciar la listas en el interior\n",
        "nombre_de_la_tabla = [[], []]"
      ]
    },
    {
      "cell_type": "markdown",
      "metadata": {
        "id": "TXhglKtkFqLa"
      },
      "source": [
        "# Obtener el valor de un elemento de una tabla\n",
        "La lista contiene el elemento en su interior (**fila**) y luego el elemento específico en esa lista (**columna**).\n",
        "\n",
        "![Tabla.png](data:image/png;base64,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)"
      ]
    },
    {
      "cell_type": "code",
      "execution_count": 2,
      "metadata": {
        "colab": {
          "base_uri": "https://localhost:8080/",
          "height": 0
        },
        "id": "BVy81-JdGhIW",
        "outputId": "9b7e59b7-ba1f-4531-d33a-6191097668fd"
      },
      "outputs": [
        {
          "name": "stdout",
          "output_type": "stream",
          "text": [
            "fede\n",
            "32\n",
            "21\n",
            "Laura\n",
            "['fede', 'Laura']\n"
          ]
        }
      ],
      "source": [
        "mi_tabla = [['fede', 'Laura'], [21, 32]]\n",
        "\n",
        "# Muestra Juan (la primera posición es la 0, 0)\n",
        "print(mi_tabla[0][0])\n",
        "\n",
        "# Muestra 32 (última fila, segunda columna)\n",
        "print(mi_tabla[-1][1])\n",
        "\n",
        "# Muestra 21\n",
        "print(mi_tabla[1][0])\n",
        "\n",
        "# Muestra Laura\n",
        "print(mi_tabla[0][1])\n",
        "\n",
        "# Muestra la lista con nombres\n",
        "print(mi_tabla[0])"
      ]
    },
    {
      "cell_type": "markdown",
      "metadata": {
        "id": "i_yJyf2PGv4C"
      },
      "source": [
        "# Recorrer una tabla\n",
        "El caso general se realiza por medio de un ciclo for que vaya accediendo uno por uno a los elementos o incluso aumentando de uno en uno el índice que queremos acceder de la tabla, tanto para la fila como para la columna."
      ]
    },
    {
      "cell_type": "code",
      "execution_count": 1,
      "metadata": {
        "colab": {
          "base_uri": "https://localhost:8080/",
          "height": 0
        },
        "id": "VU_GbwmZG73S",
        "outputId": "72ade7d8-a405-437e-f5d6-da296a943c2b"
      },
      "outputs": [
        {
          "name": "stdout",
          "output_type": "stream",
          "text": [
            "Accedemos a cada fila (que es una lista)\n",
            "Juan\n",
            "Laura\n",
            "21\n",
            "32\n",
            "\n",
            "Recorriendo los índices\n",
            "i serían las filas\n",
            "Juan\n",
            "Laura\n",
            "21\n",
            "32\n",
            "\n",
            "Con while y los índices\n",
            "Juan\n",
            "Laura\n",
            "21\n",
            "32\n"
          ]
        }
      ],
      "source": [
        "mi_tabla = [['Juan', 'Laura'], [21, 32]]\n",
        "\n",
        "# Recorriendo los elementos\n",
        "\n",
        "print(\"Accedemos a cada fila (que es una lista)\")\n",
        "for fila in mi_tabla:\n",
        "    # Accedemos a cada columna dentro de la fila\n",
        "    for columna in fila:\n",
        "        print(columna)\n",
        "\n",
        "print(\"\")\n",
        "print(\"Recorriendo los índices\")\n",
        "print(\"i serían las filas\")\n",
        "for i in range(len(mi_tabla)):\n",
        "    for j in range(len(mi_tabla[i])):\n",
        "        print(mi_tabla[i][j])\n",
        "    \n",
        "print(\"\")\n",
        "print(\"Con while y los índices\")\n",
        "fila = 0\n",
        "\n",
        "while fila < len(mi_tabla):\n",
        "    columna = 0\n",
        "    while columna < len(mi_tabla[fila]):\n",
        "        print(mi_tabla[fila][columna])\n",
        "        columna += 1\n",
        "    fila += 1"
      ]
    }
  ],
  "metadata": {
    "colab": {
      "name": "Listas(arreglos o vectores).ipynb",
      "provenance": [],
      "toc_visible": true
    },
    "interpreter": {
      "hash": "11938c6bc6919ae2720b4d5011047913343b08a43b18698fd82dedb0d4417594"
    },
    "kernelspec": {
      "display_name": "Python 3.9.7 64-bit",
      "language": "python",
      "name": "python3"
    },
    "language_info": {
      "codemirror_mode": {
        "name": "ipython",
        "version": 3
      },
      "file_extension": ".py",
      "mimetype": "text/x-python",
      "name": "python",
      "nbconvert_exporter": "python",
      "pygments_lexer": "ipython3",
      "version": "3.9.7"
    }
  },
  "nbformat": 4,
  "nbformat_minor": 0
}
