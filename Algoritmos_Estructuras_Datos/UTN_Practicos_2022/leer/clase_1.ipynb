{
 "cells": [
  {
   "cell_type": "markdown",
   "metadata": {},
   "source": [
    "# Algoritmo y estructura de datos\n",
    "\n",
    "### Introducción a Python"
   ]
  },
  {
   "cell_type": "markdown",
   "metadata": {},
   "source": [
    "## ¿Donde pedir ayuda?\n",
    "* Python Argentina (PyAr)  http://python.org.ar | Comunidad de desarrolla más activa de habla hispana.\n",
    "* Canal de PyAr en Telegram: https://t.me/pythonargentina\n",
    "* Canal en Telegram \"Comunidad Python del sur de Mendoza\": https://t.me/PythonMendozaSur\n",
    "* Canal de la cátedra https://t.me/+7Vj80EOTKm02YTNh"
   ]
  },
  {
   "cell_type": "markdown",
   "metadata": {},
   "source": [
    "## ¿Por donde empiezo?\n",
    "Hoy empezamos el camino de aprender Python, pero si quieres más material, recomendamos:\n",
    "* La página de Python Argentina, particularmente, la wiki https://wiki.python.org.ar/aprendiendopython/.\n",
    "* Este tutorial del creador de Python https://docs.python.org/es/3/tutorial/index.html\n",
    "* El material extra que iremos subiendo al campus"
   ]
  },
  {
   "cell_type": "markdown",
   "metadata": {},
   "source": [
    "## Características\n",
    "\n",
    "* Lenguaje de programación fácil de aprender\n",
    "* Muy expresivo\n",
    "* De sintaxis elegante\n",
    "* Interpretado (o _semi_), tipado dinámico, tipado fuerte\n",
    "* Multiparadigma\n",
    "* Multiplataforma\n",
    "* Libre\n",
    "* Tiene una gran cantidad de bibliotecas (libraries).\n"
   ]
  },
  {
   "cell_type": "markdown",
   "metadata": {},
   "source": [
    "#### Tipado dinámico\n",
    "En Python no es necesario declarar el tipo de dato que contendrá una determinada variable:"
   ]
  },
  {
   "cell_type": "code",
   "execution_count": null,
   "metadata": {},
   "outputs": [
    {
     "ename": "",
     "evalue": "",
     "output_type": "error",
     "traceback": [
      "\u001b[1;31mRunning cells with 'Python 3.9.7 64-bit' requires ipykernel package.\n",
      "Run the following command to install 'ipykernel' into the Python environment. \n",
      "Command: '\"c:/Program Files/Python39/python.exe\" -m pip install ipykernel -U --user --force-reinstall'"
     ]
    }
   ],
   "source": [
    "mi_str = \"Python 3\"\n",
    "print(type(mi_str))"
   ]
  },
  {
   "cell_type": "code",
   "execution_count": 9,
   "metadata": {},
   "outputs": [
    {
     "name": "stdout",
     "output_type": "stream",
     "text": [
      "<class 'int'>\n"
     ]
    }
   ],
   "source": [
    "mi_int = 109\n",
    "print(type(mi_int))"
   ]
  },
  {
   "cell_type": "code",
   "execution_count": 14,
   "metadata": {},
   "outputs": [
    {
     "name": "stdout",
     "output_type": "stream",
     "text": [
      "<class 'float'>\n"
     ]
    }
   ],
   "source": [
    "mi_flt = .1\n",
    "print(type(mi_flt))"
   ]
  },
  {
   "cell_type": "markdown",
   "metadata": {},
   "source": [
    "#### Fuertemente tipado\n",
    "No se permite tratar a una variable como si fuera de otro tipo. Es necesario convertir de forma **explícita** dicha variable al nuevo tipo previamente."
   ]
  },
  {
   "cell_type": "code",
   "execution_count": 15,
   "metadata": {},
   "outputs": [
    {
     "ename": "TypeError",
     "evalue": "can only concatenate str (not \"int\") to str",
     "output_type": "error",
     "traceback": [
      "\u001b[0;31m---------------------------------------------------------------------------\u001b[0m",
      "\u001b[0;31mTypeError\u001b[0m                                 Traceback (most recent call last)",
      "Input \u001b[0;32mIn [15]\u001b[0m, in \u001b[0;36m<cell line: 2>\u001b[0;34m()\u001b[0m\n\u001b[1;32m      1\u001b[0m mi_str \u001b[38;5;241m=\u001b[39m \u001b[38;5;124m\"\u001b[39m\u001b[38;5;124m5\u001b[39m\u001b[38;5;124m\"\u001b[39m\n\u001b[0;32m----> 2\u001b[0m \u001b[43mmi_str\u001b[49m\u001b[43m \u001b[49m\u001b[38;5;241;43m+\u001b[39;49m\u001b[43m \u001b[49m\u001b[38;5;241;43m1\u001b[39;49m\n",
      "\u001b[0;31mTypeError\u001b[0m: can only concatenate str (not \"int\") to str"
     ]
    }
   ],
   "source": [
    "mi_str = \"5\"\n",
    "mi_str + 1"
   ]
  },
  {
   "cell_type": "code",
   "execution_count": 16,
   "metadata": {},
   "outputs": [
    {
     "data": {
      "text/plain": [
       "6"
      ]
     },
     "execution_count": 16,
     "metadata": {},
     "output_type": "execute_result"
    }
   ],
   "source": [
    "mi_str = \"5\"\n",
    "int(mi_str) + 1  # <-- cast a int"
   ]
  },
  {
   "cell_type": "code",
   "execution_count": 17,
   "metadata": {},
   "outputs": [
    {
     "data": {
      "text/plain": [
       "'51'"
      ]
     },
     "execution_count": 17,
     "metadata": {},
     "output_type": "execute_result"
    }
   ],
   "source": [
    "mi_str + str(1)"
   ]
  },
  {
   "cell_type": "markdown",
   "metadata": {},
   "source": [
    "## Introducción a la sintaxis de Python"
   ]
  },
  {
   "cell_type": "markdown",
   "metadata": {},
   "source": [
    "## Comentarios"
   ]
  },
  {
   "cell_type": "code",
   "execution_count": 18,
   "metadata": {},
   "outputs": [
    {
     "data": {
      "text/plain": [
       "'Esto es un comentario de varias lineas. \\nMuy útil para documentar tu código.'"
      ]
     },
     "execution_count": 18,
     "metadata": {},
     "output_type": "execute_result"
    }
   ],
   "source": [
    "# este es un comentario\n",
    "var1 = \"Esto es un string\"  # esto es otro comentario (inline)\n",
    "\"\"\"Esto es un comentario de varias lineas. \n",
    "Muy útil para documentar tu código.\"\"\""
   ]
  },
  {
   "cell_type": "markdown",
   "metadata": {},
   "source": [
    "## Python como una calculadora\n",
    "Vamos a usar el interprete de python para ver un poco su sintaxis, números y operaciones."
   ]
  },
  {
   "cell_type": "code",
   "execution_count": 19,
   "metadata": {},
   "outputs": [
    {
     "data": {
      "text/plain": [
       "16"
      ]
     },
     "execution_count": 19,
     "metadata": {},
     "output_type": "execute_result"
    }
   ],
   "source": [
    "10 + 6"
   ]
  },
  {
   "cell_type": "code",
   "execution_count": 20,
   "metadata": {},
   "outputs": [
    {
     "data": {
      "text/plain": [
       "19"
      ]
     },
     "execution_count": 20,
     "metadata": {},
     "output_type": "execute_result"
    }
   ],
   "source": [
    "4 * 2 + 11"
   ]
  },
  {
   "cell_type": "code",
   "execution_count": 21,
   "metadata": {},
   "outputs": [
    {
     "data": {
      "text/plain": [
       "2.5"
      ]
     },
     "execution_count": 21,
     "metadata": {},
     "output_type": "execute_result"
    }
   ],
   "source": [
    "(35 - 5 * 6) / 2"
   ]
  },
  {
   "cell_type": "code",
   "execution_count": 22,
   "metadata": {},
   "outputs": [
    {
     "data": {
      "text/plain": [
       "5.666666666666667"
      ]
     },
     "execution_count": 22,
     "metadata": {},
     "output_type": "execute_result"
    }
   ],
   "source": [
    "17 / 3  # la divisón devuelve un número de punto flotante (float)"
   ]
  },
  {
   "cell_type": "code",
   "execution_count": 23,
   "metadata": {},
   "outputs": [
    {
     "data": {
      "text/plain": [
       "5"
      ]
     },
     "execution_count": 23,
     "metadata": {},
     "output_type": "execute_result"
    }
   ],
   "source": [
    "17 // 3  # la división entera descarta la parte decimal"
   ]
  },
  {
   "cell_type": "code",
   "execution_count": 24,
   "metadata": {},
   "outputs": [
    {
     "data": {
      "text/plain": [
       "2"
      ]
     },
     "execution_count": 24,
     "metadata": {},
     "output_type": "execute_result"
    }
   ],
   "source": [
    "17 % 3  # con % (módulo) obtengo el resto de la división entera"
   ]
  },
  {
   "cell_type": "code",
   "execution_count": 25,
   "metadata": {},
   "outputs": [
    {
     "data": {
      "text/plain": [
       "25"
      ]
     },
     "execution_count": 25,
     "metadata": {},
     "output_type": "execute_result"
    }
   ],
   "source": [
    "5 ** 2  # potencia **. \"5 al cuadrado\""
   ]
  },
  {
   "cell_type": "markdown",
   "metadata": {},
   "source": [
    "Con `=` realizamos una asignación. No se mostrará el valor en el interprete."
   ]
  },
  {
   "cell_type": "code",
   "execution_count": 26,
   "metadata": {},
   "outputs": [
    {
     "data": {
      "text/plain": [
       "1000"
      ]
     },
     "execution_count": 26,
     "metadata": {},
     "output_type": "execute_result"
    }
   ],
   "source": [
    "lado1 = 25\n",
    "lado2 = 40\n",
    "lado1 * lado2"
   ]
  },
  {
   "cell_type": "code",
   "execution_count": 30,
   "metadata": {},
   "outputs": [
    {
     "data": {
      "text/plain": [
       "False"
      ]
     },
     "execution_count": 30,
     "metadata": {},
     "output_type": "execute_result"
    }
   ],
   "source": [
    "1000 <lado1 * lado2"
   ]
  },
  {
   "cell_type": "markdown",
   "metadata": {},
   "source": [
    "## Cadenas de caracteres\n",
    "Python puede manipular cadenas de texto de manera muy intuitiva. Éstas pueden encerrarse de dos maneras, con comillas simples (`'texto'`) o comillas dobles (`\"texto\"`). `\\` es usado para escapar caracteres especiales:"
   ]
  },
  {
   "cell_type": "code",
   "execution_count": 31,
   "metadata": {},
   "outputs": [
    {
     "name": "stdout",
     "output_type": "stream",
     "text": [
      "esto es un texto\n"
     ]
    }
   ],
   "source": [
    "print(\"esto es un texto\")"
   ]
  },
  {
   "cell_type": "code",
   "execution_count": 32,
   "metadata": {},
   "outputs": [
    {
     "name": "stdout",
     "output_type": "stream",
     "text": [
      "y esto también\n"
     ]
    }
   ],
   "source": [
    "print('y esto también')"
   ]
  },
  {
   "cell_type": "code",
   "execution_count": 33,
   "metadata": {},
   "outputs": [
    {
     "name": "stdout",
     "output_type": "stream",
     "text": [
      "doesn't\n"
     ]
    }
   ],
   "source": [
    "print('doesn\\'t')"
   ]
  },
  {
   "cell_type": "code",
   "execution_count": 34,
   "metadata": {},
   "outputs": [
    {
     "name": "stdout",
     "output_type": "stream",
     "text": [
      "doesn't\n"
     ]
    }
   ],
   "source": [
    "print(\"doesn't\")"
   ]
  },
  {
   "cell_type": "code",
   "execution_count": 35,
   "metadata": {},
   "outputs": [
    {
     "name": "stdout",
     "output_type": "stream",
     "text": [
      "\"Bueno, está bien!\" dijo la mujer.\n"
     ]
    }
   ],
   "source": [
    "print('\"Bueno, está bien!\" dijo la mujer.')"
   ]
  },
  {
   "cell_type": "code",
   "execution_count": 36,
   "metadata": {},
   "outputs": [
    {
     "name": "stdout",
     "output_type": "stream",
     "text": [
      "Esto \ttexto tiene \n",
      "caracteres escapados con \\\n"
     ]
    }
   ],
   "source": [
    "print(\"Esto \\ttexto tiene \\ncaracteres escapados con \\\\\")"
   ]
  },
  {
   "cell_type": "code",
   "execution_count": 37,
   "metadata": {},
   "outputs": [
    {
     "name": "stdout",
     "output_type": "stream",
     "text": [
      "C:\\Windows\n",
      "Vidia\\sarasa.dll\n"
     ]
    }
   ],
   "source": [
    "print('C:\\Windows\\nVidia\\sarasa.dll')"
   ]
  },
  {
   "cell_type": "markdown",
   "metadata": {},
   "source": [
    "Podemos indicarle al interprete que toma la cadena como tal (cruda) anteponiendo la letra `r` a la cadena de texto:"
   ]
  },
  {
   "cell_type": "code",
   "execution_count": 38,
   "metadata": {},
   "outputs": [
    {
     "name": "stdout",
     "output_type": "stream",
     "text": [
      "C:\\Windows\\nVidia\\sarasa.dll\n"
     ]
    }
   ],
   "source": [
    "print(r'C:\\Windows\\nVidia\\sarasa.dll')"
   ]
  },
  {
   "cell_type": "markdown",
   "metadata": {},
   "source": [
    "Las cadenas de texto pueden contener varias lineas, usando triple comillas `'''...'''` o `\"\"\"...\"\"\"`. Los saltos de lineas se agregan automáticamente, pero puede prevenirse con un `\\` al final de la linea:"
   ]
  },
  {
   "cell_type": "code",
   "execution_count": 39,
   "metadata": {},
   "outputs": [
    {
     "name": "stdout",
     "output_type": "stream",
     "text": [
      "Uso: algo [OPTIONS]\n",
      "     -h                        Muestra el mensaje de uso\n",
      "     -o nombre                 Muestra el nombre\n",
      "\n"
     ]
    }
   ],
   "source": [
    "print(\"\"\"\\\n",
    "Uso: algo [OPTIONS]\n",
    "     -h                        Muestra el mensaje de uso\n",
    "     -o nombre                 Muestra el nombre\n",
    "\"\"\")"
   ]
  },
  {
   "cell_type": "code",
   "execution_count": 40,
   "metadata": {},
   "outputs": [
    {
     "name": "stdout",
     "output_type": "stream",
     "text": [
      "Hola a todos!\n",
      "Hola a todos!\n",
      "Hola a todos!\n",
      "Hola a todos!\n",
      "Hola a todos!\n",
      "Hola a todos!\n",
      "Hola a todos!\n",
      "Hola a todos!\n",
      "Hola a todos!\n",
      "Hola a todos!\n",
      "\n"
     ]
    }
   ],
   "source": [
    "# repetición de cadenas\n",
    "print(\"Hola a todos!\\n\" * 10)"
   ]
  },
  {
   "cell_type": "code",
   "execution_count": 41,
   "metadata": {},
   "outputs": [
    {
     "name": "stdout",
     "output_type": "stream",
     "text": [
      "Hola python!\n"
     ]
    }
   ],
   "source": [
    "print(\"Ho\" 'la' ' ' 'python!')"
   ]
  },
  {
   "cell_type": "code",
   "execution_count": 42,
   "metadata": {},
   "outputs": [
    {
     "ename": "SyntaxError",
     "evalue": "invalid syntax (2568821011.py, line 2)",
     "output_type": "error",
     "traceback": [
      "\u001b[0;36m  Input \u001b[0;32mIn [42]\u001b[0;36m\u001b[0m\n\u001b[0;31m    pf \"thon\"  # <-- no se puede concatenar una variable con un literal\u001b[0m\n\u001b[0m       ^\u001b[0m\n\u001b[0;31mSyntaxError\u001b[0m\u001b[0;31m:\u001b[0m invalid syntax\n"
     ]
    }
   ],
   "source": [
    "pf = \"Py\"\n",
    "pf = \"thon\"  # <-- no se puede concatenar una variable con un literal"
   ]
  },
  {
   "cell_type": "code",
   "execution_count": 43,
   "metadata": {},
   "outputs": [
    {
     "name": "stdout",
     "output_type": "stream",
     "text": [
      "Python\n"
     ]
    }
   ],
   "source": [
    "pf = \"Py\"\n",
    "print(pf + \"thon\")"
   ]
  },
  {
   "cell_type": "code",
   "execution_count": 44,
   "metadata": {},
   "outputs": [
    {
     "name": "stdout",
     "output_type": "stream",
     "text": [
      "Poné muchas cadenas de texto entre paréntesis para ocupar varias lineas, pero que se muestre unidas \n"
     ]
    }
   ],
   "source": [
    "texto_largo = (\"Poné muchas cadenas de texto entre paréntesis \"\n",
    "               \"para ocupar varias lineas, \"\n",
    "               \"pero que se muestre unidas \")\n",
    "print(texto_largo)"
   ]
  },
  {
   "cell_type": "markdown",
   "metadata": {},
   "source": [
    "# Combinar strings y variables"
   ]
  },
  {
   "cell_type": "code",
   "execution_count": 45,
   "metadata": {},
   "outputs": [],
   "source": [
    "var_1 = \"uno\"\n",
    "var_2 = 2"
   ]
  },
  {
   "cell_type": "code",
   "execution_count": 46,
   "metadata": {},
   "outputs": [
    {
     "data": {
      "text/plain": [
       "'Var 1 es uno y var 2 es 2'"
      ]
     },
     "execution_count": 46,
     "metadata": {},
     "output_type": "execute_result"
    }
   ],
   "source": [
    "\"Var 1 es %s y var 2 es %s\" % (var_1, var_2)"
   ]
  },
  {
   "cell_type": "code",
   "execution_count": 48,
   "metadata": {},
   "outputs": [
    {
     "data": {
      "text/plain": [
       "'Var 1 es 2 y var 2 es uno'"
      ]
     },
     "execution_count": 48,
     "metadata": {},
     "output_type": "execute_result"
    }
   ],
   "source": [
    "\"Var 1 es {1} y var 2 es {0}\".format(var_1, var_2)"
   ]
  },
  {
   "cell_type": "code",
   "execution_count": 49,
   "metadata": {},
   "outputs": [
    {
     "data": {
      "text/plain": [
       "'Var 1 es uno y var 2 es 2'"
      ]
     },
     "execution_count": 49,
     "metadata": {},
     "output_type": "execute_result"
    }
   ],
   "source": [
    "f\"Var 1 es {var_1} y var 2 es {var_2}\"  # <-- método más moderno y recomendado para la mayoría de los casos"
   ]
  },
  {
   "cell_type": "markdown",
   "metadata": {},
   "source": [
    "## Entrada de datos por teclado\n",
    "\n",
    "En Python tenemos la función `input` que nos permie tomar datos por teclado"
   ]
  },
  {
   "cell_type": "code",
   "execution_count": 50,
   "metadata": {},
   "outputs": [
    {
     "name": "stdout",
     "output_type": "stream",
     "text": [
      "valor\n"
     ]
    }
   ],
   "source": [
    "valor = input()"
   ]
  },
  {
   "cell_type": "code",
   "execution_count": 51,
   "metadata": {},
   "outputs": [
    {
     "name": "stdout",
     "output_type": "stream",
     "text": [
      "Ingrese su nombre: Matias\n"
     ]
    }
   ],
   "source": [
    "nombre = input(\"Ingrese su nombre: \")"
   ]
  },
  {
   "cell_type": "code",
   "execution_count": 52,
   "metadata": {},
   "outputs": [
    {
     "name": "stdout",
     "output_type": "stream",
     "text": [
      "Ingrese apellido, Matias: Varela\n"
     ]
    }
   ],
   "source": [
    "apellido = input(f\"Ingrese apellido, {nombre}: \")"
   ]
  },
  {
   "cell_type": "code",
   "execution_count": 56,
   "metadata": {},
   "outputs": [
    {
     "name": "stdout",
     "output_type": "stream",
     "text": [
      "Dime tu edad: 36\n"
     ]
    },
    {
     "data": {
      "text/plain": [
       "\"Tu edad es 36 y es del tipo <class 'int'>\""
      ]
     },
     "execution_count": 56,
     "metadata": {},
     "output_type": "execute_result"
    }
   ],
   "source": [
    "edad = int(input(\"Dime tu edad: \"))\n",
    "f\"Tu edad es {edad} y es del tipo {type(edad)}\""
   ]
  },
  {
   "cell_type": "code",
   "execution_count": 59,
   "metadata": {},
   "outputs": [
    {
     "name": "stdout",
     "output_type": "stream",
     "text": [
      "Tu altura en metros: 2\n"
     ]
    },
    {
     "data": {
      "text/plain": [
       "float"
      ]
     },
     "execution_count": 59,
     "metadata": {},
     "output_type": "execute_result"
    }
   ],
   "source": [
    "altura = float(input(\"Tu altura en metros: \"))\n",
    "type(altura)"
   ]
  },
  {
   "cell_type": "markdown",
   "metadata": {},
   "source": [
    "\n",
    "## Salida por pantalla\n",
    "\n",
    "Con `print` podemos mostrar información por pantalla"
   ]
  },
  {
   "cell_type": "code",
   "execution_count": 60,
   "metadata": {},
   "outputs": [
    {
     "name": "stdout",
     "output_type": "stream",
     "text": [
      "Podemos mostrar el valor de valor\n",
      "O armar strings con variable, tal como Matias y Varela\n",
      "Y no importa si no es string, print puede mostrar enteros 36 y flotantes 2.0\n"
     ]
    }
   ],
   "source": [
    "print(\"Podemos mostrar el valor de\", valor)\n",
    "print(\"O armar strings con variable, tal como {} y {}\".format(nombre, apellido))\n",
    "print(f\"Y no importa si no es string, print puede mostrar enteros {edad} y flotantes {altura}\")"
   ]
  },
  {
   "cell_type": "markdown",
   "metadata": {},
   "source": [
    "## Estructuras de control\n",
    "\n",
    "### Indentación\n",
    "\n",
    "En Python, no se utilizar llaves para delimitar estructuras de control, clases o métodos, en su lugar se indenta el código. **¿Qué es la indentación?** Podríamos decir que la indentación es la sangría en el código, normalmente utilizada en la escritura de código para que este quede más legible, pero en Python en **obligatorio**.\n",
    "\n",
    "La sintaxis de las estructuras de control sería:\n",
    "\n",
    "```Python\n",
    "\n",
    "inicio de la estructura de control:\n",
    "    expresiones\n",
    "```"
   ]
  },
  {
   "cell_type": "markdown",
   "metadata": {},
   "source": [
    "### Estructuras condicionales: _if, else, elif_\n",
    "\n",
    "Solo utilizando la palabla reservada **if**, la estructura nos permite ejecutar una acción (o varias) si se da una condición dada (la evaluación de la condición nos arrojará un resultado condicional (Booleano) - True o False, verdadero o falso)"
   ]
  },
  {
   "cell_type": "code",
   "execution_count": null,
   "metadata": {},
   "outputs": [],
   "source": [
    "variable = 11\n",
    "if variable > 10:\n",
    "    print(\"Ya pasamos los 10\")"
   ]
  },
  {
   "cell_type": "markdown",
   "metadata": {},
   "source": [
    "Con **else** podemos realizar una acción si la acción del **if** no se ejecuta (su condición arrojó un _False_)"
   ]
  },
  {
   "cell_type": "code",
   "execution_count": 61,
   "metadata": {
    "scrolled": true
   },
   "outputs": [
    {
     "name": "stdout",
     "output_type": "stream",
     "text": [
      "Aún no pasamos el 10\n"
     ]
    }
   ],
   "source": [
    "variable = 9\n",
    "if variable > 10:\n",
    "    print(\"Ya pasamos los 10\")\n",
    "else:\n",
    "    print(\"Aún no pasamos el 10\")"
   ]
  },
  {
   "cell_type": "markdown",
   "metadata": {},
   "source": [
    "Con **elif** podemos anidar más condiciones de evaluación, permitiendo una estructura más compleja"
   ]
  },
  {
   "cell_type": "code",
   "execution_count": null,
   "metadata": {},
   "outputs": [],
   "source": [
    "if variable == 0:  # podriamos escribir:  if not variable:\n",
    "    print(\"Aún no comenzamos\")\n",
    "elif variable < 10:\n",
    "    print(\"Vamos, que aún falta.\")\n",
    "elif variable == 10:\n",
    "    print(\"LLegamos al 10, una más!\")\n",
    "else:\n",
    "    print(\"Ya pasamos el 10!\")"
   ]
  },
  {
   "cell_type": "markdown",
   "metadata": {},
   "source": [
    "# Es todo por hoy!! A ejercitar..."
   ]
  }
 ],
 "metadata": {
  "celltoolbar": "Slideshow",
  "interpreter": {
   "hash": "11938c6bc6919ae2720b4d5011047913343b08a43b18698fd82dedb0d4417594"
  },
  "kernelspec": {
   "display_name": "Python 3.9.7 64-bit",
   "language": "python",
   "name": "python3"
  },
  "language_info": {
   "codemirror_mode": {
    "name": "ipython",
    "version": 3
   },
   "file_extension": ".py",
   "mimetype": "text/x-python",
   "name": "python",
   "nbconvert_exporter": "python",
   "pygments_lexer": "ipython3",
   "version": "3.9.7"
  }
 },
 "nbformat": 4,
 "nbformat_minor": 1
}
