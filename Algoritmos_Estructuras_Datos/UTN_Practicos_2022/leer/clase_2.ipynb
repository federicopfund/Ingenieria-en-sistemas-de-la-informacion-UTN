{
 "cells": [
  {
   "cell_type": "markdown",
   "metadata": {},
   "source": [
    "# Algoritmo y estructura de datos"
   ]
  },
  {
   "cell_type": "markdown",
   "metadata": {},
   "source": [
    "### Estructuras de control iterativas\n",
    "\n",
    "Nos permiten ejecutar el mismo trozo de código repetidamente, mientras se cumple una condición."
   ]
  },
  {
   "cell_type": "markdown",
   "metadata": {},
   "source": [
    "### while\n",
    "\n",
    "Es una estructura de repetición, la cuál se mantiene mientras se da la condición. \n",
    "La condición puede ser una operación relacional, un número o secuencia. Si el número o el largo de la secuencia es mayor que 0, la condición del **while** es True (positivo)."
   ]
  },
  {
   "cell_type": "code",
   "execution_count": 1,
   "metadata": {},
   "outputs": [
    {
     "name": "stdout",
     "output_type": "stream",
     "text": [
      "1\n",
      "1\n",
      "2\n",
      "3\n",
      "5\n",
      "8\n"
     ]
    }
   ],
   "source": [
    "# Serie de Fibonacci\n",
    "# la suma de dos elementos define el siguiente\n",
    "a, b = 0, 1\n",
    "while b < 10:\n",
    "    print(b)\n",
    "    a, b = b, a+b"
   ]
  },
  {
   "cell_type": "markdown",
   "metadata": {},
   "source": [
    "## for\n",
    "La sentencia **for** en Python difiere un poco de otros lenguajes. Esta estructura itera sobre ítems de cualquier secuencia:"
   ]
  },
  {
   "cell_type": "code",
   "execution_count": 2,
   "metadata": {},
   "outputs": [
    {
     "name": "stdout",
     "output_type": "stream",
     "text": [
      "C 1\n",
      "C++ 3\n",
      "Python 6\n",
      "C# 2\n",
      "Java 4\n",
      "JavaScript 10\n"
     ]
    }
   ],
   "source": [
    "lenguajes = [\"C\", \"C++\", \"Python\", \"C#\", \"Java\", \"JavaScript\"]\n",
    "for p in lenguajes:\n",
    "    print(p, len(p))"
   ]
  },
  {
   "cell_type": "markdown",
   "metadata": {},
   "source": [
    "## range()\n",
    "Como el **for** no itera sobre una progresión numérica, podemos utilizar range:"
   ]
  },
  {
   "cell_type": "code",
   "execution_count": 3,
   "metadata": {},
   "outputs": [
    {
     "name": "stdout",
     "output_type": "stream",
     "text": [
      "0\n",
      "1\n",
      "2\n",
      "3\n",
      "4\n"
     ]
    }
   ],
   "source": [
    "for i in range(5):  # el valor final no es parte de la secuencia\n",
    "    print(i)"
   ]
  },
  {
   "cell_type": "markdown",
   "metadata": {},
   "source": [
    "**range(5, 10)**\n",
    "\n",
    "la secuencia seria: [5, 6, 7, 8, 9]"
   ]
  },
  {
   "cell_type": "markdown",
   "metadata": {},
   "source": [
    "**range(0, 10, 3)**\n",
    "\n",
    "[0, 3, 6 , 9]"
   ]
  },
  {
   "cell_type": "markdown",
   "metadata": {},
   "source": [
    "**range(-10, -100, -30)**\n",
    "\n",
    "[-10, -40, -70]"
   ]
  },
  {
   "cell_type": "markdown",
   "metadata": {},
   "source": [
    "Podemos combinar **range()** y **len()** para iterar sobre indices de una secuencia:"
   ]
  },
  {
   "cell_type": "code",
   "execution_count": 4,
   "metadata": {},
   "outputs": [
    {
     "name": "stdout",
     "output_type": "stream",
     "text": [
      "0 Pablito\n",
      "1 clavo\n",
      "2 un\n",
      "3 clavito\n"
     ]
    }
   ],
   "source": [
    "a = [\"Pablito\", \"clavo\", \"un\", \"clavito\"]\n",
    "for i in range(len(a)):\n",
    "    print(i, a[i])"
   ]
  },
  {
   "cell_type": "code",
   "execution_count": 5,
   "metadata": {},
   "outputs": [
    {
     "name": "stdout",
     "output_type": "stream",
     "text": [
      "range(0, 5)\n"
     ]
    }
   ],
   "source": [
    "print(range(5))"
   ]
  },
  {
   "cell_type": "markdown",
   "metadata": {},
   "source": [
    "**range** pareciera que es una lista, pero no lo es. Es un objeto, que devuelve items sucesivos cuando son solicitados por un iterador. Esto ahorra memoria."
   ]
  },
  {
   "cell_type": "code",
   "execution_count": 6,
   "metadata": {},
   "outputs": [
    {
     "data": {
      "text/plain": [
       "[0, 1, 2, 3, 4]"
      ]
     },
     "execution_count": 6,
     "metadata": {},
     "output_type": "execute_result"
    }
   ],
   "source": [
    "list(range(5))  # como argumento de list SI genera un objeto"
   ]
  },
  {
   "cell_type": "markdown",
   "metadata": {},
   "source": [
    "## Las sentencias _break_, _continue_ y _else_"
   ]
  },
  {
   "cell_type": "markdown",
   "metadata": {},
   "source": [
    "La sentencia **break**, como en C, termine el lazo **for** o **while** más anidado."
   ]
  },
  {
   "cell_type": "code",
   "execution_count": 7,
   "metadata": {},
   "outputs": [
    {
     "name": "stdout",
     "output_type": "stream",
     "text": [
      "0\n",
      "1\n",
      "2\n",
      "3\n",
      "4\n"
     ]
    }
   ],
   "source": [
    "for i in range(10):\n",
    "    if i == 5:  # cuando sea 5 se corta el for\n",
    "        break\n",
    "    print(i)"
   ]
  },
  {
   "cell_type": "markdown",
   "metadata": {},
   "source": [
    "Tanto **for** como **while** pueden tener una clausula **else**, la cual se ejecuta cuando termina el lazo, a menos que éste sea terminado por un **break**."
   ]
  },
  {
   "cell_type": "code",
   "execution_count": 8,
   "metadata": {},
   "outputs": [
    {
     "name": "stdout",
     "output_type": "stream",
     "text": [
      "0 es par\n",
      "2 es par\n",
      "4 es par\n",
      "6 es par\n",
      "8 es par\n",
      "Termina el lazo\n"
     ]
    }
   ],
   "source": [
    "for i in range(10):\n",
    "    if i % 2 == 0:\n",
    "        print(i, \"es par\")\n",
    "else:\n",
    "    print(\"Termina el lazo\")"
   ]
  },
  {
   "cell_type": "code",
   "execution_count": 9,
   "metadata": {
    "scrolled": true
   },
   "outputs": [
    {
     "name": "stdout",
     "output_type": "stream",
     "text": [
      "0 es par\n",
      "2 es par\n",
      "4 es par\n",
      "6 es par\n"
     ]
    }
   ],
   "source": [
    "for i in range(10):\n",
    "    if i > 6:\n",
    "        break\n",
    "    if i % 2 == 0:\n",
    "        print(i, \"es par\")\n",
    "else:\n",
    "    print(\"Termina el lazo\")"
   ]
  },
  {
   "cell_type": "markdown",
   "metadata": {},
   "source": [
    "## Los strings son secuencias"
   ]
  },
  {
   "cell_type": "code",
   "execution_count": 10,
   "metadata": {},
   "outputs": [
    {
     "data": {
      "text/plain": [
       "'P'"
      ]
     },
     "execution_count": 10,
     "metadata": {},
     "output_type": "execute_result"
    }
   ],
   "source": [
    "una_palabra = \"Python\"  # las cadenas están indexadas, empezando por 0\n",
    "una_palabra[0]  # primera letra"
   ]
  },
  {
   "cell_type": "code",
   "execution_count": 11,
   "metadata": {},
   "outputs": [
    {
     "data": {
      "text/plain": [
       "'n'"
      ]
     },
     "execution_count": 11,
     "metadata": {},
     "output_type": "execute_result"
    }
   ],
   "source": [
    "una_palabra[5]  # última"
   ]
  },
  {
   "cell_type": "code",
   "execution_count": 12,
   "metadata": {},
   "outputs": [
    {
     "data": {
      "text/plain": [
       "'o'"
      ]
     },
     "execution_count": 12,
     "metadata": {},
     "output_type": "execute_result"
    }
   ],
   "source": [
    "una_palabra[-2]  \n",
    "# si el indice es negativo, comienza a contarse desde la derecha"
   ]
  },
  {
   "cell_type": "code",
   "execution_count": 13,
   "metadata": {},
   "outputs": [
    {
     "data": {
      "text/plain": [
       "'P'"
      ]
     },
     "execution_count": 13,
     "metadata": {},
     "output_type": "execute_result"
    }
   ],
   "source": [
    "una_palabra[-6] "
   ]
  },
  {
   "cell_type": "code",
   "execution_count": 14,
   "metadata": {},
   "outputs": [
    {
     "data": {
      "text/plain": [
       "'Py'"
      ]
     },
     "execution_count": 14,
     "metadata": {},
     "output_type": "execute_result"
    }
   ],
   "source": [
    "# las rebanadas te permiten obtener sub-cadenas\n",
    "una_palabra[0:2]  # caracteres desde la posición 0 (incluída) hasta la 2 (excluída)"
   ]
  },
  {
   "cell_type": "code",
   "execution_count": 15,
   "metadata": {},
   "outputs": [
    {
     "data": {
      "text/plain": [
       "'Python'"
      ]
     },
     "execution_count": 15,
     "metadata": {},
     "output_type": "execute_result"
    }
   ],
   "source": [
    "una_palabra[:]  # caracteres desde la posición 2 (incluída) hasta la 4 (excluída)"
   ]
  },
  {
   "cell_type": "markdown",
   "metadata": {},
   "source": [
    "El primero se incluye, mientras que el segundo no, de modo que `s[:i] + s[i:] == s`"
   ]
  },
  {
   "cell_type": "code",
   "execution_count": 16,
   "metadata": {},
   "outputs": [
    {
     "name": "stdout",
     "output_type": "stream",
     "text": [
      "Python\n",
      "Python\n"
     ]
    }
   ],
   "source": [
    "print(una_palabra[:2] + una_palabra[2:])\n",
    "print(una_palabra[:4] + una_palabra[4:])"
   ]
  },
  {
   "cell_type": "code",
   "execution_count": 17,
   "metadata": {},
   "outputs": [
    {
     "name": "stdout",
     "output_type": "stream",
     "text": [
      "\n",
      " +---+---+---+---+---+---+\n",
      " | P | y | t | h | o | n |\n",
      " +---+---+---+---+---+---+\n",
      " 0   1   2   3   4   5   6\n",
      "-6  -5  -4  -3  -2  -1\n",
      "\n"
     ]
    }
   ],
   "source": [
    "print(\"\"\"\n",
    " +---+---+---+---+---+---+\n",
    " | P | y | t | h | o | n |\n",
    " +---+---+---+---+---+---+\n",
    " 0   1   2   3   4   5   6\n",
    "-6  -5  -4  -3  -2  -1\n",
    "\"\"\")"
   ]
  },
  {
   "cell_type": "code",
   "execution_count": 18,
   "metadata": {},
   "outputs": [
    {
     "ename": "IndexError",
     "evalue": "string index out of range",
     "output_type": "error",
     "traceback": [
      "\u001b[0;31m---------------------------------------------------------------------------\u001b[0m",
      "\u001b[0;31mIndexError\u001b[0m                                Traceback (most recent call last)",
      "Input \u001b[0;32mIn [18]\u001b[0m, in \u001b[0;36m<cell line: 1>\u001b[0;34m()\u001b[0m\n\u001b[0;32m----> 1\u001b[0m \u001b[43muna_palabra\u001b[49m\u001b[43m[\u001b[49m\u001b[38;5;241;43m42\u001b[39;49m\u001b[43m]\u001b[49m\n",
      "\u001b[0;31mIndexError\u001b[0m: string index out of range"
     ]
    }
   ],
   "source": [
    "una_palabra[42]"
   ]
  },
  {
   "cell_type": "code",
   "execution_count": 19,
   "metadata": {},
   "outputs": [
    {
     "data": {
      "text/plain": [
       "''"
      ]
     },
     "execution_count": 19,
     "metadata": {},
     "output_type": "execute_result"
    }
   ],
   "source": [
    "una_palabra[42:]  # los indices fuera del rango en las rebanadas son manejados sin error"
   ]
  },
  {
   "cell_type": "code",
   "execution_count": 20,
   "metadata": {},
   "outputs": [
    {
     "ename": "TypeError",
     "evalue": "'str' object does not support item assignment",
     "output_type": "error",
     "traceback": [
      "\u001b[0;31m---------------------------------------------------------------------------\u001b[0m",
      "\u001b[0;31mTypeError\u001b[0m                                 Traceback (most recent call last)",
      "Input \u001b[0;32mIn [20]\u001b[0m, in \u001b[0;36m<cell line: 1>\u001b[0;34m()\u001b[0m\n\u001b[0;32m----> 1\u001b[0m una_palabra[\u001b[38;5;241m0\u001b[39m] \u001b[38;5;241m=\u001b[39m \u001b[38;5;124m\"\u001b[39m\u001b[38;5;124mJ\u001b[39m\u001b[38;5;124m\"\u001b[39m\n",
      "\u001b[0;31mTypeError\u001b[0m: 'str' object does not support item assignment"
     ]
    }
   ],
   "source": [
    "una_palabra[0] = \"J\"  # las cadenas en python sin immutables (no pueden modificarse)"
   ]
  },
  {
   "cell_type": "code",
   "execution_count": 21,
   "metadata": {},
   "outputs": [
    {
     "data": {
      "text/plain": [
       "'Jython'"
      ]
     },
     "execution_count": 21,
     "metadata": {},
     "output_type": "execute_result"
    }
   ],
   "source": [
    "'J' + una_palabra[1:]"
   ]
  },
  {
   "cell_type": "code",
   "execution_count": 22,
   "metadata": {},
   "outputs": [
    {
     "data": {
      "text/plain": [
       "6"
      ]
     },
     "execution_count": 22,
     "metadata": {},
     "output_type": "execute_result"
    }
   ],
   "source": [
    "len(una_palabra)  # len permite saber el largo de cualquier secuencia (los strings son secuencias)"
   ]
  },
  {
   "cell_type": "markdown",
   "metadata": {},
   "source": [
    "### Recorrer carácteres de un strings"
   ]
  },
  {
   "cell_type": "code",
   "execution_count": 23,
   "metadata": {},
   "outputs": [
    {
     "name": "stdout",
     "output_type": "stream",
     "text": [
      "P\n",
      "y\n",
      "t\n",
      "h\n",
      "o\n",
      "n\n"
     ]
    }
   ],
   "source": [
    "for c in una_palabra:\n",
    "    print(c)"
   ]
  },
  {
   "cell_type": "code",
   "execution_count": 24,
   "metadata": {},
   "outputs": [
    {
     "name": "stdout",
     "output_type": "stream",
     "text": [
      "n\n",
      "o\n",
      "h\n",
      "t\n",
      "y\n",
      "P\n"
     ]
    }
   ],
   "source": [
    "for c in reversed(una_palabra):\n",
    "    print(c)"
   ]
  },
  {
   "cell_type": "code",
   "execution_count": 25,
   "metadata": {},
   "outputs": [
    {
     "name": "stdout",
     "output_type": "stream",
     "text": [
      "0 P\n",
      "1 y\n",
      "2 t\n",
      "3 h\n",
      "4 o\n",
      "5 n\n"
     ]
    }
   ],
   "source": [
    "for index, char in enumerate(una_palabra):\n",
    "    print(index, char)"
   ]
  },
  {
   "cell_type": "code",
   "execution_count": 26,
   "metadata": {},
   "outputs": [
    {
     "name": "stdout",
     "output_type": "stream",
     "text": [
      "0 C\n",
      "1 C++\n",
      "2 Python\n",
      "3 C#\n",
      "4 Java\n",
      "5 JavaScript\n"
     ]
    }
   ],
   "source": [
    "for idx, palabra in enumerate(lenguajes):\n",
    "    print(idx, palabra)"
   ]
  },
  {
   "cell_type": "markdown",
   "metadata": {},
   "source": [
    "### Más métodos de strings"
   ]
  },
  {
   "cell_type": "code",
   "execution_count": 27,
   "metadata": {
    "scrolled": true
   },
   "outputs": [
    {
     "name": "stdout",
     "output_type": "stream",
     "text": [
      " N°   ^2\n",
      "  1    1\n",
      "  2    4\n",
      "  3    9\n",
      "  4   16\n",
      "  5   25\n",
      "  6   36\n",
      "  7   49\n",
      "  8   64\n",
      "  9   81\n",
      " 10  100\n",
      " 11  121\n"
     ]
    }
   ],
   "source": [
    "print(\"N°\".rjust(3), \"^2\".rjust(4))  # alinea a la derecha, dejando espacios a la izquierda\n",
    "for i in range(1, 12):\n",
    "    print(str(i).rjust(3), str(i**2).rjust(4))"
   ]
  },
  {
   "cell_type": "code",
   "execution_count": 28,
   "metadata": {},
   "outputs": [
    {
     "data": {
      "text/plain": [
       "'00012'"
      ]
     },
     "execution_count": 28,
     "metadata": {},
     "output_type": "execute_result"
    }
   ],
   "source": [
    "'12'.zfill(5)"
   ]
  },
  {
   "cell_type": "code",
   "execution_count": 29,
   "metadata": {},
   "outputs": [
    {
     "data": {
      "text/plain": [
       "'-003.14'"
      ]
     },
     "execution_count": 29,
     "metadata": {},
     "output_type": "execute_result"
    }
   ],
   "source": [
    "'-3.14'.zfill(7)"
   ]
  },
  {
   "cell_type": "markdown",
   "metadata": {},
   "source": [
    "### Formateo con _format_"
   ]
  },
  {
   "cell_type": "code",
   "execution_count": 30,
   "metadata": {},
   "outputs": [
    {
     "name": "stdout",
     "output_type": "stream",
     "text": [
      "Hay 10 tipos de personas, las que entienden binario y las que no\n"
     ]
    }
   ],
   "source": [
    "# uso básico de format\n",
    "print(\"Hay {} tipos de personas, las que entienden {} y las que no\".format(\"10\", \"binario\"))"
   ]
  },
  {
   "cell_type": "code",
   "execution_count": 31,
   "metadata": {},
   "outputs": [
    {
     "name": "stdout",
     "output_type": "stream",
     "text": [
      "Chino y Nacho\n",
      "Nacho y Chino\n"
     ]
    }
   ],
   "source": [
    "# usando indices para los parámetros de la función\n",
    "print(\"{0} y {1}\".format(\"Chino\", \"Nacho\"))\n",
    "print(\"{1} y {0}\".format(\"Chino\", \"Nacho\"))"
   ]
  },
  {
   "cell_type": "code",
   "execution_count": 32,
   "metadata": {},
   "outputs": [
    {
     "ename": "IndexError",
     "evalue": "Replacement index 2 out of range for positional args tuple",
     "output_type": "error",
     "traceback": [
      "\u001b[0;31m---------------------------------------------------------------------------\u001b[0m",
      "\u001b[0;31mIndexError\u001b[0m                                Traceback (most recent call last)",
      "Input \u001b[0;32mIn [32]\u001b[0m, in \u001b[0;36m<cell line: 2>\u001b[0;34m()\u001b[0m\n\u001b[1;32m      1\u001b[0m \u001b[38;5;66;03m# un error en los indices, provocaría una excepción\u001b[39;00m\n\u001b[0;32m----> 2\u001b[0m \u001b[38;5;28mprint\u001b[39m(\u001b[38;5;124;43m\"\u001b[39;49m\u001b[38;5;132;43;01m{0}\u001b[39;49;00m\u001b[38;5;124;43m y \u001b[39;49m\u001b[38;5;132;43;01m{2}\u001b[39;49;00m\u001b[38;5;124;43m\"\u001b[39;49m\u001b[38;5;241;43m.\u001b[39;49m\u001b[43mformat\u001b[49m\u001b[43m(\u001b[49m\u001b[38;5;124;43m\"\u001b[39;49m\u001b[38;5;124;43mChino\u001b[39;49m\u001b[38;5;124;43m\"\u001b[39;49m\u001b[43m,\u001b[49m\u001b[43m \u001b[49m\u001b[38;5;124;43m\"\u001b[39;49m\u001b[38;5;124;43mNacho\u001b[39;49m\u001b[38;5;124;43m\"\u001b[39;49m\u001b[43m)\u001b[49m)\n",
      "\u001b[0;31mIndexError\u001b[0m: Replacement index 2 out of range for positional args tuple"
     ]
    }
   ],
   "source": [
    "# un error en los indices, provocaría una excepción\n",
    "print(\"{0} y {2}\".format(\"Chino\", \"Nacho\"))"
   ]
  },
  {
   "cell_type": "code",
   "execution_count": 33,
   "metadata": {},
   "outputs": [
    {
     "name": "stdout",
     "output_type": "stream",
     "text": [
      "Esta sopa está riquísima\n"
     ]
    }
   ],
   "source": [
    "# podemos usar argumentos nombrados\n",
    "print(\"Esta {comida} está {adjetivo}\".format(comida=\"sopa\", adjetivo=\"riquísima\"))"
   ]
  },
  {
   "cell_type": "code",
   "execution_count": 34,
   "metadata": {},
   "outputs": [
    {
     "name": "stdout",
     "output_type": "stream",
     "text": [
      "El valor de PI es aproximadamente 3.141592653589793\n"
     ]
    }
   ],
   "source": [
    "# el : y un especificador de formato aumenta el control del formateo\n",
    "import math\n",
    "print(\"El valor de PI es aproximadamente {0}\".format(math.pi))"
   ]
  },
  {
   "cell_type": "code",
   "execution_count": 35,
   "metadata": {},
   "outputs": [
    {
     "name": "stdout",
     "output_type": "stream",
     "text": [
      "Poner la primera letra en mayúscula\n",
      "Cada Palabra Empieza Con Mayúscula\n",
      "hago que todo esté en minúsculas\n",
      "HAGO QUE TODO ESTÉ EN MAYÚSCULAS\n",
      "Puedo reemplazar una palabra por otra\n",
      "['También', 'puedo', 'cortar', 'strings', 'por', 'un', 'caracter']\n"
     ]
    }
   ],
   "source": [
    "print(\"poner la primera letra en mayúscula\".capitalize())\n",
    "print(\"cada palabra empieza con mayúscula\".title())\n",
    "print(\"HAGO QUE TODO ESTÉ EN MINÚSCULAS\".lower())\n",
    "print(\"Hago que todo esté en mayúsculas\".upper())\n",
    "print(\"Puedo reemplazar una idea por otra\".replace(\"idea\", \"palabra\"))\n",
    "print(\"También puedo cortar strings por un caracter\".split(\" \"))"
   ]
  },
  {
   "cell_type": "markdown",
   "metadata": {},
   "source": [
    "## Tipos complejos de datos\n",
    "\n",
    "Python posee tipos de datos complejos, que admiten una **colección de datos**:\n",
    "\n",
    "* Tuplas\n",
    "* Listas\n",
    "* Diccionarios\n",
    "* Conjuntos\n",
    "* Otros (usando módulos)\n",
    "\n",
    "Por ahora, solo veremos **listas**"
   ]
  },
  {
   "cell_type": "markdown",
   "metadata": {},
   "source": [
    "## Listas\n",
    "\n",
    "Una lista en Python es una estructura de datos formada por una secuencia ordenada de objetos. Los elementos de una lista pueden accederse mediante su índice, siendo 0 el índice del primer elemento.\n",
    "\n",
    "No necesariamente los elementos de una lista deben ser del mismo tipo."
   ]
  },
  {
   "cell_type": "code",
   "execution_count": 36,
   "metadata": {},
   "outputs": [
    {
     "data": {
      "text/plain": [
       "['linux', 'windows', 'ios', 'android']"
      ]
     },
     "execution_count": 36,
     "metadata": {},
     "output_type": "execute_result"
    }
   ],
   "source": [
    "so = ['linux', 'windows', 'ios', 'android']\n",
    "so"
   ]
  },
  {
   "cell_type": "code",
   "execution_count": 37,
   "metadata": {},
   "outputs": [
    {
     "data": {
      "text/plain": [
       "'linux'"
      ]
     },
     "execution_count": 37,
     "metadata": {},
     "output_type": "execute_result"
    }
   ],
   "source": [
    "so[0]  # al igual que las cadenas (y como todos las secuencias) están indexadas"
   ]
  },
  {
   "cell_type": "code",
   "execution_count": 38,
   "metadata": {},
   "outputs": [
    {
     "data": {
      "text/plain": [
       "['windows', 'ios']"
      ]
     },
     "execution_count": 38,
     "metadata": {},
     "output_type": "execute_result"
    }
   ],
   "source": [
    "so[1: -1]  # y pueden rebanarse (se obtiene una nueva lista)"
   ]
  },
  {
   "cell_type": "code",
   "execution_count": 39,
   "metadata": {},
   "outputs": [
    {
     "data": {
      "text/plain": [
       "['linux', 'windows', 'ios', 'android', 'unix']"
      ]
     },
     "execution_count": 39,
     "metadata": {},
     "output_type": "execute_result"
    }
   ],
   "source": [
    "so + ['unix']  # puede concatenarse a otra lista"
   ]
  },
  {
   "cell_type": "code",
   "execution_count": 40,
   "metadata": {},
   "outputs": [
    {
     "data": {
      "text/plain": [
       "['GNU/Linux', 'windows', 'ios', 'android']"
      ]
     },
     "execution_count": 40,
     "metadata": {},
     "output_type": "execute_result"
    }
   ],
   "source": [
    "so[0] = 'GNU/Linux'  # las listas son mutables, podemos modificarlas\n",
    "so"
   ]
  },
  {
   "cell_type": "code",
   "execution_count": 41,
   "metadata": {},
   "outputs": [
    {
     "data": {
      "text/plain": [
       "['GNU/Linux', 'windows', 'ios', 'android', 'unix']"
      ]
     },
     "execution_count": 41,
     "metadata": {},
     "output_type": "execute_result"
    }
   ],
   "source": [
    "so.append('unix')  # con append añadimos a la lista\n",
    "so"
   ]
  },
  {
   "cell_type": "code",
   "execution_count": 42,
   "metadata": {},
   "outputs": [
    {
     "data": {
      "text/plain": [
       "['GNU/Linux', 'Windows', 'iOS', 'android', 'unix']"
      ]
     },
     "execution_count": 42,
     "metadata": {},
     "output_type": "execute_result"
    }
   ],
   "source": [
    "so[1:3] = ['Windows', 'iOS']  # podemos modificar usando una rebanada\n",
    "so"
   ]
  },
  {
   "cell_type": "code",
   "execution_count": null,
   "metadata": {},
   "outputs": [],
   "source": []
  },
  {
   "cell_type": "markdown",
   "metadata": {},
   "source": [
    "# Módulo random\n",
    "\n",
    "El módulo random de la librería estándar de Python incluye un conjunto de funciones que permiten obtener de distintos modos números aleatorios o, para ser rigurosos, pseudoaleatorios. "
   ]
  },
  {
   "cell_type": "code",
   "execution_count": 43,
   "metadata": {},
   "outputs": [],
   "source": [
    "import random"
   ]
  },
  {
   "cell_type": "code",
   "execution_count": 44,
   "metadata": {},
   "outputs": [
    {
     "data": {
      "text/plain": [
       "1"
      ]
     },
     "execution_count": 44,
     "metadata": {},
     "output_type": "execute_result"
    }
   ],
   "source": [
    "random.randint(0, 10)  #  devuelve un número entero incluido entre los valores indicados"
   ]
  },
  {
   "cell_type": "code",
   "execution_count": 45,
   "metadata": {},
   "outputs": [
    {
     "data": {
      "text/plain": [
       "7"
      ]
     },
     "execution_count": 45,
     "metadata": {},
     "output_type": "execute_result"
    }
   ],
   "source": [
    "random.randrange(3, 18, 4) #  devuelve enteros que van desde un valor inicial a otro final separados entre sí un número de valores determinados"
   ]
  },
  {
   "cell_type": "code",
   "execution_count": 46,
   "metadata": {},
   "outputs": [
    {
     "data": {
      "text/plain": [
       "0.9880125612563868"
      ]
     },
     "execution_count": 46,
     "metadata": {},
     "output_type": "execute_result"
    }
   ],
   "source": [
    "random.random() # devuelve un número float entre 0 y 1 "
   ]
  },
  {
   "cell_type": "code",
   "execution_count": 47,
   "metadata": {},
   "outputs": [
    {
     "data": {
      "text/plain": [
       "114.0221497015847"
      ]
     },
     "execution_count": 47,
     "metadata": {},
     "output_type": "execute_result"
    }
   ],
   "source": [
    "random.uniform(100, 140)  # devuelve un número float incluido entre los valores indicados. "
   ]
  },
  {
   "cell_type": "code",
   "execution_count": 48,
   "metadata": {},
   "outputs": [
    {
     "name": "stdout",
     "output_type": "stream",
     "text": [
      "Vuelta 0\n",
      "6\n",
      "4\n",
      "7\n",
      "6\n",
      "6\n",
      "Vuelta 1\n",
      "6\n",
      "4\n",
      "7\n",
      "6\n",
      "6\n"
     ]
    }
   ],
   "source": [
    "# random.seed especifica la semilla para determina la pseudoaleatoria\n",
    "for vuelta in range(2):\n",
    "    random.seed(\"Awante Python!\")\n",
    "    print(f\"Vuelta {vuelta}\")\n",
    "    for i in range(5):\n",
    "        print(random.randint(0, 9))"
   ]
  },
  {
   "cell_type": "code",
   "execution_count": 49,
   "metadata": {},
   "outputs": [
    {
     "name": "stdout",
     "output_type": "stream",
     "text": [
      "Hoy programaré en: Python\n"
     ]
    }
   ],
   "source": [
    "lenguajes = ['C', 'C++', 'php', 'Python', 'java']\n",
    "print('Hoy programaré en:', random.choice(lenguajes))"
   ]
  },
  {
   "cell_type": "code",
   "execution_count": 50,
   "metadata": {},
   "outputs": [
    {
     "name": "stdout",
     "output_type": "stream",
     "text": [
      "[0.0, 0.675, 0.199, 0.215, 0.501, 0.051, 0.256, 0.142, 0.042, 0.272, 0.26, 0.604, 0.057, 0.491, 0.026, 0.386, 0.153, 0.39, 0.968, 0.632, 0.118, 0.64, 0.823, 0.425, 0.674, 0.776, 0.602, 0.956, 0.606, 0.719, 0.575, 0.063, 0.155, 0.733, 0.707, 0.189, 0.661, 0.665, 0.62, 0.865, 0.358, 0.713, 0.452, 0.562, 0.57, 0.272, 0.056, 0.302, 0.742, 0.908, 0.265, 0.508, 0.335, 0.835, 0.64, 0.988, 0.376, 0.816, 0.15, 0.954, 0.591, 0.428, 0.823, 0.033, 0.115, 0.748, 0.43, 0.639, 0.969, 0.24, 0.78, 0.506, 0.057, 0.47, 0.149, 0.342, 0.128, 0.822, 0.638, 0.493, 0.88, 0.621, 0.878, 0.404, 0.039, 0.706, 0.01, 0.11, 0.806, 0.43, 0.268, 0.424, 0.456, 0.544, 0.129, 0.253, 0.18, 0.823, 0.216, 0.68, 0.777, 0.024, 0.745, 0.116, 0.161, 0.152, 0.125, 0.596, 0.216, 0.95, 0.854, 0.692, 0.432, 0.367, 0.191, 0.948, 0.724, 0.852, 0.277, 0.208, 0.469, 0.904, 0.571, 0.069, 0.839, 0.759, 0.335, 0.296, 0.744, 0.267, 0.272, 0.477, 0.543, 0.268, 0.782, 0.532, 0.438, 0.961, 0.872, 0.065, 0.818, 0.562, 0.667, 0.392, 0.501, 0.738, 0.892, 0.99, 0.145, 0.179, 0.497, 0.633, 0.481, 0.517, 0.547, 0.999, 0.272, 0.778, 0.442, 0.876, 0.789, 0.594, 0.677, 0.911, 0.146, 0.22, 0.152, 0.394, 0.424, 0.944, 0.818, 0.284, 0.651, 0.653, 0.753, 0.325, 0.09, 0.656, 0.811, 0.86, 0.395, 0.783, 0.859, 0.543, 0.982, 0.825, 0.785, 0.377, 0.921, 0.851, 0.714, 0.665, 0.251, 0.974, 0.021, 0.001, 0.909, 0.494, 0.352, 0.227]\n"
     ]
    }
   ],
   "source": [
    "muchos_floats = []\n",
    "for i in range(200):\n",
    "    muchos_floats.append(round(random.random(), 3))\n",
    "print(muchos_floats)"
   ]
  },
  {
   "cell_type": "code",
   "execution_count": 51,
   "metadata": {},
   "outputs": [
    {
     "name": "stdout",
     "output_type": "stream",
     "text": [
      "[0.742, 0.386, 0.904, 0.782, 0.155, 0.911, 0.438, 0.839, 0.11, 0.424, 0.823, 0.99, 0.057, 0.738, 0.714]\n"
     ]
    }
   ],
   "source": [
    "print(random.sample(muchos_floats, 15))"
   ]
  },
  {
   "cell_type": "code",
   "execution_count": null,
   "metadata": {},
   "outputs": [],
   "source": []
  }
 ],
 "metadata": {
  "celltoolbar": "Slideshow",
  "kernelspec": {
   "display_name": "Python 3 (ipykernel)",
   "language": "python",
   "name": "python3"
  },
  "language_info": {
   "codemirror_mode": {
    "name": "ipython",
    "version": 3
   },
   "file_extension": ".py",
   "mimetype": "text/x-python",
   "name": "python",
   "nbconvert_exporter": "python",
   "pygments_lexer": "ipython3",
   "version": "3.10.4"
  }
 },
 "nbformat": 4,
 "nbformat_minor": 1
}
