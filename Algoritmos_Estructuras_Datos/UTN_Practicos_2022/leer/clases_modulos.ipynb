{
 "cells": [
  {
   "cell_type": "markdown",
   "metadata": {},
   "source": [
    "# Módulos, paquetes y espacios de nombre (namespaces)\n",
    "\n",
    "En Python cada archivo .py se denomina **módulos**. Estos módulos pueden formar paquetes. \n",
    "\n",
    "Un paquete es una carpeta que contiene módulos y que además, tiene un archivo llamado `__init__.py`. Este archivo puede estar vacio."
   ]
  },
  {
   "cell_type": "markdown",
   "metadata": {},
   "source": [
    "![Módulos](img/paquete.png)"
   ]
  },
  {
   "cell_type": "markdown",
   "metadata": {},
   "source": [
    "También podemos tener **sub-paquete**:\n",
    "\n",
    "![Sub-paquete](img/subpaquete.png)\n",
    "\n",
    "Y un módulo no necesariamente debe estar dentro de un paquete\n",
    "\n",
    "![Módulo sin paquete](img/modulo_sin_paquete.png)"
   ]
  },
  {
   "cell_type": "markdown",
   "metadata": {},
   "source": [
    "## Importar un módulo entero\n",
    "\n",
    "Podemos utilizar un módulo desde otro, importándolo. \n",
    "\n",
    "Con **import** y el nombre del módulo lo importamos. Si éste pertenece a un paquete, este debe preceder al módulo.\n",
    "\n",
    "```python\n",
    "import modulo  # importar un módulo que no pertenece a un paquete\n",
    "import paquete.modulo1  # importar un módulo que está dentro de un paquete\n",
    "import paquete.subpaquete.modulo1\n",
    "\n",
    "```\n",
    "\n",
    "Python tiene sus propios paquetes y módulos que conforman su librería de módulos estándar, que también deben ser importados."
   ]
  },
  {
   "cell_type": "markdown",
   "metadata": {},
   "source": [
    "## Namespaces\n",
    "\n",
    "Para **acceder** a cualquier elemento del módulo importado, se realiza mediante el **namespace** seguido del punto (.) y el nombre del elemente que se desea utilizar.\n",
    "\n",
    "```python\n",
    "print(modulo.CONSTANTE_1)\n",
    "print(paquete.modulo1.CONSTANTE_1)\n",
    "print(paquete.subpaquete.modulo1.CONSTANTE_1)\n",
    "```\n",
    "\n",
    "#### Alias\n",
    "Podemos darle un nombre más corto al namespace con un alias. \n",
    "\n",
    "```python\n",
    "\n",
    "import modulo as m\n",
    "import paquete.modulo1 as pm\n",
    "import paquete.subpaquete.modulo1 as psm\n",
    "\n",
    "print(m.CONSTANTE_1)\n",
    "print(pm.CONSTANTE_1)\n",
    "print(psm.CONSTANTE_1)\n",
    "```"
   ]
  },
  {
   "cell_type": "markdown",
   "metadata": {},
   "source": [
    "# Clases y objetos\n",
    "\n",
    "En python, \"todo\" es un **objeto**. Un objeto es un nuevo tipo de dato, cuya definición viene dada por una clase.\n",
    "\n",
    "Una clase es sólo un guión sobre como deben ser los objetos que se crearán con ella.\n",
    "\n",
    "## Función _type()_\n",
    "\n",
    "_type_ nos va a permitir saber de que clase es cualquier objeto, y si es un objeto en sí."
   ]
  },
  {
   "cell_type": "code",
   "execution_count": 1,
   "metadata": {},
   "outputs": [
    {
     "data": {
      "text/plain": [
       "int"
      ]
     },
     "execution_count": 1,
     "metadata": {},
     "output_type": "execute_result"
    }
   ],
   "source": [
    "numero = 11\n",
    "type(numero)"
   ]
  },
  {
   "cell_type": "code",
   "execution_count": 2,
   "metadata": {},
   "outputs": [
    {
     "data": {
      "text/plain": [
       "function"
      ]
     },
     "execution_count": 2,
     "metadata": {},
     "output_type": "execute_result"
    }
   ],
   "source": [
    "def una_funcion():\n",
    "    print(\"Hola\")\n",
    "\n",
    "type(una_funcion)"
   ]
  },
  {
   "cell_type": "markdown",
   "metadata": {},
   "source": [
    "## Definición de clase\n",
    "\n",
    "La sintaxis es muy simple:"
   ]
  },
  {
   "cell_type": "code",
   "execution_count": 36,
   "metadata": {},
   "outputs": [],
   "source": [
    "class Rectangulo:\n",
    "    pass"
   ]
  },
  {
   "cell_type": "markdown",
   "metadata": {},
   "source": [
    "Veamos como crear objetos rectangulos con este guión (la clase)\n",
    "\n",
    "## Instancias de clase\n",
    "\n",
    "Los objetos existen solo cuando el programa está ejecutandose, y son almacenados en la memoria.\n",
    "\n",
    "Las clases existen en el código, conteniendo las instrucciones para crear objetos de ese tipo, pero los objetos no existen hasta que el programa es ejecutado.\n",
    "\n",
    "El proceso de creación de objetos durante la ejecución del programa (los cuales son almacenados en la memoria) se llama **instanciación**:"
   ]
  },
  {
   "cell_type": "code",
   "execution_count": 37,
   "metadata": {},
   "outputs": [],
   "source": [
    "rect_1 = Rectangulo()\n",
    "rect_2 = Rectangulo()"
   ]
  },
  {
   "cell_type": "code",
   "execution_count": 39,
   "metadata": {},
   "outputs": [
    {
     "data": {
      "text/plain": [
       "<__main__.Rectangulo at 0x7f16f878c040>"
      ]
     },
     "execution_count": 39,
     "metadata": {},
     "output_type": "execute_result"
    }
   ],
   "source": [
    "rect_1"
   ]
  },
  {
   "cell_type": "markdown",
   "metadata": {},
   "source": [
    "### ¿Estos objetos son \" entes independientes\" en la memoria?"
   ]
  },
  {
   "cell_type": "code",
   "execution_count": 40,
   "metadata": {},
   "outputs": [
    {
     "name": "stdout",
     "output_type": "stream",
     "text": [
      "<__main__.Rectangulo object at 0x7f16f878c040>\n",
      "<__main__.Rectangulo object at 0x7f16f878c070>\n"
     ]
    }
   ],
   "source": [
    "print(rect_1)\n",
    "print(rect_2)"
   ]
  },
  {
   "cell_type": "code",
   "execution_count": 41,
   "metadata": {},
   "outputs": [
    {
     "name": "stdout",
     "output_type": "stream",
     "text": [
      "<class '__main__.Rectangulo'>\n"
     ]
    }
   ],
   "source": [
    "print(Rectangulo)"
   ]
  },
  {
   "cell_type": "code",
   "execution_count": 42,
   "metadata": {},
   "outputs": [
    {
     "name": "stdout",
     "output_type": "stream",
     "text": [
      "<class '__main__.Rectangulo'>\n",
      "<class '__main__.Rectangulo'>\n"
     ]
    }
   ],
   "source": [
    "print(type(rect_1))\n",
    "print(rect_1.__class__)"
   ]
  },
  {
   "cell_type": "markdown",
   "metadata": {},
   "source": [
    "### Los objetos son instancias de una clase\n",
    "\n",
    "## Atributos y métodos\n",
    "\n",
    "Podemos definir variables y funciones dentro de la clase. Cuando esto ocurre, a esas variables y funciones se las conoce como atributos y métodos de la clase.\n",
    "\n",
    "### Atributos\n",
    "\n",
    "Como comentamos, los atributos no son muy distintas a las variables, pero éstas sólo existen dentro del objeto.\n",
    "\n"
   ]
  },
  {
   "cell_type": "code",
   "execution_count": 43,
   "metadata": {},
   "outputs": [],
   "source": [
    "class Cuadrado:\n",
    "    lado = 2"
   ]
  },
  {
   "cell_type": "code",
   "execution_count": 44,
   "metadata": {},
   "outputs": [
    {
     "name": "stdout",
     "output_type": "stream",
     "text": [
      "Es menor\n"
     ]
    }
   ],
   "source": [
    "cuad = Cuadrado()\n",
    "if cuad.lado > 2 :\n",
    "    print(\"Es mayor\")\n",
    "else:\n",
    "    print(\"Es menor\")"
   ]
  },
  {
   "cell_type": "code",
   "execution_count": 46,
   "metadata": {},
   "outputs": [
    {
     "name": "stdout",
     "output_type": "stream",
     "text": [
      "1\n"
     ]
    }
   ],
   "source": [
    "cuad.lado = 1\n",
    "print(cuad.lado)"
   ]
  },
  {
   "cell_type": "code",
   "execution_count": 47,
   "metadata": {},
   "outputs": [],
   "source": [
    "Cuadrado.lado = 4\n",
    "cuad_2 = Cuadrado()"
   ]
  },
  {
   "cell_type": "code",
   "execution_count": 48,
   "metadata": {},
   "outputs": [
    {
     "data": {
      "text/plain": [
       "4"
      ]
     },
     "execution_count": 48,
     "metadata": {},
     "output_type": "execute_result"
    }
   ],
   "source": [
    "cuad_2.lado"
   ]
  },
  {
   "cell_type": "code",
   "execution_count": 49,
   "metadata": {},
   "outputs": [
    {
     "data": {
      "text/plain": [
       "1"
      ]
     },
     "execution_count": 49,
     "metadata": {},
     "output_type": "execute_result"
    }
   ],
   "source": [
    "cuad.lado"
   ]
  },
  {
   "cell_type": "code",
   "execution_count": 21,
   "metadata": {},
   "outputs": [
    {
     "data": {
      "text/plain": [
       "1"
      ]
     },
     "execution_count": 21,
     "metadata": {},
     "output_type": "execute_result"
    }
   ],
   "source": [
    "cuad.lado"
   ]
  },
  {
   "cell_type": "markdown",
   "metadata": {},
   "source": [
    "### Métodos\n",
    "\n",
    "Con los métodos dotamos de comportamiento a los objetos de una clase. Éstas son funciones definidas dentro de la clase, las cuales pueden acceder a sus atributos."
   ]
  },
  {
   "cell_type": "code",
   "execution_count": 50,
   "metadata": {},
   "outputs": [],
   "source": [
    "class Cuadrado:\n",
    "    lado = 2\n",
    "    \n",
    "    def area():\n",
    "        return 4"
   ]
  },
  {
   "cell_type": "code",
   "execution_count": 51,
   "metadata": {},
   "outputs": [
    {
     "ename": "TypeError",
     "evalue": "Cuadrado.area() takes 0 positional arguments but 1 was given",
     "output_type": "error",
     "traceback": [
      "\u001b[0;31m---------------------------------------------------------------------------\u001b[0m",
      "\u001b[0;31mTypeError\u001b[0m                                 Traceback (most recent call last)",
      "Input \u001b[0;32mIn [51]\u001b[0m, in \u001b[0;36m<cell line: 2>\u001b[0;34m()\u001b[0m\n\u001b[1;32m      1\u001b[0m cuad \u001b[38;5;241m=\u001b[39m Cuadrado()\n\u001b[0;32m----> 2\u001b[0m \u001b[43mcuad\u001b[49m\u001b[38;5;241;43m.\u001b[39;49m\u001b[43marea\u001b[49m\u001b[43m(\u001b[49m\u001b[43m)\u001b[49m\n",
      "\u001b[0;31mTypeError\u001b[0m: Cuadrado.area() takes 0 positional arguments but 1 was given"
     ]
    }
   ],
   "source": [
    "cuad = Cuadrado()\n",
    "cuad.area()"
   ]
  },
  {
   "cell_type": "markdown",
   "metadata": {},
   "source": [
    "### ¿porqué el error comenta que hemos enviado un argumento si lo llamamos sin ninguno? "
   ]
  },
  {
   "cell_type": "code",
   "execution_count": 25,
   "metadata": {},
   "outputs": [
    {
     "data": {
      "text/plain": [
       "4"
      ]
     },
     "execution_count": 25,
     "metadata": {},
     "output_type": "execute_result"
    }
   ],
   "source": [
    "Cuadrado.area() "
   ]
  },
  {
   "cell_type": "markdown",
   "metadata": {},
   "source": [
    "### ¿porqué funciona el metodo si lo llamamos desde la clase y no desde el objeto? Es que tenemos métodos de clase y métodos de objeto.\n",
    "\n",
    "## Primer argumento _self_\n",
    "\n",
    "Los objetos son concientes de su existencia. Cuando se ejecuta un método desde un objeto (que no desde una clase), se envía un primer argumento implícito que hace referencia al propio objeto. Si lo definimos en nuestro método podremos capturarlo y ver qué es:"
   ]
  },
  {
   "cell_type": "code",
   "execution_count": 26,
   "metadata": {},
   "outputs": [
    {
     "name": "stdout",
     "output_type": "stream",
     "text": [
      "<__main__.Cuadrado object at 0x7f16f850d540>\n"
     ]
    },
    {
     "data": {
      "text/plain": [
       "4"
      ]
     },
     "execution_count": 26,
     "metadata": {},
     "output_type": "execute_result"
    }
   ],
   "source": [
    "class Cuadrado:\n",
    "    lado = 2\n",
    "    \n",
    "    def area(soy_el_objeto):\n",
    "        print(soy_el_objeto)\n",
    "        return 4\n",
    "    \n",
    "cuad = Cuadrado()\n",
    "cuad.area()"
   ]
  },
  {
   "cell_type": "markdown",
   "metadata": {},
   "source": [
    "Como se puede ver, el primer agumento en un método de objeto es el propio objeto (podemos ver su referencia en el print). Por convención, este parametro lo llamamos **self** "
   ]
  },
  {
   "cell_type": "code",
   "execution_count": 29,
   "metadata": {},
   "outputs": [
    {
     "ename": "NameError",
     "evalue": "name 'lado' is not defined",
     "output_type": "error",
     "traceback": [
      "\u001b[0;31m---------------------------------------------------------------------------\u001b[0m",
      "\u001b[0;31mNameError\u001b[0m                                 Traceback (most recent call last)",
      "Input \u001b[0;32mIn [29]\u001b[0m, in \u001b[0;36m<cell line: 9>\u001b[0;34m()\u001b[0m\n\u001b[1;32m      6\u001b[0m         \u001b[38;5;28;01mreturn\u001b[39;00m area\n\u001b[1;32m      8\u001b[0m cuad \u001b[38;5;241m=\u001b[39m Cuadrado()\n\u001b[0;32m----> 9\u001b[0m \u001b[43mcuad\u001b[49m\u001b[38;5;241;43m.\u001b[39;49m\u001b[43marea\u001b[49m\u001b[43m(\u001b[49m\u001b[43m)\u001b[49m\n",
      "Input \u001b[0;32mIn [29]\u001b[0m, in \u001b[0;36mCuadrado.area\u001b[0;34m(self)\u001b[0m\n\u001b[1;32m      4\u001b[0m \u001b[38;5;28;01mdef\u001b[39;00m \u001b[38;5;21marea\u001b[39m(\u001b[38;5;28mself\u001b[39m):\n\u001b[0;32m----> 5\u001b[0m     area \u001b[38;5;241m=\u001b[39m \u001b[43mlado\u001b[49m \u001b[38;5;241m*\u001b[39m\u001b[38;5;241m*\u001b[39m \u001b[38;5;241m2\u001b[39m\n\u001b[1;32m      6\u001b[0m     \u001b[38;5;28;01mreturn\u001b[39;00m area\n",
      "\u001b[0;31mNameError\u001b[0m: name 'lado' is not defined"
     ]
    }
   ],
   "source": [
    "class Cuadrado:\n",
    "    lado = 2\n",
    "    \n",
    "    def area(self):\n",
    "        area = lado ** 2\n",
    "        return area\n",
    "    \n",
    "cuad = Cuadrado()\n",
    "cuad.area()"
   ]
  },
  {
   "cell_type": "code",
   "execution_count": 30,
   "metadata": {},
   "outputs": [
    {
     "data": {
      "text/plain": [
       "4"
      ]
     },
     "execution_count": 30,
     "metadata": {},
     "output_type": "execute_result"
    }
   ],
   "source": [
    "class Cuadrado:\n",
    "    lado = 2\n",
    "    \n",
    "    def area(self):\n",
    "        area = self.lado ** 2  # <-- usando self, accedemos a los atributos del objeto\n",
    "        return area\n",
    "    \n",
    "cuad = Cuadrado()\n",
    "cuad.area()"
   ]
  },
  {
   "cell_type": "markdown",
   "metadata": {},
   "source": [
    "## Métodos especiales\n",
    "\n",
    "Existen muchos métodos especiales que podemos definir. Por el momento, sólo veremos *__init__*, comunmente llamado  constructor, el cual es invocado luego de la creacion del objeto."
   ]
  },
  {
   "cell_type": "code",
   "execution_count": 33,
   "metadata": {},
   "outputs": [
    {
     "name": "stdout",
     "output_type": "stream",
     "text": [
      "Acabo de nacer con lado 2\n"
     ]
    },
    {
     "data": {
      "text/plain": [
       "4"
      ]
     },
     "execution_count": 33,
     "metadata": {},
     "output_type": "execute_result"
    }
   ],
   "source": [
    "class Cuadrado:\n",
    "    lado = 2\n",
    "    \n",
    "    def __init__(self):\n",
    "        print(f\"Acabo de nacer con lado {self.lado}\")\n",
    "    \n",
    "    def area(self):\n",
    "        area = self.lado ** 2\n",
    "        return area\n",
    "    \n",
    "cuad = Cuadrado()\n",
    "cuad.area()"
   ]
  },
  {
   "cell_type": "markdown",
   "metadata": {},
   "source": [
    "El constructor es un excelente lugar para parametrizar la construcción de objetos:"
   ]
  },
  {
   "cell_type": "code",
   "execution_count": 34,
   "metadata": {},
   "outputs": [
    {
     "name": "stdout",
     "output_type": "stream",
     "text": [
      "Acabo de nacer con lado 3\n"
     ]
    },
    {
     "data": {
      "text/plain": [
       "9"
      ]
     },
     "execution_count": 34,
     "metadata": {},
     "output_type": "execute_result"
    }
   ],
   "source": [
    "class Cuadrado:\n",
    "    \n",
    "    def __init__(self, lado):\n",
    "        self.lado = lado\n",
    "        print(f\"Acabo de nacer con lado {self.lado}\")\n",
    "    \n",
    "    def area(self):\n",
    "        area = self.lado ** 2\n",
    "        return area\n",
    "    \n",
    "cuad = Cuadrado(3)\n",
    "cuad.area()"
   ]
  },
  {
   "cell_type": "markdown",
   "metadata": {},
   "source": [
    "## Objetos dentro de objetos \n",
    "\n",
    "Como las clases son tipos de datos definidos por el programador, éstas pueden ser utilizadas para definir otras clases, con cualquier número arbitrario de anidamiento.\n",
    "\n",
    "Dejo un ejemplo de un catalogo de películas:"
   ]
  },
  {
   "cell_type": "code",
   "execution_count": 35,
   "metadata": {},
   "outputs": [
    {
     "name": "stdout",
     "output_type": "stream",
     "text": [
      "Se ha creado la película: El Padrino\n",
      "El Padrino (1972)\n",
      "Se ha creado la película: El Padrino: Parte 2\n",
      "El Padrino (1972)\n",
      "El Padrino: Parte 2 (1974)\n"
     ]
    }
   ],
   "source": [
    "class Pelicula:\n",
    "\n",
    "    # Constructor de clase\n",
    "    def __init__(self, titulo, duracion, lanzamiento):\n",
    "        self.titulo = titulo\n",
    "        self.duracion = duracion\n",
    "        self.lanzamiento = lanzamiento\n",
    "        print('Se ha creado la película:', self.titulo)\n",
    "\n",
    "    def __str__(self):\n",
    "        return '{} ({})'.format(self.titulo, self.lanzamiento)\n",
    "\n",
    "\n",
    "class Catalogo:\n",
    "\n",
    "    peliculas = []  # Esta lista contendrá objetos de la clase Pelicula\n",
    "\n",
    "    def __init__(self, peliculas=[]):\n",
    "        self.peliculas = peliculas\n",
    "\n",
    "    def agregar(self, p):  # p será un objeto Pelicula\n",
    "        self.peliculas.append(p)\n",
    "\n",
    "    def mostrar(self):\n",
    "        for p in self.peliculas:\n",
    "            print(p)  # Print toma por defecto str(p)\n",
    "\n",
    "\n",
    "p = Pelicula(\"El Padrino\", 175, 1972)\n",
    "c = Catalogo([p])  # Añado una lista con una película desde el principio\n",
    "c.mostrar()\n",
    "c.agregar(Pelicula(\"El Padrino: Parte 2\", 202, 1974))  # Añadimos otra\n",
    "c.mostrar()"
   ]
  },
  {
   "cell_type": "markdown",
   "metadata": {},
   "source": [
    "Fuente: \n",
    "- https://docs.hektorprofe.net/python/programacion-orientada-a-objetos/\n",
    "- https://entrenamiento-python-basico.readthedocs.io/es/latest/leccion9/poo.html"
   ]
  },
  {
   "cell_type": "code",
   "execution_count": null,
   "metadata": {},
   "outputs": [],
   "source": []
  }
 ],
 "metadata": {
  "kernelspec": {
   "display_name": "Python 3 (ipykernel)",
   "language": "python",
   "name": "python3"
  },
  "language_info": {
   "codemirror_mode": {
    "name": "ipython",
    "version": 3
   },
   "file_extension": ".py",
   "mimetype": "text/x-python",
   "name": "python",
   "nbconvert_exporter": "python",
   "pygments_lexer": "ipython3",
   "version": "3.10.5"
  }
 },
 "nbformat": 4,
 "nbformat_minor": 1
}
