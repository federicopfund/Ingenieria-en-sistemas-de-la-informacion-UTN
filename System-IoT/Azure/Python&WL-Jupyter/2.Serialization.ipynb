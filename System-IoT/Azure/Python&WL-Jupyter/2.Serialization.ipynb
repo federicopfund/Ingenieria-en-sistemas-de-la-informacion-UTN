{
 "cells": [
  {
   "cell_type": "markdown",
   "id": "velvet-tampa",
   "metadata": {},
   "source": [
    "# 2. Serialization of Python expressions into the Wolfram Language™\n",
    "\n",
    "Continuation of the Wolfram Language™ for Python users. This notebook contains examples of:\n",
    "- how to convert Python expressions into Wolfram expressions and vice versa\n",
    "- which Python libraries are supported \n",
    "- how to create custom encoders/decoders to deal with further data types"
   ]
  },
  {
   "cell_type": "markdown",
   "id": "hundred-accountability",
   "metadata": {},
   "source": [
    "## Serialising from Python into the Wolfram Language:"
   ]
  },
  {
   "cell_type": "markdown",
   "id": "forced-photograph",
   "metadata": {},
   "source": [
    "Expressions written in Python synatx can be converted into conventional wl synatx with **export**.\n",
    "\n",
    "* By default, the target_format is wl and this will produce an InputForm string.\n",
    "* a target_format of wxf can also be used, which can then be deserialised."
   ]
  },
  {
   "cell_type": "code",
   "execution_count": 1,
   "id": "musical-found",
   "metadata": {},
   "outputs": [
    {
     "ename": "ToExpression::sntx",
     "evalue": "Invalid syntax in or before \"export([1,2,3])\".\n                                     ^",
     "output_type": "error",
     "traceback": [
      "\u001b[0;31mToExpression::sntx: Invalid syntax in or before \"export([1,2,3])\".\n                                                         ^\u001b[0m"
     ]
    },
    {
     "data": {
      "text/html": [
       "<style>\n",
       "\t\t\t\t\t\t\t\t\t\t\t\t\t.grid-container {\n",
       "\t\t\t\t\t\t\t\t\t\t\t\t\t\tdisplay: inline-grid;\n",
       "\t\t\t\t\t\t\t\t\t\t\t\t\t\tgrid-template-columns: auto;\n",
       "\t\t\t\t\t\t\t\t\t\t\t\t\t}\n",
       "\t\t\t\t\t\t\t\t\t\t\t\t</style>\n",
       "\n",
       "\t\t\t\t\t\t\t\t\t\t\t\t<div><div class=\"grid-container\"><div class=\"grid-item\"><img alt=\"Output\" src=\"data:image/png;base64,iVBORw0KGgoAAAANSUhEUgAAAPcAAAAPCAIAAAC3L85wAAAA0XpUWHRSYXcgcHJvZmlsZSB0eXBlIGV4aWYAAHjabU/bDQMhDPtnio4QkuDAONwdSN2g4zc81OqqWiI2xgkQ2uvZw2OAIwVNllEAcmjRwtVFpoXFkcqsE932Wbz7gfr2q1vpe4C2/ePuGxZz/h3ES8i4wbXobtiDhJcf69ofO88159ugfvWJ/WDS/Hn6/70YIyGaelUmMxTXObh0QmJKho4T8GDExaSnc4OZt8FGQupoHOBm93QLEDeu8QUZi6U6J68s0VuXVpHpCF/uyMyM77wB+EVcm//68iwAAAAJcEhZcwAACxMAAAsTAQCanBgAAAA8dEVYdFNvZnR3YXJlAENyZWF0ZWQgd2l0aCB0aGUgV29sZnJhbSBMYW5ndWFnZSA6IHd3dy53b2xmcmFtLmNvbVyipoUAAAAhdEVYdENyZWF0aW9uIFRpbWUAMjAyMjowNToyMSAwNTo0MzoyM1YMe7sAAANbSURBVGiB7Vi9mqIwFL3MN48CFnw+QXgCtLGi3Q5KbKaztLOBUrptp6JZ8gTyBPkshHfJFiQY5IYfFWd3htPoF3PuvecYchMMzjnMmPGt8fbVBcyYMTnmVT7j+6Ne5WXsGBWcuHxykjJ2DCOgT476OGggJD9Ymz7OlK72Zn+J7c/ycFLIVU4PW4gKzjnnp9D80pLuRhk747x2j5zzIiKPJtbGeYmrz1LRxFAzp8n+ZLxXH+WFwXIz1f9ghiceThT7X8a0rvbip9rexlvVU61tDslK7Tw0MIK47rfyqb52YDFUxo4Tx4FhGOLjdgNodzQNpZHw2t9bGdHaythpiGgcEFrbEg36DhB6ClYPzh/sam3REFeVyV1bLX6QQIpHbO80cxDairT/rzpVjNOgsd60LmnomEzOuWg5fsYVZD4AEd0288HPqklySH4vIgLgZ3J6ERE5Q0UjvIaS+QBiUp0Iy4jXhou4apEppI7rPJyFUzT16OIMchUj6FzNfMAV4ipuBtWEUp9qeyO61szB2W9+QRPVZahf+/7SRsxOuhztesfi78RZ0j3yowvln8+8HjLDnZ+fi2rexgUAIN56cHPGKX52dAEAzLVH8nOhz9iqrRuWTQAAaMoISykAALGtOygd9QwHUnm9IVnb/DqvbRFNExJ99KnVobywenc2VolSkbBdaH4GUEUPJsJjtoDJ/BFvEs3FMj8X5QW8ncdSWpzz5aLngbyDci9osGJKf5gMxTlv9Nnp7sPDFbkbP99a1YJk0e+OitCYGB2TOWKVm2uPJHtxoCrjfdK7Id4Letjm/sYdm9FcLIFdsCOkZROWHs722l17kKZsQOUYZRIHyguTX+mhc5cCyyb59nDvGzt3449ga8ykQc+FAMYoKuM9q1ek+tRVmcv4l6SjMVE6JnPMXm6Gp2wpHh3r0yuGbAa317BOg2SjWbGoOLrjM7ofEYjZzQuTuVjmCbPXJphrmyViX+6sDaXg9YzS2IIZ7uSGtLcjv3vqqYiY7MbXm2o7OzroHlV235USNVNZbGIASTRckRnupJ2Kojqz9elJOhpTQ0dkDrpdvALIZWzGN0fzNq3cJZ9M/xHn8hn/A2iawAOXny76+91FzZjxKNyPiFgrQ7zvIVFxGvUCaTD9L8O2UP7vMgp/AAAAAElFTkSuQmCC\"></div><div class=\"grid-item\"><img alt=\"Output\" src=\"data:image/png;base64,iVBORw0KGgoAAAANSUhEUgAAASgAAAAPCAIAAADYu8V0AAAA0HpUWHRSYXcgcHJvZmlsZSB0eXBlIGV4aWYAAHjadU/bbUUhDPtnio6QFw6Mw70HpG7Q8RseVctHLREb4wQl9a/PkT4mhClZ9oIKUMCqVWkhCm1sZqqrLkg5im8/0diCW1j59wH9+K/bd/wZeA2SLXT+EFrtNJxBKtvntu+vk5dWyjVoPGPhLEP2sxb/c1cXZLBbVBNyRw1dUsggZKHsGHgDEWQ8QvYO7nCPNvhMaJuNE9L9TvcEDeOZK+g8oi04RxXlaN3aVJdj8oSjKzPX+QaufVxq67zu8AAAAAlwSFlzAAALEwAACxMBAJqcGAAAADx0RVh0U29mdHdhcmUAQ3JlYXRlZCB3aXRoIHRoZSBXb2xmcmFtIExhbmd1YWdlIDogd3d3LndvbGZyYW0uY29tXKKmhQAAACF0RVh0Q3JlYXRpb24gVGltZQAyMDIyOjA1OjIxIDA1OjQzOjI0yGjuGAAAA4BJREFUaIHtWjt26jAQHThvKXYKH1YgVmDTuGIJcgnN6yjT0YgSurSp3MRaAV6BDwXyXuYV+K+RsQFD8uLbhKPPzL1XkvEoTBARRowY8VxMX01gxIjfiPHgjRjxAny3g5fu5pML5rt0iNiBfHDUgSCDzAeN8JAWXc3+UzzsxvOFMp988NLdvFWP3K5BKEREPK6s5/F6JK5p7AZ3j4hKMK3jKRYZs9+FxzjzQAwjsxP+vCCnGek5gZk/1G6yVkdcDRT7aRjWoqv4KR7eyfMJMrF+5nmEiIgRLz9jxAGYUIgRBy7ysSx77FLTG0OBR8SDpQxAPXZKIo04ZEYlGBOCA0D2p2RSaqgzNEwZTqMSrM4q4lk/FVyf0suiQm8XiyqDq/mbhHUPDc4QHravfhOV0X2XwMRTN6SPzAZ94z40UdIVwWVkZVauNOKXaY2mchkvzcUHrH0uDivWEmibTze83k3EoTIqwQB4lA9XglELq+9jfcqAGnMnKzp4ZApuCtXJImqCyaJ8nXWQQhqN5OapeFiLfmX1yaCtiVq0m3M1e7rIrPIoFqgHJV3RFNJzAgcvKzK9Q3Gq3b0SiTeZeBBVagke7V0AAGuxZPFJQfr1GfNN1m+tNjw+qXxo3uzu8TLpNjTiGDNy3wUAYMtF5xcxespQGm2HAQDIMGFJKAEAmGO3BO8OgkZxb2Cv4za9Mjww8ffW5TFtnsLDTHM/2A47ePXLDWOizktAGtIT6W4e+vlp6ENJVzQFdYpr3w61ip2xVxSe/ymst1l8UukZlptlEkp1imdvAxVrMvCSyrfoYGjdPDfDWh0REf2wvHC8N9EjDJGBfdqUZ7sPJV3RFFyfx+utftckA/tz+XH8EIlHXFvL7TrmvgvWYskO71l/uns/MMdu4W69zSA533UJ3jPjHXi4RtthSbg9OQt3sYQwTJhjDyMnPSdVEW1DbYeRy98Nps1Dw+CMDKj/mgC4e1SCHULZO5GGHoaYIIN3R1W/Um+gVFXUfAaUb+nVwgPK+qc2Ln+T1Rqp1/TG84aowsgChoijZcwnZq/aWo3XfMpltRUxZVCNpa15xWUKThDuZVERkglRKykJi6q5yupWy26gpG+eloKXcubSZrrJKNuJRKR2mqduSB+ZjUbKuc6ULr0T7PFbTRlMQv+ueu374zdoHPF6fLdfrowY8SswHrwRI16Af9xZ6JaWf7wrAAAAAElFTkSuQmCC\"></div><div class=\"grid-item\"><img alt=\"Output\" src=\"data:image/png;base64,iVBORw0KGgoAAAANSUhEUgAAAYsAAAAPCAIAAACa1HSmAAAA0HpUWHRSYXcgcHJvZmlsZSB0eXBlIGV4aWYAAHjadU/bDQMhDPtnio6QFwmMwx0gdYOO33Chqq5SLREb4wQljddzpscCISTJVrSqgkOqVGouCgSCEepVwzq2wrufYIbA5lb+PujY/nH3TYOp/A6iELx+cM2yG/YgpvCxxf3YeWql3AbNPi/sZUA+a+GfOxtpVjTxKgRmWl2X5NJJM0E2nXqqehC1E8jpPNTM29RWgttqXKBh9/RIym70tQKvQ9ycs1di9NbQwnw5Qt0dvjJrnTf1M1yaB6mADQAAAAlwSFlzAAALEwAACxMBAJqcGAAAADx0RVh0U29mdHdhcmUAQ3JlYXRlZCB3aXRoIHRoZSBXb2xmcmFtIExhbmd1YWdlIDogd3d3LndvbGZyYW0uY29tXKKmhQAAACF0RVh0Q3JlYXRpb24gVGltZQAyMDIyOjA1OjIxIDA1OjQzOjI0yGjuGAAABC5JREFUeJztWz2WqjAUvrwzS4EpOK4grgBtrGxfB6U201lOZwOlLMGKRrKCYQUcC8le8gr5CeQGyYw4PM3XOCckud/9bkhyr47FOQcDAwODSeLPbxMwMDAwUMLsUAYGBtNFvUOxaG5dMY/YnY2waG5ZAb3zrCOBBqUOEuExJbpp/cEasmg+trVhHk1DEBqoTE1kbT9vvKodiu63EBacc86/Nrb2NJPAfaLkHTjnRUikBw+RSGn9R3jA+h0L4whiMBbuHq+36we75DBbjfXa2Zsvvhlp7odhXIlu4ik0bOGHHk1EkInQeAB+KV5/rqmLs80gXoi3MxpYQVSnNdUB3CQ6ZROL5vMoCizLKj+6Z7V861MMaRls0ijJIsqNRfOWE608TLpB0KB8jk0uQ0ui2t8hEgmd+644+M0ZIY9o2KuMwtXS2x5DrUbdYKk8kqXTEUSwLT4ZTAn3CLNaP8Vo4MsYdQ1fxm01b9QTXiFenPPyWuanXEDqA5AyqUl98NNrp6qp+rsICYCfVt2LkFQ9RLSmVwxJfYCyU20Is4hzw51ofKlMVH74qWpy1VSDJMIGqCRKfcDp4o50GkWDlX+ihq3Zlcq0IYxpRqCGMH/VPRUqqVl1nwwRRORRh1KDEuaR6Jq0OHEaqhAg3TEaDckBQXuJePV9l+fvynKLd+AHD9jpmNVN9mbnZ+fi2m/lAQCQ9XJwDoQP8dODBwBgL9ckOxdqixK3fjguAQCgSU7yhAIAENfpmXw4EBr1eSEea4i/NIlJ+HGLugrskte3ImsRC4xKDUufdYAyUhhyXBIv2kenktLgYKHSaYJF82RV1Ql1KCEetdBdnGpgIVC4JtHwVn52PDEAYKcj9K+P14jXS/zawH6fZeeCXWC9W+cJLc7Z7H2kghINFrlwBo6G4py1Lquj1e4VhuzNF+ecr5LmOv5TSveQjgbOede8VDqUEI/uBg3XvI8QjicGdL+d7b4R1KeLl8YOZS/XJP4sc1gWfcbEdb7H6xbofpv5K0/Xov0+g/yC5e2OS/Jkf3aX3nINSZIT1xnHHXbJRSf6ujouybb7774J3srXGK1Qhgatl9FxSXV+R38r8v2GvAMvQhInVJuSBA3pVKDBp1uIh/43KIke4UbKxakBLdfszW52PEVJfNPIi8RLlSPiaXnqV+PKva4aWCaNUh2qu7uW9R9kSDM1iHm+ZFHJrWWtUw1rkuuqKqSaHCGsJVE9JQnDVtkLkUi01RQ5JOsKSmKzXG3o0MWUubZ16welic5USNhlibCeqEq4R7J0OoJ0GjGNB1PCSjbSLDgNPASYa+plLNSy+vEK8bL4VP4vjwZWsrpdUzIweHbQwPp0i//2d4n3xdtvEzAwMBBBg0Xsp7zZnhijRbcy73jei+xfZocyMJgKaGAtYiBh8SWmErbt2S+yHSH4BxyWE1B59PU3AAAAAElFTkSuQmCC\"></div><div class=\"grid-item\"><img alt=\"Output\" src=\"data:image/png;base64,iVBORw0KGgoAAAANSUhEUgAAADEAAAAPCAIAAADCjrCWAAAA0HpUWHRSYXcgcHJvZmlsZSB0eXBlIGV4aWYAAHjabU9bDsMgDPvnFDtCSIIDx6ErSLvBjr/wUKdOs9TYMU4Kob1fPTwGOFLQZBkFIIcWLVxdZFpYHKnMOiGbvb/5gfr2q1vpe4C2/ePuGxZz/l3E15/i0KJ7YC8SXn6sqz92nmvOt0X97BP7wqT5uvr/XoyREE29KpMZiuscXDohMSVDxxPwYMTJpE/nBjMfg42E1DE4wM3u6RYgbpzjCTI+luqcvLJEH11aRaajfLojMzOe8wGkMVxjtYKE5QAAAAlwSFlzAAALEwAACxMBAJqcGAAAADx0RVh0U29mdHdhcmUAQ3JlYXRlZCB3aXRoIHRoZSBXb2xmcmFtIExhbmd1YWdlIDogd3d3LndvbGZyYW0uY29tXKKmhQAAACF0RVh0Q3JlYXRpb24gVGltZQAyMDIyOjA1OjIxIDA1OjQzOjI0yGjuGAAAAVNJREFUSInNVruRgzAQXTFXCjjwXAWiAojcwWUihOSqIBGhKeEiJycqMBUwDpB6WQcSEuJzNgRnvwgtq7e7b98wEESEN0Pw6gYW8OY9NVlcqZ00qooJyZoxGdEYB58gyRrTkyZI67aILIcl3cqskZwRUXK68RoAAHyAquK04xIPJbmc8Jy4d0x4x78Q5lfM99Rfgt7d5yFUfUeP0YPssXhWug1rUlU8V94Go6LVEUQUTD8ygQ5DEAAAKJfoQ3Lq5U/PS0HB3EkwQyqYLTykB2B2LxjUqT+so7vm4UQTO9PzUH2nS2jzGsJLTfm375DAXWACUbA6XV9Bk6WdUWyHfeWt9fS2g04RuAtmlHVXqb6z3ZXbdUpOrC3KycDRkbY/vwoAVPVl/eQZx1v4zB8ul3I+vJ8qxsRa0A/TqeJMmJpg3Tjv4FUwu5M3ePgh+DcQfL//gjtcz8ZY2iCnkwAAAABJRU5ErkJggg==\"></div></div></div>"
      ],
      "text/plain": [
       "from import wl wolframclient . language\n",
       "export from import wolframclient . serializers\n",
       "from import wolframclient . deserializers (binary_deserialize)\n",
       "$Failed"
      ]
     },
     "execution_count": 1,
     "metadata": {
      "text/html": [],
      "text/plain": []
     },
     "output_type": "execute_result"
    }
   ],
   "source": [
    "from wolframclient.language import wl\n",
    "from wolframclient.serializers import export\n",
    "from wolframclient.deserializers import binary_deserialize\n",
    "export([1,2,3])"
   ]
  },
  {
   "cell_type": "code",
   "execution_count": 4,
   "id": "different-eligibility",
   "metadata": {},
   "outputs": [
    {
     "ename": "ToExpression::sntx",
     "evalue": "Invalid syntax in or before \"wxf = export([1, 2, 3], target_format = \"wxf\")print(wxf)binary_deserialize(wxf)\".\n                                           ^",
     "output_type": "error",
     "traceback": [
      "\u001b[0;31mToExpression::sntx: Invalid syntax in or before \"wxf = export([1, 2, 3], target_format = \"wxf\")print(wxf)binary_deserialize(wxf)\".\n                                                               ^\u001b[0m"
     ]
    },
    {
     "data": {
      "text/html": [
       "<div><img alt=\"Output\" src=\"data:image/png;base64,iVBORw0KGgoAAAANSUhEUgAAADEAAAAPCAIAAADCjrCWAAAA0HpUWHRSYXcgcHJvZmlsZSB0eXBlIGV4aWYAAHjabU9BDsMgDLvzij0hJMGB59AB0n6w5y8U1KnTLDV2jJNC6O/XCI8JjhQ0WUYByKFFC1cXmRYWRypnPSGbvb/5gcb2q1vpe4C+/ePuGxZz/l3E15/i1KJ7YC8SXn6sqz92nmvOt0WjjRP7wqT5uvr/XoyREE29KpMZiuscXDohMSXDwBPwYERj0qdzh5mPwWZC6hyc4G73dA8QN9p8gsyPpTonryzRR5dWEa8iys0dOTPzOR+kQ1xkwTLXDQAAAAlwSFlzAAALEwAACxMBAJqcGAAAADx0RVh0U29mdHdhcmUAQ3JlYXRlZCB3aXRoIHRoZSBXb2xmcmFtIExhbmd1YWdlIDogd3d3LndvbGZyYW0uY29tXKKmhQAAACF0RVh0Q3JlYXRpb24gVGltZQAyMDIyOjA1OjIxIDA1OjQzOjM00XPfWQAAAVNJREFUSInNVruRgzAQXTFXCjjwXAWiAojcwWUihOSqIBGhKeEiJycqMBUwDpB6WQcSEuJzNgRnvwgtq7e7b98wEESEN0Pw6gYW8OY9NVlcqZ00qooJyZoxGdEYB58gyRrTkyZI67aILIcl3cqskZwRUXK68RoAAHyAquK04xIPJbmc8Jy4d0x4x78Q5lfM99Rfgt7d5yFUfUeP0YPssXhWug1rUlU8V94Go6LVEUQUTD8ygQ5DEAAAKJfoQ3Lq5U/PS0HB3EkwQyqYLTykB2B2LxjUqT+so7vm4UQTO9PzUH2nS2jzGsJLTfm375DAXWACUbA6XV9Bk6WdUWyHfeWt9fS2g04RuAtmlHVXqb6z3ZXbdUpOrC3KycDRkbY/vwoAVPVl/eQZx1v4zB8ul3I+vJ8qxsRa0A/TqeJMmJpg3Tjv4FUwu5M3ePgh+DcQfL//gjtcz8ZY2iCnkwAAAABJRU5ErkJggg==\"></div>"
      ],
      "text/plain": [
       "$Failed"
      ]
     },
     "execution_count": 4,
     "metadata": {
      "text/html": [],
      "text/plain": []
     },
     "output_type": "execute_result"
    }
   ],
   "source": [
    "wxf = export([1, 2, 3], target_format = \"wxf\")\n",
    "print(wxf)\n",
    "binary_deserialize(wxf)"
   ]
  },
  {
   "cell_type": "markdown",
   "id": "ranking-foster",
   "metadata": {},
   "source": [
    "Export allows you to take a hybridised Python/Wolfram Language expression and produce a single unified wl expression:"
   ]
  },
  {
   "cell_type": "code",
   "execution_count": 3,
   "id": "italic-hollow",
   "metadata": {},
   "outputs": [
    {
     "data": {
      "text/plain": [
       "b'Select[{1, 2, 3}, PrimeQ]'"
      ]
     },
     "execution_count": 3,
     "metadata": {},
     "output_type": "execute_result"
    }
   ],
   "source": [
    "export(wl.Select([1,2,3], wl.PrimeQ))"
   ]
  },
  {
   "cell_type": "markdown",
   "id": "otherwise-narrow",
   "metadata": {},
   "source": [
    "## In-built data type serialisation\n",
    "    \n",
    "- Lists, sets and dicts are serialized into wl lists.\n",
    "- Generators and iterators are also evaluated into lists.\n",
    "- Numerical types are serialized into their equivalent in the Wolfram Language.\n",
    "- Date, Time and DateTime are seriealized into DateObject/TimeObject."
   ]
  },
  {
   "cell_type": "code",
   "execution_count": 4,
   "id": "planned-identification",
   "metadata": {},
   "outputs": [
    {
     "data": {
      "text/plain": [
       "b'{TimeObject[{15, 2, 25.969478}], DateObject[{2021, 4, 14}, \"Day\", \"Gregorian\", None], DateObject[{2021, 4, 14, 15, 2, 25.969478}, \"Instant\", \"Gregorian\", $TimeZone]}'"
      ]
     },
     "execution_count": 4,
     "metadata": {},
     "output_type": "execute_result"
    }
   ],
   "source": [
    "import datetime\n",
    "now = datetime.datetime.now()\n",
    "export([now.time(), now.date(), now])"
   ]
  },
  {
   "cell_type": "markdown",
   "id": "devoted-spirit",
   "metadata": {},
   "source": [
    "## Libraries\n",
    "\n",
    "A number of popular python libraries have default serialization with wolframclient export:\n",
    "    \n",
    "- **PIL** images are automatically serialized into Image.\n",
    "- **NumPy** arrays of signed and unsigned integers, floats and complexes are serialized into NumericArray.\n",
    "- **Pandas** series and data frames are serialized into Association, Dataset or TimeSeries."
   ]
  },
  {
   "cell_type": "code",
   "execution_count": null,
   "id": "bright-swift",
   "metadata": {},
   "outputs": [
    {
     "ename": "",
     "evalue": "",
     "output_type": "error",
     "traceback": [
      "\u001b[1;31mFailed to start the Kernel. \n",
      "Canceled. \n",
      "View Jupyter <a href='command:jupyter.viewOutput'>log</a> for further details."
     ]
    }
   ],
   "source": [
    "from PIL import Image\n",
    "logo = Image.open('/tmp/logo.png')"
   ]
  },
  {
   "cell_type": "code",
   "execution_count": 6,
   "id": "fewer-sheep",
   "metadata": {
    "tags": []
   },
   "outputs": [
    {
     "name": "stdout",
     "output_type": "stream",
     "text": [
      "[1 2 3]\n"
     ]
    },
    {
     "data": {
      "text/plain": [
       "b'BinaryDeserialize[ByteArray[\"ODrCAgEDAQAAAAIAAAADAAAA\"]]'"
      ]
     },
     "execution_count": 6,
     "metadata": {},
     "output_type": "execute_result"
    }
   ],
   "source": [
    "import numpy\n",
    "x = numpy.array([1, 2, 3])\n",
    "print(x)\n",
    "export(x)"
   ]
  },
  {
   "cell_type": "code",
   "execution_count": 7,
   "id": "capable-parliament",
   "metadata": {},
   "outputs": [
    {
     "data": {
      "text/plain": [
       "b'Dataset[<|\"id1\" -> <|\"col1\" -> \"v12\", \"col2\" -> \"v21\"|>, \"id2\" -> <|\"col1\" -> \"v12\", \"col2\" -> \"v22\"|>|>]'"
      ]
     },
     "execution_count": 7,
     "metadata": {},
     "output_type": "execute_result"
    }
   ],
   "source": [
    "import pandas\n",
    "df = pandas.DataFrame(\n",
    "    {'col1': ['v12', 'v12'],\n",
    "    'col2': ['v21', 'v22']},\n",
    "    index=['id1', 'id2'])\n",
    "export(df)"
   ]
  },
  {
   "cell_type": "code",
   "execution_count": 8,
   "id": "dress-fountain",
   "metadata": {},
   "outputs": [],
   "source": [
    "logowxf = export(Image.open('/tmp/barchart1.png'), target_format='wxf')"
   ]
  },
  {
   "cell_type": "code",
   "execution_count": 9,
   "id": "acute-disclaimer",
   "metadata": {},
   "outputs": [
    {
     "name": "stdout",
     "output_type": "stream",
     "text": [
      "Image[array([[[255, 255, 255],\n",
      "        [255, 255, 255],\n",
      "        [255, 255, 255],\n",
      "        ...,\n",
      "        [255, 255, 255],\n",
      "        [255, 255, 255],\n",
      "        [255, 255, 255]],\n",
      "\n",
      "       [[255, 255, 255],\n",
      "        [255, 255, 255],\n",
      "        [255, 255, 255],\n",
      "        ...,\n",
      "        [255, 255, 255],\n",
      "        [255, 255, 255],\n",
      "        [255, 255, 255]],\n",
      "\n",
      "       [[255, 255, 255],\n",
      "        [255, 255, 255],\n",
      "        [255, 255, 255],\n",
      "        ...,\n",
      "        [255, 255, 255],\n",
      "        [255, 255, 255],\n",
      "        [255, 255, 255]],\n",
      "\n",
      "       ...,\n",
      "\n",
      "       [[255, 255, 255],\n",
      "        [255, 255, 255],\n",
      "        [255, 255, 255],\n",
      "        ...,\n",
      "        [255, 255, 255],\n",
      "        [255, 255, 255],\n",
      "        [255, 255, 255]],\n",
      "\n",
      "       [[255, 255, 255],\n",
      "        [255, 255, 255],\n",
      "        [255, 255, 255],\n",
      "        ...,\n",
      "        [255, 255, 255],\n",
      "        [255, 255, 255],\n",
      "        [255, 255, 255]],\n",
      "\n",
      "       [[255, 255, 255],\n",
      "        [255, 255, 255],\n",
      "        [255, 255, 255],\n",
      "        ...,\n",
      "        [255, 255, 255],\n",
      "        [255, 255, 255],\n",
      "        [255, 255, 255]]], dtype=uint8), 'Byte', Rule[ColorSpace, 'RGB'], Rule[Interleaving, True]]\n"
     ]
    }
   ],
   "source": [
    "from wolframclient.evaluation import WolframLanguageSession\n",
    "with WolframLanguageSession() as wl_blocksession:\n",
    "    print(wl_blocksession.evaluate(binary_deserialize(logowxf)))"
   ]
  },
  {
   "cell_type": "markdown",
   "id": "significant-pharmacology",
   "metadata": {},
   "source": [
    "## Extending Serialization\n",
    "\n",
    "Custom serialization can be achieved through writing an Encoder.\n",
    "\n",
    "https://reference.wolfram.com/language/WolframClientForPython/docpages/advanced_usages.html#extending-serialization-writing-an-encoder\n"
   ]
  },
  {
   "cell_type": "code",
   "execution_count": null,
   "id": "wrong-alabama",
   "metadata": {},
   "outputs": [],
   "source": []
  }
 ],
 "metadata": {
  "interpreter": {
   "hash": "f56fb68111aa59acb18e045ab5b7ca177ec8a0a62474e877ebf222a9a927e4e2"
  },
  "kernelspec": {
   "display_name": "Python 3.8.8 ('base')",
   "language": "python",
   "name": "python3"
  },
  "language_info": {
   "codemirror_mode": {
    "name": "ipython",
    "version": 3
   },
   "file_extension": ".py",
   "mimetype": "text/x-python",
   "name": "python",
   "nbconvert_exporter": "python",
   "pygments_lexer": "ipython3",
   "version": "3.8.8"
  }
 },
 "nbformat": 4,
 "nbformat_minor": 5
}
