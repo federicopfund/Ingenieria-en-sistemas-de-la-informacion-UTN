{
 "cells": [
  {
   "cell_type": "markdown",
   "id": "criminal-reservoir",
   "metadata": {},
   "source": [
    "# 3. Wolfram Cloud™ Integration with Python Notebooks\n",
    "\n",
    "Continuation of Wolfram Language™ for Python users. This notebook contains examples of:\n",
    "- setting up and utilising the Wolfram Cloud™ for evaluations.\n",
    "- deploying and accessing Wolfram APIs. \n",
    "- communication between languages."
   ]
  },
  {
   "cell_type": "markdown",
   "id": "swiss-bishop",
   "metadata": {},
   "source": [
    "Before you start, you will need to set up a cloud authentication key:\n",
    "\n",
    "https://reference.wolfram.com/language/WolframClientForPython/docpages/basic_usages.html#wolfram-cloud-interactions"
   ]
  },
  {
   "cell_type": "code",
   "execution_count": 1,
   "id": "lucky-scientist",
   "metadata": {},
   "outputs": [],
   "source": [
    "from wolframclient.evaluation import SecuredAuthenticationKey, WolframCloudSession\n",
    "sak = SecuredAuthenticationKey(\n",
    "    '0CRpn5DTG6P7Dhifa/6oZTlaB+/g0UPNH6cRCDVm814=',\n",
    "    'q86IUU+nz8bAh64mK/mwYhzciwv0CNK76jkkcOqxJwA=')"
   ]
  },
  {
   "cell_type": "code",
   "execution_count": 2,
   "id": "crucial-space",
   "metadata": {},
   "outputs": [
    {
     "data": {
      "text/plain": [
       "True"
      ]
     },
     "execution_count": 2,
     "metadata": {},
     "output_type": "execute_result"
    }
   ],
   "source": [
    "session = WolframCloudSession(credentials=sak)\n",
    "session.start()\n",
    "session.authorized()"
   ]
  },
  {
   "cell_type": "markdown",
   "id": "iraqi-yeast",
   "metadata": {},
   "source": [
    "The created cloud session can then be used just as with a local session:"
   ]
  },
  {
   "cell_type": "code",
   "execution_count": 3,
   "id": "allied-operator",
   "metadata": {},
   "outputs": [
    {
     "data": {
      "text/plain": [
       "PackedArray([1, 2, 3], dtype=int8)"
      ]
     },
     "execution_count": 3,
     "metadata": {},
     "output_type": "execute_result"
    }
   ],
   "source": [
    "from wolframclient.language import wl, wlexpr\n",
    "session.evaluate(wl.Range(3))"
   ]
  },
  {
   "cell_type": "markdown",
   "id": "waiting-insider",
   "metadata": {},
   "source": [
    "Note however that session.evaluate now functions as CloudEvaluate, so no information or definitions will persist:"
   ]
  },
  {
   "cell_type": "code",
   "execution_count": 4,
   "id": "secret-librarian",
   "metadata": {},
   "outputs": [
    {
     "data": {
      "text/plain": [
       "1"
      ]
     },
     "execution_count": 4,
     "metadata": {},
     "output_type": "execute_result"
    }
   ],
   "source": [
    "session.evaluate(wlexpr('x = 1'))"
   ]
  },
  {
   "cell_type": "code",
   "execution_count": 5,
   "id": "acceptable-american",
   "metadata": {},
   "outputs": [
    {
     "data": {
      "text/plain": [
       "Global`x"
      ]
     },
     "execution_count": 5,
     "metadata": {},
     "output_type": "execute_result"
    }
   ],
   "source": [
    "session.evaluate(wlexpr('x'))"
   ]
  },
  {
   "cell_type": "markdown",
   "id": "horizontal-amber",
   "metadata": {},
   "source": [
    "Functions therefore must be defined using **session.function**:"
   ]
  },
  {
   "cell_type": "code",
   "execution_count": 6,
   "id": "coastal-highway",
   "metadata": {},
   "outputs": [],
   "source": [
    "wl_str_reverse = session.function(wl.StringReverse)"
   ]
  },
  {
   "cell_type": "code",
   "execution_count": 7,
   "id": "nonprofit-madonna",
   "metadata": {},
   "outputs": [
    {
     "data": {
      "text/plain": [
       "'dcba'"
      ]
     },
     "execution_count": 7,
     "metadata": {},
     "output_type": "execute_result"
    }
   ],
   "source": [
    "wl_str_reverse(\"abcd\")"
   ]
  },
  {
   "cell_type": "markdown",
   "id": "hispanic-failing",
   "metadata": {},
   "source": [
    "## API Cloud Functions\n",
    "\n",
    "Deployed APIs are one of the most versatile ways of utilising the Wolfram Language. They can be called from within browsers, as well as other languages:"
   ]
  },
  {
   "cell_type": "code",
   "execution_count": null,
   "id": "natural-acceptance",
   "metadata": {},
   "outputs": [],
   "source": [
    "CloudConnect[\"MyWolframID\", \"myPassword\"]\n",
    "api = APIFunction[{\"x\" -> \"Integer\"},\n",
    "    #x^2 &\n",
    "]\n",
    "CloudDeploy[api, CloudObject[\"api/private/xsquared\"]]\n",
    "SetPermissions[\n",
    "    CloudObject[\"api/private/xsquared\"],\n",
    "    SecuredAuthenticationKeys[\"pythonclientlibrary\"] -> {\"Read\", \"Execute\"}\n",
    "]"
   ]
  },
  {
   "cell_type": "markdown",
   "id": "identical-craps",
   "metadata": {},
   "source": [
    "Example: Pre-built classification function training on *Titanic* passenger data: "
   ]
  },
  {
   "cell_type": "code",
   "execution_count": 9,
   "id": "induced-marking",
   "metadata": {},
   "outputs": [
    {
     "data": {
      "text/plain": [
       "'\"died\"'"
      ]
     },
     "execution_count": 9,
     "metadata": {},
     "output_type": "execute_result"
    }
   ],
   "source": [
    "cloud = WolframCloudSession()\n",
    "\n",
    "api = ('mjames', 'api/public/titanic')\n",
    "result = cloud.call(api, {'class': '1st', 'age': 43, 'gender': 'male'})\n",
    "\n",
    "result.get().decode(\"utf-8\") "
   ]
  },
  {
   "cell_type": "markdown",
   "id": "dangerous-carol",
   "metadata": {},
   "source": [
    "**WolframAPICall** represents a convenient way to perform API calls by setting up parameters separately:"
   ]
  },
  {
   "cell_type": "code",
   "execution_count": 11,
   "id": "nuclear-sweet",
   "metadata": {},
   "outputs": [
    {
     "data": {
      "text/plain": [
       "'\"died\"'"
      ]
     },
     "execution_count": 11,
     "metadata": {},
     "output_type": "execute_result"
    }
   ],
   "source": [
    "from wolframclient.evaluation import WolframAPICall\n",
    "call = WolframAPICall(cloud, ('mjames', 'api/public/titanic'))\n",
    "call.set_parameter('class', '1st')\n",
    "call.set_parameter('age', 43)\n",
    "call.set_parameter('gender', 'male')\n",
    "result = call.perform()\n",
    "result.get().decode(\"utf-8\") "
   ]
  }
 ],
 "metadata": {
  "kernelspec": {
   "display_name": "Python 3",
   "language": "python",
   "name": "python3"
  },
  "language_info": {
   "codemirror_mode": {
    "name": "ipython",
    "version": 3
   },
   "file_extension": ".py",
   "mimetype": "text/x-python",
   "name": "python",
   "nbconvert_exporter": "python",
   "pygments_lexer": "ipython3",
   "version": "3.8.3"
  }
 },
 "nbformat": 4,
 "nbformat_minor": 5
}
