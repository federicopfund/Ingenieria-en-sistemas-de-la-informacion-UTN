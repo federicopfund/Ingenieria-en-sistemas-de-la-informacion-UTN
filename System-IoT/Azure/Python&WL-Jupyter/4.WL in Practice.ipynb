{
 "cells": [
  {
   "cell_type": "markdown",
   "id": "martial-moderator",
   "metadata": {},
   "source": [
    "# 4. A Practical Example of Wolfram Cloud™ Integration\n",
    "\n",
    "Below is an example of how to utilise functionality specific to the Wolfram Language in a workflow:\n",
    "\n",
    "## Access the Wolfram Knowledgebase™ to augment data "
   ]
  },
  {
   "cell_type": "markdown",
   "id": "ruled-facial",
   "metadata": {},
   "source": [
    "First load a Pandas dataframe with data for World GDP data:"
   ]
  },
  {
   "cell_type": "code",
   "execution_count": 1,
   "id": "reliable-excess",
   "metadata": {},
   "outputs": [],
   "source": [
    "import pandas as pd\n",
    "import numpy as np\n",
    "\n",
    "from wolframclient.evaluation import WolframLanguageSession\n",
    "from wolframclient.language import wl, wlexpr\n",
    "session = WolframLanguageSession()"
   ]
  },
  {
   "cell_type": "code",
   "execution_count": 2,
   "id": "trained-inspiration",
   "metadata": {},
   "outputs": [
    {
     "data": {
      "text/html": [
       "<div>\n",
       "<style scoped>\n",
       "    .dataframe tbody tr th:only-of-type {\n",
       "        vertical-align: middle;\n",
       "    }\n",
       "\n",
       "    .dataframe tbody tr th {\n",
       "        vertical-align: top;\n",
       "    }\n",
       "\n",
       "    .dataframe thead th {\n",
       "        text-align: right;\n",
       "    }\n",
       "</style>\n",
       "<table border=\"1\" class=\"dataframe\">\n",
       "  <thead>\n",
       "    <tr style=\"text-align: right;\">\n",
       "      <th></th>\n",
       "      <th>Country Name</th>\n",
       "      <th>Country Code</th>\n",
       "      <th>1960</th>\n",
       "      <th>1961</th>\n",
       "      <th>1962</th>\n",
       "      <th>1963</th>\n",
       "      <th>1964</th>\n",
       "      <th>1965</th>\n",
       "      <th>1966</th>\n",
       "      <th>1967</th>\n",
       "      <th>...</th>\n",
       "      <th>2011</th>\n",
       "      <th>2012</th>\n",
       "      <th>2013</th>\n",
       "      <th>2014</th>\n",
       "      <th>2015</th>\n",
       "      <th>2016</th>\n",
       "      <th>2017</th>\n",
       "      <th>2018</th>\n",
       "      <th>2019</th>\n",
       "      <th>2020</th>\n",
       "    </tr>\n",
       "  </thead>\n",
       "  <tbody>\n",
       "    <tr>\n",
       "      <th>0</th>\n",
       "      <td>Aruba</td>\n",
       "      <td>ABW</td>\n",
       "      <td>NaN</td>\n",
       "      <td>NaN</td>\n",
       "      <td>NaN</td>\n",
       "      <td>NaN</td>\n",
       "      <td>NaN</td>\n",
       "      <td>NaN</td>\n",
       "      <td>NaN</td>\n",
       "      <td>NaN</td>\n",
       "      <td>...</td>\n",
       "      <td>2.549721e+09</td>\n",
       "      <td>2.534637e+09</td>\n",
       "      <td>2.701676e+09</td>\n",
       "      <td>2.765363e+09</td>\n",
       "      <td>2.919553e+09</td>\n",
       "      <td>2.965922e+09</td>\n",
       "      <td>3.056425e+09</td>\n",
       "      <td>NaN</td>\n",
       "      <td>NaN</td>\n",
       "      <td>NaN</td>\n",
       "    </tr>\n",
       "    <tr>\n",
       "      <th>1</th>\n",
       "      <td>Afghanistan</td>\n",
       "      <td>AFG</td>\n",
       "      <td>5.377778e+08</td>\n",
       "      <td>5.488889e+08</td>\n",
       "      <td>5.466667e+08</td>\n",
       "      <td>7.511112e+08</td>\n",
       "      <td>8.000000e+08</td>\n",
       "      <td>1.006667e+09</td>\n",
       "      <td>1.400000e+09</td>\n",
       "      <td>1.673333e+09</td>\n",
       "      <td>...</td>\n",
       "      <td>1.780429e+10</td>\n",
       "      <td>2.000160e+10</td>\n",
       "      <td>2.056107e+10</td>\n",
       "      <td>2.048489e+10</td>\n",
       "      <td>1.990711e+10</td>\n",
       "      <td>1.801775e+10</td>\n",
       "      <td>1.886995e+10</td>\n",
       "      <td>1.835388e+10</td>\n",
       "      <td>1.929110e+10</td>\n",
       "      <td>NaN</td>\n",
       "    </tr>\n",
       "    <tr>\n",
       "      <th>2</th>\n",
       "      <td>Angola</td>\n",
       "      <td>AGO</td>\n",
       "      <td>NaN</td>\n",
       "      <td>NaN</td>\n",
       "      <td>NaN</td>\n",
       "      <td>NaN</td>\n",
       "      <td>NaN</td>\n",
       "      <td>NaN</td>\n",
       "      <td>NaN</td>\n",
       "      <td>NaN</td>\n",
       "      <td>...</td>\n",
       "      <td>1.117897e+11</td>\n",
       "      <td>1.280529e+11</td>\n",
       "      <td>1.367099e+11</td>\n",
       "      <td>1.457122e+11</td>\n",
       "      <td>1.161936e+11</td>\n",
       "      <td>1.011239e+11</td>\n",
       "      <td>1.221238e+11</td>\n",
       "      <td>1.013532e+11</td>\n",
       "      <td>8.881570e+10</td>\n",
       "      <td>NaN</td>\n",
       "    </tr>\n",
       "    <tr>\n",
       "      <th>3</th>\n",
       "      <td>Albania</td>\n",
       "      <td>ALB</td>\n",
       "      <td>NaN</td>\n",
       "      <td>NaN</td>\n",
       "      <td>NaN</td>\n",
       "      <td>NaN</td>\n",
       "      <td>NaN</td>\n",
       "      <td>NaN</td>\n",
       "      <td>NaN</td>\n",
       "      <td>NaN</td>\n",
       "      <td>...</td>\n",
       "      <td>1.289077e+10</td>\n",
       "      <td>1.231983e+10</td>\n",
       "      <td>1.277622e+10</td>\n",
       "      <td>1.322814e+10</td>\n",
       "      <td>1.138685e+10</td>\n",
       "      <td>1.186120e+10</td>\n",
       "      <td>1.301969e+10</td>\n",
       "      <td>1.514702e+10</td>\n",
       "      <td>1.527918e+10</td>\n",
       "      <td>NaN</td>\n",
       "    </tr>\n",
       "    <tr>\n",
       "      <th>4</th>\n",
       "      <td>Andorra</td>\n",
       "      <td>AND</td>\n",
       "      <td>NaN</td>\n",
       "      <td>NaN</td>\n",
       "      <td>NaN</td>\n",
       "      <td>NaN</td>\n",
       "      <td>NaN</td>\n",
       "      <td>NaN</td>\n",
       "      <td>NaN</td>\n",
       "      <td>NaN</td>\n",
       "      <td>...</td>\n",
       "      <td>3.629204e+09</td>\n",
       "      <td>3.188809e+09</td>\n",
       "      <td>3.193704e+09</td>\n",
       "      <td>3.271808e+09</td>\n",
       "      <td>2.789870e+09</td>\n",
       "      <td>2.896679e+09</td>\n",
       "      <td>3.000181e+09</td>\n",
       "      <td>3.218316e+09</td>\n",
       "      <td>3.154058e+09</td>\n",
       "      <td>NaN</td>\n",
       "    </tr>\n",
       "  </tbody>\n",
       "</table>\n",
       "<p>5 rows × 63 columns</p>\n",
       "</div>"
      ],
      "text/plain": [
       "  Country Name Country Code          1960          1961          1962  \\\n",
       "0        Aruba          ABW           NaN           NaN           NaN   \n",
       "1  Afghanistan          AFG  5.377778e+08  5.488889e+08  5.466667e+08   \n",
       "2       Angola          AGO           NaN           NaN           NaN   \n",
       "3      Albania          ALB           NaN           NaN           NaN   \n",
       "4      Andorra          AND           NaN           NaN           NaN   \n",
       "\n",
       "           1963          1964          1965          1966          1967  ...  \\\n",
       "0           NaN           NaN           NaN           NaN           NaN  ...   \n",
       "1  7.511112e+08  8.000000e+08  1.006667e+09  1.400000e+09  1.673333e+09  ...   \n",
       "2           NaN           NaN           NaN           NaN           NaN  ...   \n",
       "3           NaN           NaN           NaN           NaN           NaN  ...   \n",
       "4           NaN           NaN           NaN           NaN           NaN  ...   \n",
       "\n",
       "           2011          2012          2013          2014          2015  \\\n",
       "0  2.549721e+09  2.534637e+09  2.701676e+09  2.765363e+09  2.919553e+09   \n",
       "1  1.780429e+10  2.000160e+10  2.056107e+10  2.048489e+10  1.990711e+10   \n",
       "2  1.117897e+11  1.280529e+11  1.367099e+11  1.457122e+11  1.161936e+11   \n",
       "3  1.289077e+10  1.231983e+10  1.277622e+10  1.322814e+10  1.138685e+10   \n",
       "4  3.629204e+09  3.188809e+09  3.193704e+09  3.271808e+09  2.789870e+09   \n",
       "\n",
       "           2016          2017          2018          2019  2020  \n",
       "0  2.965922e+09  3.056425e+09           NaN           NaN   NaN  \n",
       "1  1.801775e+10  1.886995e+10  1.835388e+10  1.929110e+10   NaN  \n",
       "2  1.011239e+11  1.221238e+11  1.013532e+11  8.881570e+10   NaN  \n",
       "3  1.186120e+10  1.301969e+10  1.514702e+10  1.527918e+10   NaN  \n",
       "4  2.896679e+09  3.000181e+09  3.218316e+09  3.154058e+09   NaN  \n",
       "\n",
       "[5 rows x 63 columns]"
      ]
     },
     "execution_count": 2,
     "metadata": {},
     "output_type": "execute_result"
    }
   ],
   "source": [
    "gdp = pd.read_csv('/tmp/WorldBankGDP.csv', skiprows=4)\n",
    "gdp = gdp.drop(['Indicator Name', 'Indicator Code', 'Unnamed: 65'], axis=1)\n",
    "gdp.head(5)"
   ]
  },
  {
   "cell_type": "code",
   "execution_count": 3,
   "id": "signed-blame",
   "metadata": {},
   "outputs": [
    {
     "name": "stdout",
     "output_type": "stream",
     "text": [
      "float64\n"
     ]
    }
   ],
   "source": [
    "print(gdp['1960'].dtypes)"
   ]
  },
  {
   "cell_type": "markdown",
   "id": "generous-elite",
   "metadata": {},
   "source": [
    "Plot the GDP of each country in 2019 against the population. Define a suitable WL function which takes any country name and returns the population:"
   ]
  },
  {
   "cell_type": "code",
   "execution_count": 4,
   "id": "touched-improvement",
   "metadata": {},
   "outputs": [],
   "source": [
    "gdppop = gdp[gdp['Country Name'] != 'World']"
   ]
  },
  {
   "cell_type": "code",
   "execution_count": 4,
   "id": "latter-brake",
   "metadata": {},
   "outputs": [],
   "source": [
    "indexNames = gdp[(gdp['Country Name'] == 'World')].index"
   ]
  },
  {
   "cell_type": "code",
   "execution_count": 5,
   "id": "reasonable-blood",
   "metadata": {},
   "outputs": [],
   "source": [
    "gdp.drop(indexNames , inplace=True)"
   ]
  },
  {
   "cell_type": "code",
   "execution_count": 6,
   "id": "civic-dealing",
   "metadata": {},
   "outputs": [
    {
     "name": "stdout",
     "output_type": "stream",
     "text": [
      "77146\n",
      "77146\n",
      "QuantityMagnitude[Missing['UnknownEntity', ('Country', 'A')]]\n",
      "nan\n"
     ]
    }
   ],
   "source": [
    "def population(country):\n",
    "    return(session.evaluate(\n",
    "        wl.QuantityMagnitude(\n",
    "                wl.EntityValue(wl.Entity(\"Country\", country), \"Population\")\n",
    "            )\n",
    "        )\n",
    "  )\n",
    "\n",
    "\n",
    "def population2(country):\n",
    "    \n",
    "    pop =  session.evaluate(wl.EntityValue(wl.Entity(\"Country\", country), \"Population\"))\n",
    "    \n",
    "    if session.evaluate(wl.MatchQ(pop, wl.Missing(wl.BlankNullSequence()))):\n",
    "        return(np.nan)\n",
    "    else:\n",
    "        return(session.evaluate(wl.QuantityMagnitude(pop)))\n",
    "        \n",
    "    \n",
    "    \n",
    "print(population(\"Andorra\"))\n",
    "print(population2(\"Andorra\"))\n",
    "print(population(\"A\"))\n",
    "print(population2(\"A\"))"
   ]
  },
  {
   "cell_type": "markdown",
   "id": "interim-picnic",
   "metadata": {},
   "source": [
    "Apply this function to the dataframe:"
   ]
  },
  {
   "cell_type": "code",
   "execution_count": 7,
   "id": "intimate-rescue",
   "metadata": {},
   "outputs": [],
   "source": [
    "gdp[\"Population\"] = gdp.apply(lambda row: population2(row['Country Name']), axis=1)"
   ]
  },
  {
   "cell_type": "code",
   "execution_count": 8,
   "id": "funded-retro",
   "metadata": {},
   "outputs": [
    {
     "data": {
      "text/html": [
       "<div>\n",
       "<style scoped>\n",
       "    .dataframe tbody tr th:only-of-type {\n",
       "        vertical-align: middle;\n",
       "    }\n",
       "\n",
       "    .dataframe tbody tr th {\n",
       "        vertical-align: top;\n",
       "    }\n",
       "\n",
       "    .dataframe thead th {\n",
       "        text-align: right;\n",
       "    }\n",
       "</style>\n",
       "<table border=\"1\" class=\"dataframe\">\n",
       "  <thead>\n",
       "    <tr style=\"text-align: right;\">\n",
       "      <th></th>\n",
       "      <th>Country Name</th>\n",
       "      <th>1960</th>\n",
       "      <th>Population</th>\n",
       "    </tr>\n",
       "  </thead>\n",
       "  <tbody>\n",
       "    <tr>\n",
       "      <th>0</th>\n",
       "      <td>Aruba</td>\n",
       "      <td>NaN</td>\n",
       "      <td>106310.0</td>\n",
       "    </tr>\n",
       "    <tr>\n",
       "      <th>1</th>\n",
       "      <td>Afghanistan</td>\n",
       "      <td>5.377778e+08</td>\n",
       "      <td>38041757.0</td>\n",
       "    </tr>\n",
       "    <tr>\n",
       "      <th>2</th>\n",
       "      <td>Angola</td>\n",
       "      <td>NaN</td>\n",
       "      <td>31825299.0</td>\n",
       "    </tr>\n",
       "    <tr>\n",
       "      <th>3</th>\n",
       "      <td>Albania</td>\n",
       "      <td>NaN</td>\n",
       "      <td>2880913.0</td>\n",
       "    </tr>\n",
       "    <tr>\n",
       "      <th>4</th>\n",
       "      <td>Andorra</td>\n",
       "      <td>NaN</td>\n",
       "      <td>77146.0</td>\n",
       "    </tr>\n",
       "    <tr>\n",
       "      <th>...</th>\n",
       "      <td>...</td>\n",
       "      <td>...</td>\n",
       "      <td>...</td>\n",
       "    </tr>\n",
       "    <tr>\n",
       "      <th>259</th>\n",
       "      <td>Kosovo</td>\n",
       "      <td>NaN</td>\n",
       "      <td>1859203.0</td>\n",
       "    </tr>\n",
       "    <tr>\n",
       "      <th>260</th>\n",
       "      <td>Yemen, Rep.</td>\n",
       "      <td>NaN</td>\n",
       "      <td>NaN</td>\n",
       "    </tr>\n",
       "    <tr>\n",
       "      <th>261</th>\n",
       "      <td>South Africa</td>\n",
       "      <td>7.575397e+09</td>\n",
       "      <td>NaN</td>\n",
       "    </tr>\n",
       "    <tr>\n",
       "      <th>262</th>\n",
       "      <td>Zambia</td>\n",
       "      <td>7.130000e+08</td>\n",
       "      <td>17861034.0</td>\n",
       "    </tr>\n",
       "    <tr>\n",
       "      <th>263</th>\n",
       "      <td>Zimbabwe</td>\n",
       "      <td>1.052990e+09</td>\n",
       "      <td>14645473.0</td>\n",
       "    </tr>\n",
       "  </tbody>\n",
       "</table>\n",
       "<p>263 rows × 3 columns</p>\n",
       "</div>"
      ],
      "text/plain": [
       "     Country Name          1960  Population\n",
       "0           Aruba           NaN    106310.0\n",
       "1     Afghanistan  5.377778e+08  38041757.0\n",
       "2          Angola           NaN  31825299.0\n",
       "3         Albania           NaN   2880913.0\n",
       "4         Andorra           NaN     77146.0\n",
       "..            ...           ...         ...\n",
       "259        Kosovo           NaN   1859203.0\n",
       "260   Yemen, Rep.           NaN         NaN\n",
       "261  South Africa  7.575397e+09         NaN\n",
       "262        Zambia  7.130000e+08  17861034.0\n",
       "263      Zimbabwe  1.052990e+09  14645473.0\n",
       "\n",
       "[263 rows x 3 columns]"
      ]
     },
     "execution_count": 8,
     "metadata": {},
     "output_type": "execute_result"
    }
   ],
   "source": [
    "gdp[[\"Country Name\", \"1960\", \"Population\"]]"
   ]
  },
  {
   "cell_type": "markdown",
   "id": "declared-karen",
   "metadata": {},
   "source": [
    "Ensure that NaNs imputed are handled correctly:"
   ]
  },
  {
   "cell_type": "code",
   "execution_count": 10,
   "id": "bibliographic-updating",
   "metadata": {},
   "outputs": [
    {
     "name": "stdout",
     "output_type": "stream",
     "text": [
      "float64\n"
     ]
    }
   ],
   "source": [
    "print(gdp['Population'].dtypes)"
   ]
  },
  {
   "cell_type": "code",
   "execution_count": 11,
   "id": "injured-eugene",
   "metadata": {},
   "outputs": [
    {
     "data": {
      "image/png": "[encoded data removed]",
      "text/plain": [
       "<Figure size 432x288 with 1 Axes>"
      ]
     },
     "metadata": {
      "needs_background": "light"
     },
     "output_type": "display_data"
    }
   ],
   "source": [
    "gdp.plot.scatter(x=\"Population\", y=\"2019\");"
   ]
  }
 ],
 "metadata": {
  "kernelspec": {
   "display_name": "Python 3",
   "language": "python",
   "name": "python3"
  },
  "language_info": {
   "codemirror_mode": {
    "name": "ipython",
    "version": 3
   },
   "file_extension": ".py",
   "mimetype": "text/x-python",
   "name": "python",
   "nbconvert_exporter": "python",
   "pygments_lexer": "ipython3",
   "version": "3.8.3"
  }
 },
 "nbformat": 4,
 "nbformat_minor": 5
}
