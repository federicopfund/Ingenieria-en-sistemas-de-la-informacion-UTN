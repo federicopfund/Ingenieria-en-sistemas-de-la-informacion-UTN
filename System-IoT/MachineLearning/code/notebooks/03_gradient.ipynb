{
 "cells": [
  {
   "cell_type": "markdown",
   "metadata": {},
   "source": [
    "# Chapter 3: Walking the Gradient"
   ]
  },
  {
   "cell_type": "markdown",
   "metadata": {},
   "source": [
    "## Gradient Descent"
   ]
  },
  {
   "cell_type": "code",
   "execution_count": 1,
   "metadata": {
    "vscode": {
     "languageId": "python"
    }
   },
   "outputs": [],
   "source": [
    "import numpy as np"
   ]
  },
  {
   "cell_type": "code",
   "execution_count": 2,
   "metadata": {
    "vscode": {
     "languageId": "python"
    }
   },
   "outputs": [],
   "source": [
    "def predict(X, w, b):\n",
    "    return X * w + b"
   ]
  },
  {
   "cell_type": "code",
   "execution_count": 3,
   "metadata": {
    "vscode": {
     "languageId": "python"
    }
   },
   "outputs": [],
   "source": [
    "def loss(X, Y, w, b):\n",
    "    return np.average((predict(X, w, b) - Y) ** 2)"
   ]
  },
  {
   "cell_type": "code",
   "execution_count": 4,
   "metadata": {
    "vscode": {
     "languageId": "python"
    }
   },
   "outputs": [],
   "source": [
    "def gradient(X, Y, w):\n",
    "    return 2 * np.average(X * (predict(X, w, 0) - Y))"
   ]
  },
  {
   "cell_type": "code",
   "execution_count": 5,
   "metadata": {
    "vscode": {
     "languageId": "python"
    }
   },
   "outputs": [],
   "source": [
    "def train(X, Y, iterations, lr):\n",
    "    w=0\n",
    "    for i in range(iterations):\n",
    "        print(\"Iteration %4d => Loss: %.10f\" % (i, loss(X, Y, w, 0)))\n",
    "        w -= gradient(X, Y, w) * lr\n",
    "    return w"
   ]
  },
  {
   "cell_type": "code",
   "execution_count": 6,
   "metadata": {
    "vscode": {
     "languageId": "python"
    }
   },
   "outputs": [
    {
     "name": "stdout",
     "output_type": "stream",
     "text": [
      "Iteration    0 => Loss: 812.8666666667\n",
      "Iteration    1 => Loss: 304.3630879787\n",
      "Iteration    2 => Loss: 143.5265791020\n",
      "Iteration    3 => Loss: 92.6549949641\n",
      "Iteration    4 => Loss: 76.5646303400\n",
      "Iteration    5 => Loss: 71.4753484132\n",
      "Iteration    6 => Loss: 69.8656402969\n",
      "Iteration    7 => Loss: 69.3564996643\n",
      "Iteration    8 => Loss: 69.1954616593\n",
      "Iteration    9 => Loss: 69.1445263431\n",
      "Iteration   10 => Loss: 69.1284158205\n",
      "Iteration   11 => Loss: 69.1233201627\n",
      "Iteration   12 => Loss: 69.1217084379\n",
      "Iteration   13 => Loss: 69.1211986595\n",
      "Iteration   14 => Loss: 69.1210374197\n",
      "Iteration   15 => Loss: 69.1209864206\n",
      "Iteration   16 => Loss: 69.1209702899\n",
      "Iteration   17 => Loss: 69.1209651878\n",
      "Iteration   18 => Loss: 69.1209635741\n",
      "Iteration   19 => Loss: 69.1209630637\n",
      "Iteration   20 => Loss: 69.1209629022\n",
      "Iteration   21 => Loss: 69.1209628512\n",
      "Iteration   22 => Loss: 69.1209628350\n",
      "Iteration   23 => Loss: 69.1209628299\n",
      "Iteration   24 => Loss: 69.1209628283\n",
      "Iteration   25 => Loss: 69.1209628278\n",
      "Iteration   26 => Loss: 69.1209628276\n",
      "Iteration   27 => Loss: 69.1209628276\n",
      "Iteration   28 => Loss: 69.1209628276\n",
      "Iteration   29 => Loss: 69.1209628275\n",
      "Iteration   30 => Loss: 69.1209628275\n",
      "Iteration   31 => Loss: 69.1209628275\n",
      "Iteration   32 => Loss: 69.1209628275\n",
      "Iteration   33 => Loss: 69.1209628275\n",
      "Iteration   34 => Loss: 69.1209628275\n",
      "Iteration   35 => Loss: 69.1209628275\n",
      "Iteration   36 => Loss: 69.1209628275\n",
      "Iteration   37 => Loss: 69.1209628275\n",
      "Iteration   38 => Loss: 69.1209628275\n",
      "Iteration   39 => Loss: 69.1209628275\n",
      "Iteration   40 => Loss: 69.1209628275\n",
      "Iteration   41 => Loss: 69.1209628275\n",
      "Iteration   42 => Loss: 69.1209628275\n",
      "Iteration   43 => Loss: 69.1209628275\n",
      "Iteration   44 => Loss: 69.1209628275\n",
      "Iteration   45 => Loss: 69.1209628275\n",
      "Iteration   46 => Loss: 69.1209628275\n",
      "Iteration   47 => Loss: 69.1209628275\n",
      "Iteration   48 => Loss: 69.1209628275\n",
      "Iteration   49 => Loss: 69.1209628275\n",
      "Iteration   50 => Loss: 69.1209628275\n",
      "Iteration   51 => Loss: 69.1209628275\n",
      "Iteration   52 => Loss: 69.1209628275\n",
      "Iteration   53 => Loss: 69.1209628275\n",
      "Iteration   54 => Loss: 69.1209628275\n",
      "Iteration   55 => Loss: 69.1209628275\n",
      "Iteration   56 => Loss: 69.1209628275\n",
      "Iteration   57 => Loss: 69.1209628275\n",
      "Iteration   58 => Loss: 69.1209628275\n",
      "Iteration   59 => Loss: 69.1209628275\n",
      "Iteration   60 => Loss: 69.1209628275\n",
      "Iteration   61 => Loss: 69.1209628275\n",
      "Iteration   62 => Loss: 69.1209628275\n",
      "Iteration   63 => Loss: 69.1209628275\n",
      "Iteration   64 => Loss: 69.1209628275\n",
      "Iteration   65 => Loss: 69.1209628275\n",
      "Iteration   66 => Loss: 69.1209628275\n",
      "Iteration   67 => Loss: 69.1209628275\n",
      "Iteration   68 => Loss: 69.1209628275\n",
      "Iteration   69 => Loss: 69.1209628275\n",
      "Iteration   70 => Loss: 69.1209628275\n",
      "Iteration   71 => Loss: 69.1209628275\n",
      "Iteration   72 => Loss: 69.1209628275\n",
      "Iteration   73 => Loss: 69.1209628275\n",
      "Iteration   74 => Loss: 69.1209628275\n",
      "Iteration   75 => Loss: 69.1209628275\n",
      "Iteration   76 => Loss: 69.1209628275\n",
      "Iteration   77 => Loss: 69.1209628275\n",
      "Iteration   78 => Loss: 69.1209628275\n",
      "Iteration   79 => Loss: 69.1209628275\n",
      "Iteration   80 => Loss: 69.1209628275\n",
      "Iteration   81 => Loss: 69.1209628275\n",
      "Iteration   82 => Loss: 69.1209628275\n",
      "Iteration   83 => Loss: 69.1209628275\n",
      "Iteration   84 => Loss: 69.1209628275\n",
      "Iteration   85 => Loss: 69.1209628275\n",
      "Iteration   86 => Loss: 69.1209628275\n",
      "Iteration   87 => Loss: 69.1209628275\n",
      "Iteration   88 => Loss: 69.1209628275\n",
      "Iteration   89 => Loss: 69.1209628275\n",
      "Iteration   90 => Loss: 69.1209628275\n",
      "Iteration   91 => Loss: 69.1209628275\n",
      "Iteration   92 => Loss: 69.1209628275\n",
      "Iteration   93 => Loss: 69.1209628275\n",
      "Iteration   94 => Loss: 69.1209628275\n",
      "Iteration   95 => Loss: 69.1209628275\n",
      "Iteration   96 => Loss: 69.1209628275\n",
      "Iteration   97 => Loss: 69.1209628275\n",
      "Iteration   98 => Loss: 69.1209628275\n",
      "Iteration   99 => Loss: 69.1209628275\n",
      "\n",
      "w=1.8436928702\n"
     ]
    }
   ],
   "source": [
    "X, Y = np.loadtxt(\"pizza.txt\", skiprows=1, unpack=True)\n",
    "w = train(X, Y, iterations=100, lr=0.001)\n",
    "print(\"\\nw=%.10f\" % w)"
   ]
  },
  {
   "cell_type": "markdown",
   "metadata": {},
   "source": [
    "## Putting Gradient Descent to the Test"
   ]
  },
  {
   "cell_type": "code",
   "execution_count": null,
   "metadata": {
    "vscode": {
     "languageId": "python"
    }
   },
   "outputs": [],
   "source": [
    "def gradient(X, Y, w, b):\n",
    "    w_gradient = 2 * np.average(X * (predict(X, w, b) - Y))\n",
    "    b_gradient = 2 * np.average(predict(X, w, b) - Y)\n",
    "    return (w_gradient, b_gradient)"
   ]
  },
  {
   "cell_type": "code",
   "execution_count": null,
   "metadata": {
    "vscode": {
     "languageId": "python"
    }
   },
   "outputs": [],
   "source": [
    "def train_without_gd(X, Y, iterations, lr):\n",
    "    w = b = 0\n",
    "    for i in range(iterations):\n",
    "        current_loss = loss(X, Y, w, b)\n",
    "        print(\"Iteration %4d => Loss: %.6f\" % (i, current_loss))\n",
    "\n",
    "        if loss(X, Y, w + lr, b) < current_loss:\n",
    "            w += lr\n",
    "        elif loss(X, Y, w - lr, b) < current_loss:\n",
    "            w -= lr\n",
    "        elif loss(X, Y, w, b + lr) < current_loss:\n",
    "            b += lr\n",
    "        elif loss(X, Y, w, b - lr) < current_loss:\n",
    "            b -= lr\n",
    "        else:\n",
    "            return w, b\n",
    "\n",
    "    raise Exception(\"Couldn't converge within %d iterations\" % iterations)"
   ]
  },
  {
   "cell_type": "code",
   "execution_count": null,
   "metadata": {
    "vscode": {
     "languageId": "python"
    }
   },
   "outputs": [],
   "source": [
    "# Train without GD\n",
    "w, b = train_without_gd(X, Y, iterations=10000000, lr=0.0001)\n",
    "print(\"\\nw=%.3f, b=%.3f\" % (w, b))\n",
    "print(\"Prediction: x=%d => y=%.2f\" % (20, predict(20, w, b)))"
   ]
  },
  {
   "cell_type": "code",
   "execution_count": null,
   "metadata": {
    "vscode": {
     "languageId": "python"
    }
   },
   "outputs": [],
   "source": [
    "def train(X, Y, iterations, lr):\n",
    "    w = b = 0\n",
    "    for i in range(iterations):\n",
    "        print(\"Iteration %4d => Loss: %.10f\" % (i, loss(X, Y, w, b)))\n",
    "        w_gradient, b_gradient = gradient(X, Y, w, b)\n",
    "        w -= w_gradient * lr\n",
    "        b -= b_gradient * lr\n",
    "    return w, b"
   ]
  },
  {
   "cell_type": "code",
   "execution_count": null,
   "metadata": {
    "vscode": {
     "languageId": "python"
    }
   },
   "outputs": [],
   "source": [
    "# Train with GD\n",
    "w, b = train(X, Y, iterations=20000, lr=0.001)\n",
    "print(\"\\nw=%.10f, b=%.10f\" % (w, b))\n",
    "print(\"Prediction: x=%d => y=%.2f\" % (20, predict(20, w, b)))"
   ]
  },
  {
   "cell_type": "code",
   "execution_count": null,
   "metadata": {
    "vscode": {
     "languageId": "python"
    }
   },
   "outputs": [],
   "source": []
  }
 ],
 "metadata": {
  "interpreter": {
   "hash": "f56fb68111aa59acb18e045ab5b7ca177ec8a0a62474e877ebf222a9a927e4e2"
  },
  "kernelspec": {
   "display_name": "Wolfram Language 12.2",
   "language": "Wolfram Language",
   "name": "wolframlanguage12.2"
  },
  "language_info": {
   "codemirror_mode": {
    "name": "ipython",
    "version": 3
   },
   "file_extension": ".py",
   "mimetype": "text/x-python",
   "name": "Wolfram Language",
   "nbconvert_exporter": "python",
   "pygments_lexer": "ipython3",
   "version": "3.8.8"
  }
 },
 "nbformat": 4,
 "nbformat_minor": 2
}
